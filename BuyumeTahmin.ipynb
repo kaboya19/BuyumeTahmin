{
 "cells": [
  {
   "cell_type": "code",
   "execution_count": 1,
   "metadata": {},
   "outputs": [],
   "source": [
    "import pandas as pd\n",
    "import evds\n",
    "import numpy as np\n",
    "import matplotlib.pyplot as plt\n",
    "from lazypredict.Supervised import LazyRegressor\n",
    "import matplotlib.pyplot as plt\n",
    "plt.style.use('fivethirtyeight')\n",
    "from datetime import date\n",
    "from sklearn.linear_model import SGDRegressor\n",
    "from sklearn.metrics import mean_squared_error\n",
    "from sklearn.model_selection import GridSearchCV\n",
    "from sklearn.gaussian_process.kernels import DotProduct, WhiteKernel\n",
    "from sklearn import linear_model\n",
    "from statsmodels.tsa.statespace.sarimax import SARIMAX\n",
    "from itertools import combinations\n",
    "from sklearn.preprocessing import StandardScaler\n",
    "from statsmodels.tsa.api import VAR\n",
    "from sklearn.neural_network import MLPRegressor\n",
    "from sklearn.model_selection import ParameterGrid\n",
    "import numpy as np\n",
    "import seaborn as sns\n",
    "import warnings\n",
    "from sklearn.pipeline import make_pipeline\n",
    "from sklearn.kernel_ridge import KernelRidge\n",
    "from statsmodels.tsa.arima.model import ARIMA\n",
    "from sklearn.preprocessing import StandardScaler\n",
    "from sklearn.datasets import make_friedman2\n",
    "from sklearn.ensemble import RandomForestRegressor\n",
    "from sklearn.gaussian_process import GaussianProcessRegressor\n",
    "from sklearn.ensemble import VotingRegressor\n",
    "from sklearn.neural_network import MLPRegressor\n",
    "from sklearn.model_selection import train_test_split \n",
    "from sklearn.linear_model import SGDRegressor\n",
    "import statsmodels.api as sm\n",
    "import itertools\n",
    "import pmdarima as pm\n",
    "from sklearn.pipeline import make_pipeline\n",
    "from pmdarima.arima import auto_arima\n",
    "from sklearn.kernel_ridge import KernelRidge\t\t\n",
    "from sklearn.linear_model import LinearRegression\n",
    "from statsmodels.tsa.ar_model import AutoReg\n",
    "from sklearn.ensemble import GradientBoostingRegressor\n",
    "from sklearn.metrics import mean_squared_error\n",
    "from sklearn.tree import DecisionTreeRegressor\n",
    "from pmdarima.model_selection import train_test_split\n",
    "from evds import evdsAPI\n",
    "import pandas as pd\n",
    "import numpy as np\n",
    "import requests\n",
    "import json\n",
    "from urllib.parse import urlencode\n",
    "warnings.filterwarnings(\"ignore\")"
   ]
  },
  {
   "cell_type": "code",
   "execution_count": 189,
   "metadata": {},
   "outputs": [],
   "source": [
    "buyume=pd.read_excel(\"gayrisafi yurtici hasila uretim yontemiyle mevsim ve takvim etkisinden arindirilmis zincirlenmis hac.xls\")\n",
    "buyume=buyume.iloc[:33,[1,19,20,21,22]].dropna().T\n",
    "veri=[]\n",
    "for i in range(1,len(buyume.columns)):\n",
    "   veri.append(buyume.iloc[:,i].values[1:])"
   ]
  },
  {
   "cell_type": "code",
   "execution_count": 190,
   "metadata": {},
   "outputs": [
    {
     "data": {
      "text/html": [
       "<div>\n",
       "<style scoped>\n",
       "    .dataframe tbody tr th:only-of-type {\n",
       "        vertical-align: middle;\n",
       "    }\n",
       "\n",
       "    .dataframe tbody tr th {\n",
       "        vertical-align: top;\n",
       "    }\n",
       "\n",
       "    .dataframe thead th {\n",
       "        text-align: right;\n",
       "    }\n",
       "</style>\n",
       "<table border=\"1\" class=\"dataframe\">\n",
       "  <thead>\n",
       "    <tr style=\"text-align: right;\">\n",
       "      <th></th>\n",
       "      <th>Büyüme</th>\n",
       "    </tr>\n",
       "  </thead>\n",
       "  <tbody>\n",
       "    <tr>\n",
       "      <th>1999-03-31</th>\n",
       "      <td>-1.69</td>\n",
       "    </tr>\n",
       "    <tr>\n",
       "      <th>1999-06-30</th>\n",
       "      <td>-0.56</td>\n",
       "    </tr>\n",
       "    <tr>\n",
       "      <th>1999-09-30</th>\n",
       "      <td>-1.69</td>\n",
       "    </tr>\n",
       "    <tr>\n",
       "      <th>1999-12-31</th>\n",
       "      <td>2.99</td>\n",
       "    </tr>\n",
       "    <tr>\n",
       "      <th>2000-03-31</th>\n",
       "      <td>1.57</td>\n",
       "    </tr>\n",
       "    <tr>\n",
       "      <th>...</th>\n",
       "      <td>...</td>\n",
       "    </tr>\n",
       "    <tr>\n",
       "      <th>2022-12-31</th>\n",
       "      <td>1.15</td>\n",
       "    </tr>\n",
       "    <tr>\n",
       "      <th>2023-03-31</th>\n",
       "      <td>-0.16</td>\n",
       "    </tr>\n",
       "    <tr>\n",
       "      <th>2023-06-30</th>\n",
       "      <td>3.61</td>\n",
       "    </tr>\n",
       "    <tr>\n",
       "      <th>2023-09-30</th>\n",
       "      <td>0.31</td>\n",
       "    </tr>\n",
       "    <tr>\n",
       "      <th>2023-12-31</th>\n",
       "      <td>0.95</td>\n",
       "    </tr>\n",
       "  </tbody>\n",
       "</table>\n",
       "<p>100 rows × 1 columns</p>\n",
       "</div>"
      ],
      "text/plain": [
       "           Büyüme\n",
       "1999-03-31  -1.69\n",
       "1999-06-30  -0.56\n",
       "1999-09-30  -1.69\n",
       "1999-12-31   2.99\n",
       "2000-03-31   1.57\n",
       "...           ...\n",
       "2022-12-31   1.15\n",
       "2023-03-31  -0.16\n",
       "2023-06-30   3.61\n",
       "2023-09-30   0.31\n",
       "2023-12-31   0.95\n",
       "\n",
       "[100 rows x 1 columns]"
      ]
     },
     "execution_count": 190,
     "metadata": {},
     "output_type": "execute_result"
    }
   ],
   "source": [
    "veri=np.array(veri)\n",
    "veri=veri.reshape(1,-1)\n",
    "veri=pd.DataFrame(veri.T)\n",
    "veri.columns=[\"Büyüme\"]\n",
    "veri=veri.set_index(pd.date_range(start=\"1999-03-31\",freq=\"Q\",periods=len(veri)))\n",
    "veri"
   ]
  },
  {
   "cell_type": "code",
   "execution_count": 95,
   "metadata": {},
   "outputs": [],
   "source": [
    "with open(\"C:/Users/Bora/Desktop/api.txt\") as api:\n",
    "    key=api.read()"
   ]
  },
  {
   "cell_type": "code",
   "execution_count": 96,
   "metadata": {},
   "outputs": [
    {
     "data": {
      "text/html": [
       "<div>\n",
       "<style scoped>\n",
       "    .dataframe tbody tr th:only-of-type {\n",
       "        vertical-align: middle;\n",
       "    }\n",
       "\n",
       "    .dataframe tbody tr th {\n",
       "        vertical-align: top;\n",
       "    }\n",
       "\n",
       "    .dataframe thead th {\n",
       "        text-align: right;\n",
       "    }\n",
       "</style>\n",
       "<table border=\"1\" class=\"dataframe\">\n",
       "  <thead>\n",
       "    <tr style=\"text-align: right;\">\n",
       "      <th></th>\n",
       "      <th>USD/TL</th>\n",
       "    </tr>\n",
       "  </thead>\n",
       "  <tbody>\n",
       "    <tr>\n",
       "      <th>2006-06-30</th>\n",
       "      <td>9.34</td>\n",
       "    </tr>\n",
       "    <tr>\n",
       "      <th>2006-09-30</th>\n",
       "      <td>3.11</td>\n",
       "    </tr>\n",
       "    <tr>\n",
       "      <th>2006-12-31</th>\n",
       "      <td>-2.95</td>\n",
       "    </tr>\n",
       "    <tr>\n",
       "      <th>2007-03-31</th>\n",
       "      <td>-3.18</td>\n",
       "    </tr>\n",
       "    <tr>\n",
       "      <th>2007-06-30</th>\n",
       "      <td>-5.02</td>\n",
       "    </tr>\n",
       "    <tr>\n",
       "      <th>...</th>\n",
       "      <td>...</td>\n",
       "    </tr>\n",
       "    <tr>\n",
       "      <th>2023-06-30</th>\n",
       "      <td>9.53</td>\n",
       "    </tr>\n",
       "    <tr>\n",
       "      <th>2023-09-30</th>\n",
       "      <td>29.66</td>\n",
       "    </tr>\n",
       "    <tr>\n",
       "      <th>2023-12-31</th>\n",
       "      <td>6.29</td>\n",
       "    </tr>\n",
       "    <tr>\n",
       "      <th>2024-03-31</th>\n",
       "      <td>8.45</td>\n",
       "    </tr>\n",
       "    <tr>\n",
       "      <th>2024-06-30</th>\n",
       "      <td>4.57</td>\n",
       "    </tr>\n",
       "  </tbody>\n",
       "</table>\n",
       "<p>73 rows × 1 columns</p>\n",
       "</div>"
      ],
      "text/plain": [
       "            USD/TL\n",
       "2006-06-30    9.34\n",
       "2006-09-30    3.11\n",
       "2006-12-31   -2.95\n",
       "2007-03-31   -3.18\n",
       "2007-06-30   -5.02\n",
       "...            ...\n",
       "2023-06-30    9.53\n",
       "2023-09-30   29.66\n",
       "2023-12-31    6.29\n",
       "2024-03-31    8.45\n",
       "2024-06-30    4.57\n",
       "\n",
       "[73 rows x 1 columns]"
      ]
     },
     "execution_count": 96,
     "metadata": {},
     "output_type": "execute_result"
    }
   ],
   "source": [
    "params = {\n",
    "    'series': \"TP.DK.USD.S.YTL\",\n",
    "    'startDate': \"01-01-2006\",\n",
    "    'endDate': date.today().strftime(\"%d-%m-%Y\"),\n",
    "    'frequency': 6,\n",
    "    'aggregationTypes': 'avg',\n",
    "    'type': 'json'\n",
    "}\n",
    "\n",
    "url = f'https://evds2.tcmb.gov.tr/service/evds/{urlencode(params)}'\n",
    "\n",
    "response = requests.get(url=url, headers={'key': key})\n",
    "\n",
    "# print(response.request.headers)\n",
    "\n",
    "formatted_response = json.loads(response.content)\n",
    "\n",
    "usd = formatted_response['items']\n",
    "usd = pd.DataFrame(usd)\n",
    "\n",
    "\n",
    "usd = usd.drop(columns=['UNIXTIME','Tarih'])\n",
    "usd.columns = ['USD/TL']\n",
    "usd['USD/TL'] = pd.to_numeric(usd['USD/TL'])\n",
    "usd=usd.set_index(pd.date_range(start=\"2006-01-31\",freq=\"Q\",periods=len(usd)))\n",
    "usd=usd.pct_change()*100\n",
    "usd=usd.dropna()\n",
    "usd"
   ]
  },
  {
   "cell_type": "code",
   "execution_count": 97,
   "metadata": {},
   "outputs": [
    {
     "data": {
      "text/html": [
       "<div>\n",
       "<style scoped>\n",
       "    .dataframe tbody tr th:only-of-type {\n",
       "        vertical-align: middle;\n",
       "    }\n",
       "\n",
       "    .dataframe tbody tr th {\n",
       "        vertical-align: top;\n",
       "    }\n",
       "\n",
       "    .dataframe thead th {\n",
       "        text-align: right;\n",
       "    }\n",
       "</style>\n",
       "<table border=\"1\" class=\"dataframe\">\n",
       "  <thead>\n",
       "    <tr style=\"text-align: right;\">\n",
       "      <th></th>\n",
       "      <th>Kredi</th>\n",
       "    </tr>\n",
       "  </thead>\n",
       "  <tbody>\n",
       "    <tr>\n",
       "      <th>2008-03-31</th>\n",
       "      <td>8.30</td>\n",
       "    </tr>\n",
       "    <tr>\n",
       "      <th>2008-06-30</th>\n",
       "      <td>9.38</td>\n",
       "    </tr>\n",
       "    <tr>\n",
       "      <th>2008-09-30</th>\n",
       "      <td>6.21</td>\n",
       "    </tr>\n",
       "    <tr>\n",
       "      <th>2008-12-31</th>\n",
       "      <td>2.12</td>\n",
       "    </tr>\n",
       "    <tr>\n",
       "      <th>2009-03-31</th>\n",
       "      <td>-2.37</td>\n",
       "    </tr>\n",
       "    <tr>\n",
       "      <th>...</th>\n",
       "      <td>...</td>\n",
       "    </tr>\n",
       "    <tr>\n",
       "      <th>2023-03-31</th>\n",
       "      <td>12.10</td>\n",
       "    </tr>\n",
       "    <tr>\n",
       "      <th>2023-06-30</th>\n",
       "      <td>15.38</td>\n",
       "    </tr>\n",
       "    <tr>\n",
       "      <th>2023-09-30</th>\n",
       "      <td>11.52</td>\n",
       "    </tr>\n",
       "    <tr>\n",
       "      <th>2023-12-31</th>\n",
       "      <td>8.22</td>\n",
       "    </tr>\n",
       "    <tr>\n",
       "      <th>2024-03-31</th>\n",
       "      <td>9.76</td>\n",
       "    </tr>\n",
       "  </tbody>\n",
       "</table>\n",
       "<p>65 rows × 1 columns</p>\n",
       "</div>"
      ],
      "text/plain": [
       "            Kredi\n",
       "2008-03-31   8.30\n",
       "2008-06-30   9.38\n",
       "2008-09-30   6.21\n",
       "2008-12-31   2.12\n",
       "2009-03-31  -2.37\n",
       "...           ...\n",
       "2023-03-31  12.10\n",
       "2023-06-30  15.38\n",
       "2023-09-30  11.52\n",
       "2023-12-31   8.22\n",
       "2024-03-31   9.76\n",
       "\n",
       "[65 rows x 1 columns]"
      ]
     },
     "execution_count": 97,
     "metadata": {},
     "output_type": "execute_result"
    }
   ],
   "source": [
    "params = {\n",
    "    'series': \"TP.KREHACBS.A1\",\n",
    "    'startDate': \"31-12-2007\",\n",
    "    'endDate': date.today().strftime(\"%d-%m-%Y\"),\n",
    "    'frequency': 6,\n",
    "    'aggregationTypes': 'avg',\n",
    "    'type': 'json'\n",
    "}\n",
    "\n",
    "url = f'https://evds2.tcmb.gov.tr/service/evds/{urlencode(params)}'\n",
    "\n",
    "response = requests.get(url=url, headers={'key': key})\n",
    "\n",
    "# print(response.request.headers)\n",
    "\n",
    "formatted_response = json.loads(response.content)\n",
    "\n",
    "kredi = formatted_response['items']\n",
    "kredi = pd.DataFrame(kredi)\n",
    "\n",
    "\n",
    "kredi = kredi.drop(columns=['UNIXTIME','Tarih'])\n",
    "kredi.columns = ['Kredi']\n",
    "kredi['Kredi'] = pd.to_numeric(kredi['Kredi'])\n",
    "kredi=kredi.set_index(pd.date_range(start=\"31-12-2007\",freq=\"Q\",periods=len(kredi)))\n",
    "kredi=kredi.pct_change()*100\n",
    "kredi=kredi.dropna()\n",
    "kredi"
   ]
  },
  {
   "cell_type": "code",
   "execution_count": 98,
   "metadata": {},
   "outputs": [
    {
     "data": {
      "text/html": [
       "<div>\n",
       "<style scoped>\n",
       "    .dataframe tbody tr th:only-of-type {\n",
       "        vertical-align: middle;\n",
       "    }\n",
       "\n",
       "    .dataframe tbody tr th {\n",
       "        vertical-align: top;\n",
       "    }\n",
       "\n",
       "    .dataframe thead th {\n",
       "        text-align: right;\n",
       "    }\n",
       "</style>\n",
       "<table border=\"1\" class=\"dataframe\">\n",
       "  <thead>\n",
       "    <tr style=\"text-align: right;\">\n",
       "      <th></th>\n",
       "      <th>Kart</th>\n",
       "    </tr>\n",
       "  </thead>\n",
       "  <tbody>\n",
       "    <tr>\n",
       "      <th>2014-06-30</th>\n",
       "      <td>6.76</td>\n",
       "    </tr>\n",
       "    <tr>\n",
       "      <th>2014-09-30</th>\n",
       "      <td>4.45</td>\n",
       "    </tr>\n",
       "    <tr>\n",
       "      <th>2014-12-31</th>\n",
       "      <td>0.34</td>\n",
       "    </tr>\n",
       "    <tr>\n",
       "      <th>2015-03-31</th>\n",
       "      <td>2.98</td>\n",
       "    </tr>\n",
       "    <tr>\n",
       "      <th>2015-06-30</th>\n",
       "      <td>10.86</td>\n",
       "    </tr>\n",
       "    <tr>\n",
       "      <th>2015-09-30</th>\n",
       "      <td>2.10</td>\n",
       "    </tr>\n",
       "    <tr>\n",
       "      <th>2015-12-31</th>\n",
       "      <td>-0.96</td>\n",
       "    </tr>\n",
       "    <tr>\n",
       "      <th>2016-03-31</th>\n",
       "      <td>0.43</td>\n",
       "    </tr>\n",
       "    <tr>\n",
       "      <th>2016-06-30</th>\n",
       "      <td>7.91</td>\n",
       "    </tr>\n",
       "    <tr>\n",
       "      <th>2016-09-30</th>\n",
       "      <td>1.06</td>\n",
       "    </tr>\n",
       "    <tr>\n",
       "      <th>2016-12-31</th>\n",
       "      <td>0.56</td>\n",
       "    </tr>\n",
       "    <tr>\n",
       "      <th>2017-03-31</th>\n",
       "      <td>1.78</td>\n",
       "    </tr>\n",
       "    <tr>\n",
       "      <th>2017-06-30</th>\n",
       "      <td>9.03</td>\n",
       "    </tr>\n",
       "    <tr>\n",
       "      <th>2017-09-30</th>\n",
       "      <td>6.16</td>\n",
       "    </tr>\n",
       "    <tr>\n",
       "      <th>2017-12-31</th>\n",
       "      <td>1.36</td>\n",
       "    </tr>\n",
       "    <tr>\n",
       "      <th>2018-03-31</th>\n",
       "      <td>0.84</td>\n",
       "    </tr>\n",
       "    <tr>\n",
       "      <th>2018-06-30</th>\n",
       "      <td>10.63</td>\n",
       "    </tr>\n",
       "    <tr>\n",
       "      <th>2018-09-30</th>\n",
       "      <td>7.89</td>\n",
       "    </tr>\n",
       "    <tr>\n",
       "      <th>2018-12-31</th>\n",
       "      <td>-3.96</td>\n",
       "    </tr>\n",
       "    <tr>\n",
       "      <th>2019-03-31</th>\n",
       "      <td>-0.21</td>\n",
       "    </tr>\n",
       "    <tr>\n",
       "      <th>2019-06-30</th>\n",
       "      <td>7.83</td>\n",
       "    </tr>\n",
       "    <tr>\n",
       "      <th>2019-09-30</th>\n",
       "      <td>7.09</td>\n",
       "    </tr>\n",
       "    <tr>\n",
       "      <th>2019-12-31</th>\n",
       "      <td>-1.04</td>\n",
       "    </tr>\n",
       "    <tr>\n",
       "      <th>2020-03-31</th>\n",
       "      <td>1.44</td>\n",
       "    </tr>\n",
       "    <tr>\n",
       "      <th>2020-06-30</th>\n",
       "      <td>-12.92</td>\n",
       "    </tr>\n",
       "    <tr>\n",
       "      <th>2020-09-30</th>\n",
       "      <td>35.52</td>\n",
       "    </tr>\n",
       "    <tr>\n",
       "      <th>2020-12-31</th>\n",
       "      <td>2.89</td>\n",
       "    </tr>\n",
       "    <tr>\n",
       "      <th>2021-03-31</th>\n",
       "      <td>6.07</td>\n",
       "    </tr>\n",
       "    <tr>\n",
       "      <th>2021-06-30</th>\n",
       "      <td>11.83</td>\n",
       "    </tr>\n",
       "    <tr>\n",
       "      <th>2021-09-30</th>\n",
       "      <td>25.30</td>\n",
       "    </tr>\n",
       "    <tr>\n",
       "      <th>2021-12-31</th>\n",
       "      <td>15.92</td>\n",
       "    </tr>\n",
       "    <tr>\n",
       "      <th>2022-03-31</th>\n",
       "      <td>13.06</td>\n",
       "    </tr>\n",
       "    <tr>\n",
       "      <th>2022-06-30</th>\n",
       "      <td>35.74</td>\n",
       "    </tr>\n",
       "    <tr>\n",
       "      <th>2022-09-30</th>\n",
       "      <td>25.51</td>\n",
       "    </tr>\n",
       "    <tr>\n",
       "      <th>2022-12-31</th>\n",
       "      <td>18.14</td>\n",
       "    </tr>\n",
       "    <tr>\n",
       "      <th>2023-03-31</th>\n",
       "      <td>13.94</td>\n",
       "    </tr>\n",
       "    <tr>\n",
       "      <th>2023-06-30</th>\n",
       "      <td>32.46</td>\n",
       "    </tr>\n",
       "    <tr>\n",
       "      <th>2023-09-30</th>\n",
       "      <td>28.22</td>\n",
       "    </tr>\n",
       "    <tr>\n",
       "      <th>2023-12-31</th>\n",
       "      <td>10.84</td>\n",
       "    </tr>\n",
       "    <tr>\n",
       "      <th>2024-03-31</th>\n",
       "      <td>18.06</td>\n",
       "    </tr>\n",
       "    <tr>\n",
       "      <th>2024-06-30</th>\n",
       "      <td>9.66</td>\n",
       "    </tr>\n",
       "  </tbody>\n",
       "</table>\n",
       "</div>"
      ],
      "text/plain": [
       "             Kart\n",
       "2014-06-30   6.76\n",
       "2014-09-30   4.45\n",
       "2014-12-31   0.34\n",
       "2015-03-31   2.98\n",
       "2015-06-30  10.86\n",
       "2015-09-30   2.10\n",
       "2015-12-31  -0.96\n",
       "2016-03-31   0.43\n",
       "2016-06-30   7.91\n",
       "2016-09-30   1.06\n",
       "2016-12-31   0.56\n",
       "2017-03-31   1.78\n",
       "2017-06-30   9.03\n",
       "2017-09-30   6.16\n",
       "2017-12-31   1.36\n",
       "2018-03-31   0.84\n",
       "2018-06-30  10.63\n",
       "2018-09-30   7.89\n",
       "2018-12-31  -3.96\n",
       "2019-03-31  -0.21\n",
       "2019-06-30   7.83\n",
       "2019-09-30   7.09\n",
       "2019-12-31  -1.04\n",
       "2020-03-31   1.44\n",
       "2020-06-30 -12.92\n",
       "2020-09-30  35.52\n",
       "2020-12-31   2.89\n",
       "2021-03-31   6.07\n",
       "2021-06-30  11.83\n",
       "2021-09-30  25.30\n",
       "2021-12-31  15.92\n",
       "2022-03-31  13.06\n",
       "2022-06-30  35.74\n",
       "2022-09-30  25.51\n",
       "2022-12-31  18.14\n",
       "2023-03-31  13.94\n",
       "2023-06-30  32.46\n",
       "2023-09-30  28.22\n",
       "2023-12-31  10.84\n",
       "2024-03-31  18.06\n",
       "2024-06-30   9.66"
      ]
     },
     "execution_count": 98,
     "metadata": {},
     "output_type": "execute_result"
    }
   ],
   "source": [
    "params = {\n",
    "    'series': \"TP.KKHARTUT.KT1\",\n",
    "    'startDate': \"31-03-2014\",\n",
    "    'endDate': date.today().strftime(\"%d-%m-%Y\"),\n",
    "    'frequency': 6,\n",
    "    'aggregationTypes': 'avg',\n",
    "    'type': 'json'\n",
    "}\n",
    "\n",
    "url = f'https://evds2.tcmb.gov.tr/service/evds/{urlencode(params)}'\n",
    "\n",
    "response = requests.get(url=url, headers={'key': key})\n",
    "\n",
    "# print(response.request.headers)\n",
    "\n",
    "formatted_response = json.loads(response.content)\n",
    "\n",
    "kart = formatted_response['items']\n",
    "kart = pd.DataFrame(kart)\n",
    "\n",
    "\n",
    "kart = kart.drop(columns=['UNIXTIME','Tarih'])\n",
    "kart.columns = ['Kart']\n",
    "kart['Kart'] = pd.to_numeric(kart['Kart'])\n",
    "kart=kart.set_index(pd.date_range(start=\"31-03-2014\",freq=\"Q\",periods=len(kart)))\n",
    "kart=kart.pct_change()*100\n",
    "kart=kart.dropna()\n",
    "kart"
   ]
  },
  {
   "cell_type": "code",
   "execution_count": 99,
   "metadata": {},
   "outputs": [
    {
     "data": {
      "text/html": [
       "<div>\n",
       "<style scoped>\n",
       "    .dataframe tbody tr th:only-of-type {\n",
       "        vertical-align: middle;\n",
       "    }\n",
       "\n",
       "    .dataframe tbody tr th {\n",
       "        vertical-align: top;\n",
       "    }\n",
       "\n",
       "    .dataframe thead th {\n",
       "        text-align: right;\n",
       "    }\n",
       "</style>\n",
       "<table border=\"1\" class=\"dataframe\">\n",
       "  <thead>\n",
       "    <tr style=\"text-align: right;\">\n",
       "      <th></th>\n",
       "      <th>Öncü Gösterge</th>\n",
       "    </tr>\n",
       "  </thead>\n",
       "  <tbody>\n",
       "    <tr>\n",
       "      <th>1999-06-30</th>\n",
       "      <td>1.97</td>\n",
       "    </tr>\n",
       "    <tr>\n",
       "      <th>1999-09-30</th>\n",
       "      <td>-0.09</td>\n",
       "    </tr>\n",
       "    <tr>\n",
       "      <th>1999-12-31</th>\n",
       "      <td>2.52</td>\n",
       "    </tr>\n",
       "    <tr>\n",
       "      <th>2000-03-31</th>\n",
       "      <td>3.53</td>\n",
       "    </tr>\n",
       "    <tr>\n",
       "      <th>2000-06-30</th>\n",
       "      <td>-0.18</td>\n",
       "    </tr>\n",
       "    <tr>\n",
       "      <th>...</th>\n",
       "      <td>...</td>\n",
       "    </tr>\n",
       "    <tr>\n",
       "      <th>2023-03-31</th>\n",
       "      <td>1.90</td>\n",
       "    </tr>\n",
       "    <tr>\n",
       "      <th>2023-06-30</th>\n",
       "      <td>1.16</td>\n",
       "    </tr>\n",
       "    <tr>\n",
       "      <th>2023-09-30</th>\n",
       "      <td>0.98</td>\n",
       "    </tr>\n",
       "    <tr>\n",
       "      <th>2023-12-31</th>\n",
       "      <td>0.13</td>\n",
       "    </tr>\n",
       "    <tr>\n",
       "      <th>2024-03-31</th>\n",
       "      <td>1.10</td>\n",
       "    </tr>\n",
       "  </tbody>\n",
       "</table>\n",
       "<p>100 rows × 1 columns</p>\n",
       "</div>"
      ],
      "text/plain": [
       "            Öncü Gösterge\n",
       "1999-06-30           1.97\n",
       "1999-09-30          -0.09\n",
       "1999-12-31           2.52\n",
       "2000-03-31           3.53\n",
       "2000-06-30          -0.18\n",
       "...                   ...\n",
       "2023-03-31           1.90\n",
       "2023-06-30           1.16\n",
       "2023-09-30           0.98\n",
       "2023-12-31           0.13\n",
       "2024-03-31           1.10\n",
       "\n",
       "[100 rows x 1 columns]"
      ]
     },
     "execution_count": 99,
     "metadata": {},
     "output_type": "execute_result"
    }
   ],
   "source": [
    "params = {\n",
    "    'series': \"TP.CLI2.A01\",\n",
    "    'startDate': \"31-03-1999\",\n",
    "    'endDate': date.today().strftime(\"%d-%m-%Y\"),\n",
    "    'frequency': 6,\n",
    "    'aggregationTypes': 'avg',\n",
    "    'type': 'json'\n",
    "}\n",
    "\n",
    "url = f'https://evds2.tcmb.gov.tr/service/evds/{urlencode(params)}'\n",
    "\n",
    "response = requests.get(url=url, headers={'key': key})\n",
    "\n",
    "# print(response.request.headers)\n",
    "\n",
    "formatted_response = json.loads(response.content)\n",
    "\n",
    "öncü = formatted_response['items']\n",
    "öncü = pd.DataFrame(öncü)\n",
    "\n",
    "\n",
    "öncü = öncü.drop(columns=['UNIXTIME','Tarih'])\n",
    "öncü.columns = ['Öncü Gösterge']\n",
    "öncü['Öncü Gösterge'] = pd.to_numeric(öncü['Öncü Gösterge'])\n",
    "öncü=öncü.set_index(pd.date_range(start=\"31-03-1999\",freq=\"Q\",periods=len(öncü)))\n",
    "öncü=öncü.pct_change()*100\n",
    "öncü=öncü.dropna()\n",
    "öncü"
   ]
  },
  {
   "cell_type": "code",
   "execution_count": 100,
   "metadata": {},
   "outputs": [
    {
     "data": {
      "text/html": [
       "<div>\n",
       "<style scoped>\n",
       "    .dataframe tbody tr th:only-of-type {\n",
       "        vertical-align: middle;\n",
       "    }\n",
       "\n",
       "    .dataframe tbody tr th {\n",
       "        vertical-align: top;\n",
       "    }\n",
       "\n",
       "    .dataframe thead th {\n",
       "        text-align: right;\n",
       "    }\n",
       "</style>\n",
       "<table border=\"1\" class=\"dataframe\">\n",
       "  <thead>\n",
       "    <tr style=\"text-align: right;\">\n",
       "      <th></th>\n",
       "      <th>İhracat</th>\n",
       "    </tr>\n",
       "  </thead>\n",
       "  <tbody>\n",
       "    <tr>\n",
       "      <th>2013-06-30</th>\n",
       "      <td>2.94</td>\n",
       "    </tr>\n",
       "    <tr>\n",
       "      <th>2013-09-30</th>\n",
       "      <td>-2.84</td>\n",
       "    </tr>\n",
       "    <tr>\n",
       "      <th>2013-12-31</th>\n",
       "      <td>6.01</td>\n",
       "    </tr>\n",
       "    <tr>\n",
       "      <th>2014-03-31</th>\n",
       "      <td>0.80</td>\n",
       "    </tr>\n",
       "    <tr>\n",
       "      <th>2014-06-30</th>\n",
       "      <td>0.07</td>\n",
       "    </tr>\n",
       "    <tr>\n",
       "      <th>2014-09-30</th>\n",
       "      <td>-4.06</td>\n",
       "    </tr>\n",
       "    <tr>\n",
       "      <th>2014-12-31</th>\n",
       "      <td>2.62</td>\n",
       "    </tr>\n",
       "    <tr>\n",
       "      <th>2015-03-31</th>\n",
       "      <td>-6.26</td>\n",
       "    </tr>\n",
       "    <tr>\n",
       "      <th>2015-06-30</th>\n",
       "      <td>-2.07</td>\n",
       "    </tr>\n",
       "    <tr>\n",
       "      <th>2015-09-30</th>\n",
       "      <td>-7.43</td>\n",
       "    </tr>\n",
       "    <tr>\n",
       "      <th>2015-12-31</th>\n",
       "      <td>8.99</td>\n",
       "    </tr>\n",
       "    <tr>\n",
       "      <th>2016-03-31</th>\n",
       "      <td>-5.79</td>\n",
       "    </tr>\n",
       "    <tr>\n",
       "      <th>2016-06-30</th>\n",
       "      <td>6.49</td>\n",
       "    </tr>\n",
       "    <tr>\n",
       "      <th>2016-09-30</th>\n",
       "      <td>-11.99</td>\n",
       "    </tr>\n",
       "    <tr>\n",
       "      <th>2016-12-31</th>\n",
       "      <td>18.59</td>\n",
       "    </tr>\n",
       "    <tr>\n",
       "      <th>2017-03-31</th>\n",
       "      <td>-2.15</td>\n",
       "    </tr>\n",
       "    <tr>\n",
       "      <th>2017-06-30</th>\n",
       "      <td>4.68</td>\n",
       "    </tr>\n",
       "    <tr>\n",
       "      <th>2017-09-30</th>\n",
       "      <td>-4.40</td>\n",
       "    </tr>\n",
       "    <tr>\n",
       "      <th>2017-12-31</th>\n",
       "      <td>12.05</td>\n",
       "    </tr>\n",
       "    <tr>\n",
       "      <th>2018-03-31</th>\n",
       "      <td>-2.26</td>\n",
       "    </tr>\n",
       "    <tr>\n",
       "      <th>2018-06-30</th>\n",
       "      <td>0.25</td>\n",
       "    </tr>\n",
       "    <tr>\n",
       "      <th>2018-09-30</th>\n",
       "      <td>-0.94</td>\n",
       "    </tr>\n",
       "    <tr>\n",
       "      <th>2018-12-31</th>\n",
       "      <td>10.89</td>\n",
       "    </tr>\n",
       "    <tr>\n",
       "      <th>2019-03-31</th>\n",
       "      <td>-6.49</td>\n",
       "    </tr>\n",
       "    <tr>\n",
       "      <th>2019-06-30</th>\n",
       "      <td>-1.58</td>\n",
       "    </tr>\n",
       "    <tr>\n",
       "      <th>2019-09-30</th>\n",
       "      <td>1.37</td>\n",
       "    </tr>\n",
       "    <tr>\n",
       "      <th>2019-12-31</th>\n",
       "      <td>8.19</td>\n",
       "    </tr>\n",
       "    <tr>\n",
       "      <th>2020-03-31</th>\n",
       "      <td>-11.25</td>\n",
       "    </tr>\n",
       "    <tr>\n",
       "      <th>2020-06-30</th>\n",
       "      <td>-24.06</td>\n",
       "    </tr>\n",
       "    <tr>\n",
       "      <th>2020-09-30</th>\n",
       "      <td>33.78</td>\n",
       "    </tr>\n",
       "    <tr>\n",
       "      <th>2020-12-31</th>\n",
       "      <td>18.24</td>\n",
       "    </tr>\n",
       "    <tr>\n",
       "      <th>2021-03-31</th>\n",
       "      <td>-2.59</td>\n",
       "    </tr>\n",
       "    <tr>\n",
       "      <th>2021-06-30</th>\n",
       "      <td>10.13</td>\n",
       "    </tr>\n",
       "    <tr>\n",
       "      <th>2021-09-30</th>\n",
       "      <td>1.76</td>\n",
       "    </tr>\n",
       "    <tr>\n",
       "      <th>2021-12-31</th>\n",
       "      <td>15.14</td>\n",
       "    </tr>\n",
       "    <tr>\n",
       "      <th>2022-03-31</th>\n",
       "      <td>-6.74</td>\n",
       "    </tr>\n",
       "    <tr>\n",
       "      <th>2022-06-30</th>\n",
       "      <td>9.25</td>\n",
       "    </tr>\n",
       "    <tr>\n",
       "      <th>2022-09-30</th>\n",
       "      <td>-4.90</td>\n",
       "    </tr>\n",
       "    <tr>\n",
       "      <th>2022-12-31</th>\n",
       "      <td>5.87</td>\n",
       "    </tr>\n",
       "    <tr>\n",
       "      <th>2023-03-31</th>\n",
       "      <td>-7.04</td>\n",
       "    </tr>\n",
       "    <tr>\n",
       "      <th>2023-06-30</th>\n",
       "      <td>0.34</td>\n",
       "    </tr>\n",
       "    <tr>\n",
       "      <th>2023-09-30</th>\n",
       "      <td>3.39</td>\n",
       "    </tr>\n",
       "    <tr>\n",
       "      <th>2023-12-31</th>\n",
       "      <td>7.78</td>\n",
       "    </tr>\n",
       "    <tr>\n",
       "      <th>2024-03-31</th>\n",
       "      <td>-7.39</td>\n",
       "    </tr>\n",
       "  </tbody>\n",
       "</table>\n",
       "</div>"
      ],
      "text/plain": [
       "            İhracat\n",
       "2013-06-30     2.94\n",
       "2013-09-30    -2.84\n",
       "2013-12-31     6.01\n",
       "2014-03-31     0.80\n",
       "2014-06-30     0.07\n",
       "2014-09-30    -4.06\n",
       "2014-12-31     2.62\n",
       "2015-03-31    -6.26\n",
       "2015-06-30    -2.07\n",
       "2015-09-30    -7.43\n",
       "2015-12-31     8.99\n",
       "2016-03-31    -5.79\n",
       "2016-06-30     6.49\n",
       "2016-09-30   -11.99\n",
       "2016-12-31    18.59\n",
       "2017-03-31    -2.15\n",
       "2017-06-30     4.68\n",
       "2017-09-30    -4.40\n",
       "2017-12-31    12.05\n",
       "2018-03-31    -2.26\n",
       "2018-06-30     0.25\n",
       "2018-09-30    -0.94\n",
       "2018-12-31    10.89\n",
       "2019-03-31    -6.49\n",
       "2019-06-30    -1.58\n",
       "2019-09-30     1.37\n",
       "2019-12-31     8.19\n",
       "2020-03-31   -11.25\n",
       "2020-06-30   -24.06\n",
       "2020-09-30    33.78\n",
       "2020-12-31    18.24\n",
       "2021-03-31    -2.59\n",
       "2021-06-30    10.13\n",
       "2021-09-30     1.76\n",
       "2021-12-31    15.14\n",
       "2022-03-31    -6.74\n",
       "2022-06-30     9.25\n",
       "2022-09-30    -4.90\n",
       "2022-12-31     5.87\n",
       "2023-03-31    -7.04\n",
       "2023-06-30     0.34\n",
       "2023-09-30     3.39\n",
       "2023-12-31     7.78\n",
       "2024-03-31    -7.39"
      ]
     },
     "execution_count": 100,
     "metadata": {},
     "output_type": "execute_result"
    }
   ],
   "source": [
    "params = {\n",
    "    'series': \"TP.IHRACATBEC.9999\",\n",
    "    'startDate': \"31-03-1999\",\n",
    "    'endDate': date.today().strftime(\"%d-%m-%Y\"),\n",
    "    'frequency': 6,\n",
    "    'aggregationTypes': 'avg',\n",
    "    'type': 'json'\n",
    "}\n",
    "\n",
    "url = f'https://evds2.tcmb.gov.tr/service/evds/{urlencode(params)}'\n",
    "\n",
    "response = requests.get(url=url, headers={'key': key})\n",
    "\n",
    "# print(response.request.headers)\n",
    "\n",
    "formatted_response = json.loads(response.content)\n",
    "\n",
    "ihracat = formatted_response['items']\n",
    "ihracat = pd.DataFrame(ihracat)\n",
    "\n",
    "\n",
    "ihracat = ihracat.drop(columns=['UNIXTIME','Tarih'])\n",
    "ihracat.columns = ['İhracat']\n",
    "ihracat['İhracat'] = pd.to_numeric(ihracat['İhracat'])\n",
    "ihracat=ihracat.set_index(pd.date_range(start=\"31-03-1999\",freq=\"Q\",periods=len(ihracat)))\n",
    "ihracat=ihracat.pct_change()*100\n",
    "ihracat=ihracat.dropna()\n",
    "ihracat"
   ]
  },
  {
   "cell_type": "code",
   "execution_count": 101,
   "metadata": {},
   "outputs": [
    {
     "data": {
      "text/html": [
       "<div>\n",
       "<style scoped>\n",
       "    .dataframe tbody tr th:only-of-type {\n",
       "        vertical-align: middle;\n",
       "    }\n",
       "\n",
       "    .dataframe tbody tr th {\n",
       "        vertical-align: top;\n",
       "    }\n",
       "\n",
       "    .dataframe thead th {\n",
       "        text-align: right;\n",
       "    }\n",
       "</style>\n",
       "<table border=\"1\" class=\"dataframe\">\n",
       "  <thead>\n",
       "    <tr style=\"text-align: right;\">\n",
       "      <th></th>\n",
       "      <th>İthalat</th>\n",
       "    </tr>\n",
       "  </thead>\n",
       "  <tbody>\n",
       "    <tr>\n",
       "      <th>2013-06-30</th>\n",
       "      <td>13.05</td>\n",
       "    </tr>\n",
       "    <tr>\n",
       "      <th>2013-09-30</th>\n",
       "      <td>-6.94</td>\n",
       "    </tr>\n",
       "    <tr>\n",
       "      <th>2013-12-31</th>\n",
       "      <td>2.39</td>\n",
       "    </tr>\n",
       "    <tr>\n",
       "      <th>2014-03-31</th>\n",
       "      <td>-8.64</td>\n",
       "    </tr>\n",
       "    <tr>\n",
       "      <th>2014-06-30</th>\n",
       "      <td>6.98</td>\n",
       "    </tr>\n",
       "    <tr>\n",
       "      <th>2014-09-30</th>\n",
       "      <td>-3.02</td>\n",
       "    </tr>\n",
       "    <tr>\n",
       "      <th>2014-12-31</th>\n",
       "      <td>2.23</td>\n",
       "    </tr>\n",
       "    <tr>\n",
       "      <th>2015-03-31</th>\n",
       "      <td>-14.94</td>\n",
       "    </tr>\n",
       "    <tr>\n",
       "      <th>2015-06-30</th>\n",
       "      <td>2.66</td>\n",
       "    </tr>\n",
       "    <tr>\n",
       "      <th>2015-09-30</th>\n",
       "      <td>-8.07</td>\n",
       "    </tr>\n",
       "    <tr>\n",
       "      <th>2015-12-31</th>\n",
       "      <td>1.59</td>\n",
       "    </tr>\n",
       "    <tr>\n",
       "      <th>2016-03-31</th>\n",
       "      <td>-7.92</td>\n",
       "    </tr>\n",
       "    <tr>\n",
       "      <th>2016-06-30</th>\n",
       "      <td>12.39</td>\n",
       "    </tr>\n",
       "    <tr>\n",
       "      <th>2016-09-30</th>\n",
       "      <td>-11.71</td>\n",
       "    </tr>\n",
       "    <tr>\n",
       "      <th>2016-12-31</th>\n",
       "      <td>10.44</td>\n",
       "    </tr>\n",
       "    <tr>\n",
       "      <th>2017-03-31</th>\n",
       "      <td>-1.53</td>\n",
       "    </tr>\n",
       "    <tr>\n",
       "      <th>2017-06-30</th>\n",
       "      <td>13.47</td>\n",
       "    </tr>\n",
       "    <tr>\n",
       "      <th>2017-09-30</th>\n",
       "      <td>5.74</td>\n",
       "    </tr>\n",
       "    <tr>\n",
       "      <th>2017-12-31</th>\n",
       "      <td>6.17</td>\n",
       "    </tr>\n",
       "    <tr>\n",
       "      <th>2018-03-31</th>\n",
       "      <td>-2.53</td>\n",
       "    </tr>\n",
       "    <tr>\n",
       "      <th>2018-06-30</th>\n",
       "      <td>-0.59</td>\n",
       "    </tr>\n",
       "    <tr>\n",
       "      <th>2018-09-30</th>\n",
       "      <td>-16.39</td>\n",
       "    </tr>\n",
       "    <tr>\n",
       "      <th>2018-12-31</th>\n",
       "      <td>-7.51</td>\n",
       "    </tr>\n",
       "    <tr>\n",
       "      <th>2019-03-31</th>\n",
       "      <td>2.08</td>\n",
       "    </tr>\n",
       "    <tr>\n",
       "      <th>2019-06-30</th>\n",
       "      <td>2.39</td>\n",
       "    </tr>\n",
       "    <tr>\n",
       "      <th>2019-09-30</th>\n",
       "      <td>0.11</td>\n",
       "    </tr>\n",
       "    <tr>\n",
       "      <th>2019-12-31</th>\n",
       "      <td>9.14</td>\n",
       "    </tr>\n",
       "    <tr>\n",
       "      <th>2020-03-31</th>\n",
       "      <td>-1.38</td>\n",
       "    </tr>\n",
       "    <tr>\n",
       "      <th>2020-06-30</th>\n",
       "      <td>-22.29</td>\n",
       "    </tr>\n",
       "    <tr>\n",
       "      <th>2020-09-30</th>\n",
       "      <td>32.46</td>\n",
       "    </tr>\n",
       "    <tr>\n",
       "      <th>2020-12-31</th>\n",
       "      <td>10.33</td>\n",
       "    </tr>\n",
       "    <tr>\n",
       "      <th>2021-03-31</th>\n",
       "      <td>-3.56</td>\n",
       "    </tr>\n",
       "    <tr>\n",
       "      <th>2021-06-30</th>\n",
       "      <td>6.70</td>\n",
       "    </tr>\n",
       "    <tr>\n",
       "      <th>2021-09-30</th>\n",
       "      <td>3.23</td>\n",
       "    </tr>\n",
       "    <tr>\n",
       "      <th>2021-12-31</th>\n",
       "      <td>16.40</td>\n",
       "    </tr>\n",
       "    <tr>\n",
       "      <th>2022-03-31</th>\n",
       "      <td>10.76</td>\n",
       "    </tr>\n",
       "    <tr>\n",
       "      <th>2022-06-30</th>\n",
       "      <td>4.68</td>\n",
       "    </tr>\n",
       "    <tr>\n",
       "      <th>2022-09-30</th>\n",
       "      <td>3.65</td>\n",
       "    </tr>\n",
       "    <tr>\n",
       "      <th>2022-12-31</th>\n",
       "      <td>-1.60</td>\n",
       "    </tr>\n",
       "    <tr>\n",
       "      <th>2023-03-31</th>\n",
       "      <td>4.05</td>\n",
       "    </tr>\n",
       "    <tr>\n",
       "      <th>2023-06-30</th>\n",
       "      <td>-8.37</td>\n",
       "    </tr>\n",
       "    <tr>\n",
       "      <th>2023-09-30</th>\n",
       "      <td>2.14</td>\n",
       "    </tr>\n",
       "    <tr>\n",
       "      <th>2023-12-31</th>\n",
       "      <td>-3.01</td>\n",
       "    </tr>\n",
       "    <tr>\n",
       "      <th>2024-03-31</th>\n",
       "      <td>-3.88</td>\n",
       "    </tr>\n",
       "  </tbody>\n",
       "</table>\n",
       "</div>"
      ],
      "text/plain": [
       "            İthalat\n",
       "2013-06-30    13.05\n",
       "2013-09-30    -6.94\n",
       "2013-12-31     2.39\n",
       "2014-03-31    -8.64\n",
       "2014-06-30     6.98\n",
       "2014-09-30    -3.02\n",
       "2014-12-31     2.23\n",
       "2015-03-31   -14.94\n",
       "2015-06-30     2.66\n",
       "2015-09-30    -8.07\n",
       "2015-12-31     1.59\n",
       "2016-03-31    -7.92\n",
       "2016-06-30    12.39\n",
       "2016-09-30   -11.71\n",
       "2016-12-31    10.44\n",
       "2017-03-31    -1.53\n",
       "2017-06-30    13.47\n",
       "2017-09-30     5.74\n",
       "2017-12-31     6.17\n",
       "2018-03-31    -2.53\n",
       "2018-06-30    -0.59\n",
       "2018-09-30   -16.39\n",
       "2018-12-31    -7.51\n",
       "2019-03-31     2.08\n",
       "2019-06-30     2.39\n",
       "2019-09-30     0.11\n",
       "2019-12-31     9.14\n",
       "2020-03-31    -1.38\n",
       "2020-06-30   -22.29\n",
       "2020-09-30    32.46\n",
       "2020-12-31    10.33\n",
       "2021-03-31    -3.56\n",
       "2021-06-30     6.70\n",
       "2021-09-30     3.23\n",
       "2021-12-31    16.40\n",
       "2022-03-31    10.76\n",
       "2022-06-30     4.68\n",
       "2022-09-30     3.65\n",
       "2022-12-31    -1.60\n",
       "2023-03-31     4.05\n",
       "2023-06-30    -8.37\n",
       "2023-09-30     2.14\n",
       "2023-12-31    -3.01\n",
       "2024-03-31    -3.88"
      ]
     },
     "execution_count": 101,
     "metadata": {},
     "output_type": "execute_result"
    }
   ],
   "source": [
    "params = {\n",
    "    'series': \"TP.ITHALATBEC.9999\",\n",
    "    'startDate': \"31-03-1999\",\n",
    "    'endDate': date.today().strftime(\"%d-%m-%Y\"),\n",
    "    'frequency': 6,\n",
    "    'aggregationTypes': 'avg',\n",
    "    'type': 'json'\n",
    "}\n",
    "\n",
    "url = f'https://evds2.tcmb.gov.tr/service/evds/{urlencode(params)}'\n",
    "\n",
    "response = requests.get(url=url, headers={'key': key})\n",
    "\n",
    "# print(response.request.headers)\n",
    "\n",
    "formatted_response = json.loads(response.content)\n",
    "\n",
    "ithalat = formatted_response['items']\n",
    "ithalat = pd.DataFrame(ithalat)\n",
    "\n",
    "\n",
    "ithalat = ithalat.drop(columns=['UNIXTIME','Tarih'])\n",
    "ithalat.columns = ['İthalat']\n",
    "ithalat['İthalat'] = pd.to_numeric(ithalat['İthalat'])\n",
    "ithalat=ithalat.set_index(pd.date_range(start=\"31-03-1999\",freq=\"Q\",periods=len(ithalat)))\n",
    "ithalat=ithalat.pct_change()*100\n",
    "ithalat=ithalat.dropna()\n",
    "ithalat"
   ]
  },
  {
   "cell_type": "code",
   "execution_count": 102,
   "metadata": {},
   "outputs": [
    {
     "data": {
      "text/html": [
       "<div>\n",
       "<style scoped>\n",
       "    .dataframe tbody tr th:only-of-type {\n",
       "        vertical-align: middle;\n",
       "    }\n",
       "\n",
       "    .dataframe tbody tr th {\n",
       "        vertical-align: top;\n",
       "    }\n",
       "\n",
       "    .dataframe thead th {\n",
       "        text-align: right;\n",
       "    }\n",
       "</style>\n",
       "<table border=\"1\" class=\"dataframe\">\n",
       "  <thead>\n",
       "    <tr style=\"text-align: right;\">\n",
       "      <th></th>\n",
       "      <th>Ticari Faiz</th>\n",
       "    </tr>\n",
       "  </thead>\n",
       "  <tbody>\n",
       "    <tr>\n",
       "      <th>2002-03-31</th>\n",
       "      <td>58.99</td>\n",
       "    </tr>\n",
       "    <tr>\n",
       "      <th>2002-06-30</th>\n",
       "      <td>49.07</td>\n",
       "    </tr>\n",
       "    <tr>\n",
       "      <th>2002-09-30</th>\n",
       "      <td>45.39</td>\n",
       "    </tr>\n",
       "    <tr>\n",
       "      <th>2002-12-31</th>\n",
       "      <td>43.19</td>\n",
       "    </tr>\n",
       "    <tr>\n",
       "      <th>2003-03-31</th>\n",
       "      <td>44.61</td>\n",
       "    </tr>\n",
       "    <tr>\n",
       "      <th>...</th>\n",
       "      <td>...</td>\n",
       "    </tr>\n",
       "    <tr>\n",
       "      <th>2023-06-30</th>\n",
       "      <td>15.25</td>\n",
       "    </tr>\n",
       "    <tr>\n",
       "      <th>2023-09-30</th>\n",
       "      <td>33.29</td>\n",
       "    </tr>\n",
       "    <tr>\n",
       "      <th>2023-12-31</th>\n",
       "      <td>51.27</td>\n",
       "    </tr>\n",
       "    <tr>\n",
       "      <th>2024-03-31</th>\n",
       "      <td>56.01</td>\n",
       "    </tr>\n",
       "    <tr>\n",
       "      <th>2024-06-30</th>\n",
       "      <td>66.65</td>\n",
       "    </tr>\n",
       "  </tbody>\n",
       "</table>\n",
       "<p>90 rows × 1 columns</p>\n",
       "</div>"
      ],
      "text/plain": [
       "            Ticari Faiz\n",
       "2002-03-31        58.99\n",
       "2002-06-30        49.07\n",
       "2002-09-30        45.39\n",
       "2002-12-31        43.19\n",
       "2003-03-31        44.61\n",
       "...                 ...\n",
       "2023-06-30        15.25\n",
       "2023-09-30        33.29\n",
       "2023-12-31        51.27\n",
       "2024-03-31        56.01\n",
       "2024-06-30        66.65\n",
       "\n",
       "[90 rows x 1 columns]"
      ]
     },
     "execution_count": 102,
     "metadata": {},
     "output_type": "execute_result"
    }
   ],
   "source": [
    "params = {\n",
    "    'series': \"TP.KTF17\",\n",
    "    'startDate': \"31-03-1999\",\n",
    "    'endDate': date.today().strftime(\"%d-%m-%Y\"),\n",
    "    'frequency': 6,\n",
    "    'aggregationTypes': 'avg',\n",
    "    'type': 'json'\n",
    "}\n",
    "\n",
    "url = f'https://evds2.tcmb.gov.tr/service/evds/{urlencode(params)}'\n",
    "\n",
    "response = requests.get(url=url, headers={'key': key})\n",
    "\n",
    "# print(response.request.headers)\n",
    "\n",
    "formatted_response = json.loads(response.content)\n",
    "\n",
    "tfaiz = formatted_response['items']\n",
    "tfaiz = pd.DataFrame(tfaiz)\n",
    "\n",
    "\n",
    "tfaiz = tfaiz.drop(columns=['UNIXTIME','Tarih'])\n",
    "tfaiz.columns = ['Ticari Faiz']\n",
    "tfaiz['Ticari Faiz'] = pd.to_numeric(tfaiz['Ticari Faiz'])\n",
    "tfaiz=tfaiz.set_index(pd.date_range(start=\"31-03-1999\",freq=\"Q\",periods=len(tfaiz)))\n",
    "tfaiz=tfaiz.dropna()\n",
    "tfaiz"
   ]
  },
  {
   "cell_type": "code",
   "execution_count": 103,
   "metadata": {},
   "outputs": [
    {
     "data": {
      "text/html": [
       "<div>\n",
       "<style scoped>\n",
       "    .dataframe tbody tr th:only-of-type {\n",
       "        vertical-align: middle;\n",
       "    }\n",
       "\n",
       "    .dataframe tbody tr th {\n",
       "        vertical-align: top;\n",
       "    }\n",
       "\n",
       "    .dataframe thead th {\n",
       "        text-align: right;\n",
       "    }\n",
       "</style>\n",
       "<table border=\"1\" class=\"dataframe\">\n",
       "  <thead>\n",
       "    <tr style=\"text-align: right;\">\n",
       "      <th></th>\n",
       "      <th>Mevduat Faiz 1Ay</th>\n",
       "    </tr>\n",
       "  </thead>\n",
       "  <tbody>\n",
       "    <tr>\n",
       "      <th>2002-03-31</th>\n",
       "      <td>61.07</td>\n",
       "    </tr>\n",
       "    <tr>\n",
       "      <th>2002-06-30</th>\n",
       "      <td>51.75</td>\n",
       "    </tr>\n",
       "    <tr>\n",
       "      <th>2002-09-30</th>\n",
       "      <td>50.35</td>\n",
       "    </tr>\n",
       "    <tr>\n",
       "      <th>2002-12-31</th>\n",
       "      <td>48.41</td>\n",
       "    </tr>\n",
       "    <tr>\n",
       "      <th>2003-03-31</th>\n",
       "      <td>47.92</td>\n",
       "    </tr>\n",
       "    <tr>\n",
       "      <th>...</th>\n",
       "      <td>...</td>\n",
       "    </tr>\n",
       "    <tr>\n",
       "      <th>2023-06-30</th>\n",
       "      <td>22.67</td>\n",
       "    </tr>\n",
       "    <tr>\n",
       "      <th>2023-09-30</th>\n",
       "      <td>26.54</td>\n",
       "    </tr>\n",
       "    <tr>\n",
       "      <th>2023-12-31</th>\n",
       "      <td>38.31</td>\n",
       "    </tr>\n",
       "    <tr>\n",
       "      <th>2024-03-31</th>\n",
       "      <td>45.40</td>\n",
       "    </tr>\n",
       "    <tr>\n",
       "      <th>2024-06-30</th>\n",
       "      <td>55.40</td>\n",
       "    </tr>\n",
       "  </tbody>\n",
       "</table>\n",
       "<p>90 rows × 1 columns</p>\n",
       "</div>"
      ],
      "text/plain": [
       "            Mevduat Faiz 1Ay\n",
       "2002-03-31             61.07\n",
       "2002-06-30             51.75\n",
       "2002-09-30             50.35\n",
       "2002-12-31             48.41\n",
       "2003-03-31             47.92\n",
       "...                      ...\n",
       "2023-06-30             22.67\n",
       "2023-09-30             26.54\n",
       "2023-12-31             38.31\n",
       "2024-03-31             45.40\n",
       "2024-06-30             55.40\n",
       "\n",
       "[90 rows x 1 columns]"
      ]
     },
     "execution_count": 103,
     "metadata": {},
     "output_type": "execute_result"
    }
   ],
   "source": [
    "\n",
    "params = {\n",
    "    'series': \"TP.TRY.MT01\",\n",
    "    'startDate': \"31-03-1999\",\n",
    "    'endDate': date.today().strftime(\"%d-%m-%Y\"),\n",
    "    'frequency': 6,\n",
    "    'aggregationTypes': 'avg',\n",
    "    'type': 'json'\n",
    "}\n",
    "\n",
    "url = f'https://evds2.tcmb.gov.tr/service/evds/{urlencode(params)}'\n",
    "\n",
    "response = requests.get(url=url, headers={'key': key})\n",
    "\n",
    "\n",
    "\n",
    "formatted_response = json.loads(response.content)\n",
    "\n",
    "mfaiz1ay = formatted_response['items']\n",
    "mfaiz1ay = pd.DataFrame(mfaiz1ay)\n",
    "\n",
    "\n",
    "mfaiz1ay = mfaiz1ay.drop(columns=['UNIXTIME','Tarih'])\n",
    "mfaiz1ay.columns = ['Mevduat Faiz 1Ay']\n",
    "mfaiz1ay['Mevduat Faiz 1Ay'] = pd.to_numeric(mfaiz1ay['Mevduat Faiz 1Ay'])\n",
    "mfaiz1ay=mfaiz1ay.set_index(pd.date_range(start=\"31-03-1999\",freq=\"Q\",periods=len(mfaiz1ay)))\n",
    "mfaiz1ay=mfaiz1ay.dropna()\n",
    "mfaiz1ay"
   ]
  },
  {
   "cell_type": "code",
   "execution_count": 104,
   "metadata": {},
   "outputs": [
    {
     "data": {
      "text/html": [
       "<div>\n",
       "<style scoped>\n",
       "    .dataframe tbody tr th:only-of-type {\n",
       "        vertical-align: middle;\n",
       "    }\n",
       "\n",
       "    .dataframe tbody tr th {\n",
       "        vertical-align: top;\n",
       "    }\n",
       "\n",
       "    .dataframe thead th {\n",
       "        text-align: right;\n",
       "    }\n",
       "</style>\n",
       "<table border=\"1\" class=\"dataframe\">\n",
       "  <thead>\n",
       "    <tr style=\"text-align: right;\">\n",
       "      <th></th>\n",
       "      <th>Mevduat Faiz 3Ay</th>\n",
       "    </tr>\n",
       "  </thead>\n",
       "  <tbody>\n",
       "    <tr>\n",
       "      <th>2002-03-31</th>\n",
       "      <td>59.01</td>\n",
       "    </tr>\n",
       "    <tr>\n",
       "      <th>2002-06-30</th>\n",
       "      <td>50.47</td>\n",
       "    </tr>\n",
       "    <tr>\n",
       "      <th>2002-09-30</th>\n",
       "      <td>50.83</td>\n",
       "    </tr>\n",
       "    <tr>\n",
       "      <th>2002-12-31</th>\n",
       "      <td>48.28</td>\n",
       "    </tr>\n",
       "    <tr>\n",
       "      <th>2003-03-31</th>\n",
       "      <td>47.05</td>\n",
       "    </tr>\n",
       "    <tr>\n",
       "      <th>...</th>\n",
       "      <td>...</td>\n",
       "    </tr>\n",
       "    <tr>\n",
       "      <th>2023-06-30</th>\n",
       "      <td>33.63</td>\n",
       "    </tr>\n",
       "    <tr>\n",
       "      <th>2023-09-30</th>\n",
       "      <td>35.26</td>\n",
       "    </tr>\n",
       "    <tr>\n",
       "      <th>2023-12-31</th>\n",
       "      <td>47.33</td>\n",
       "    </tr>\n",
       "    <tr>\n",
       "      <th>2024-03-31</th>\n",
       "      <td>53.39</td>\n",
       "    </tr>\n",
       "    <tr>\n",
       "      <th>2024-06-30</th>\n",
       "      <td>67.57</td>\n",
       "    </tr>\n",
       "  </tbody>\n",
       "</table>\n",
       "<p>90 rows × 1 columns</p>\n",
       "</div>"
      ],
      "text/plain": [
       "            Mevduat Faiz 3Ay\n",
       "2002-03-31             59.01\n",
       "2002-06-30             50.47\n",
       "2002-09-30             50.83\n",
       "2002-12-31             48.28\n",
       "2003-03-31             47.05\n",
       "...                      ...\n",
       "2023-06-30             33.63\n",
       "2023-09-30             35.26\n",
       "2023-12-31             47.33\n",
       "2024-03-31             53.39\n",
       "2024-06-30             67.57\n",
       "\n",
       "[90 rows x 1 columns]"
      ]
     },
     "execution_count": 104,
     "metadata": {},
     "output_type": "execute_result"
    }
   ],
   "source": [
    "\n",
    "params = {\n",
    "    'series': \"TP.TRY.MT02\",\n",
    "    'startDate': \"31-03-1999\",\n",
    "    'endDate': date.today().strftime(\"%d-%m-%Y\"),\n",
    "    'frequency': 6,\n",
    "    'aggregationTypes': 'avg',\n",
    "    'type': 'json'\n",
    "}\n",
    "\n",
    "url = f'https://evds2.tcmb.gov.tr/service/evds/{urlencode(params)}'\n",
    "\n",
    "response = requests.get(url=url, headers={'key': key})\n",
    "\n",
    "\n",
    "\n",
    "formatted_response = json.loads(response.content)\n",
    "\n",
    "mfaiz3ay = formatted_response['items']\n",
    "mfaiz3ay = pd.DataFrame(mfaiz3ay)\n",
    "\n",
    "\n",
    "mfaiz3ay = mfaiz3ay.drop(columns=['UNIXTIME','Tarih'])\n",
    "mfaiz3ay.columns = ['Mevduat Faiz 3Ay']\n",
    "mfaiz3ay['Mevduat Faiz 3Ay'] = pd.to_numeric(mfaiz3ay['Mevduat Faiz 3Ay'])\n",
    "mfaiz3ay=mfaiz3ay.set_index(pd.date_range(start=\"31-03-1999\",freq=\"Q\",periods=len(mfaiz3ay)))\n",
    "mfaiz3ay=mfaiz3ay.dropna()\n",
    "mfaiz3ay"
   ]
  },
  {
   "cell_type": "code",
   "execution_count": 105,
   "metadata": {},
   "outputs": [
    {
     "data": {
      "text/html": [
       "<div>\n",
       "<style scoped>\n",
       "    .dataframe tbody tr th:only-of-type {\n",
       "        vertical-align: middle;\n",
       "    }\n",
       "\n",
       "    .dataframe tbody tr th {\n",
       "        vertical-align: top;\n",
       "    }\n",
       "\n",
       "    .dataframe thead th {\n",
       "        text-align: right;\n",
       "    }\n",
       "</style>\n",
       "<table border=\"1\" class=\"dataframe\">\n",
       "  <thead>\n",
       "    <tr style=\"text-align: right;\">\n",
       "      <th></th>\n",
       "      <th>Sanayi</th>\n",
       "    </tr>\n",
       "  </thead>\n",
       "  <tbody>\n",
       "    <tr>\n",
       "      <th>2005-06-30</th>\n",
       "      <td>-0.62</td>\n",
       "    </tr>\n",
       "    <tr>\n",
       "      <th>2005-09-30</th>\n",
       "      <td>3.83</td>\n",
       "    </tr>\n",
       "    <tr>\n",
       "      <th>2005-12-31</th>\n",
       "      <td>2.90</td>\n",
       "    </tr>\n",
       "    <tr>\n",
       "      <th>2006-03-31</th>\n",
       "      <td>1.52</td>\n",
       "    </tr>\n",
       "    <tr>\n",
       "      <th>2006-06-30</th>\n",
       "      <td>1.89</td>\n",
       "    </tr>\n",
       "    <tr>\n",
       "      <th>...</th>\n",
       "      <td>...</td>\n",
       "    </tr>\n",
       "    <tr>\n",
       "      <th>2023-03-31</th>\n",
       "      <td>-0.26</td>\n",
       "    </tr>\n",
       "    <tr>\n",
       "      <th>2023-06-30</th>\n",
       "      <td>2.41</td>\n",
       "    </tr>\n",
       "    <tr>\n",
       "      <th>2023-09-30</th>\n",
       "      <td>0.73</td>\n",
       "    </tr>\n",
       "    <tr>\n",
       "      <th>2023-12-31</th>\n",
       "      <td>-0.72</td>\n",
       "    </tr>\n",
       "    <tr>\n",
       "      <th>2024-03-31</th>\n",
       "      <td>3.43</td>\n",
       "    </tr>\n",
       "  </tbody>\n",
       "</table>\n",
       "<p>76 rows × 1 columns</p>\n",
       "</div>"
      ],
      "text/plain": [
       "            Sanayi\n",
       "2005-06-30   -0.62\n",
       "2005-09-30    3.83\n",
       "2005-12-31    2.90\n",
       "2006-03-31    1.52\n",
       "2006-06-30    1.89\n",
       "...            ...\n",
       "2023-03-31   -0.26\n",
       "2023-06-30    2.41\n",
       "2023-09-30    0.73\n",
       "2023-12-31   -0.72\n",
       "2024-03-31    3.43\n",
       "\n",
       "[76 rows x 1 columns]"
      ]
     },
     "execution_count": 105,
     "metadata": {},
     "output_type": "execute_result"
    }
   ],
   "source": [
    "\n",
    "params = {\n",
    "    'series': \"TP.TSANAYMT2021.Y1\",\n",
    "    'startDate': \"31-03-1999\",\n",
    "    'endDate': date.today().strftime(\"%d-%m-%Y\"),\n",
    "    'frequency': 6,\n",
    "    'aggregationTypes': 'avg',\n",
    "    'type': 'json'\n",
    "}\n",
    "\n",
    "url = f'https://evds2.tcmb.gov.tr/service/evds/{urlencode(params)}'\n",
    "\n",
    "response = requests.get(url=url, headers={'key': key})\n",
    "\n",
    "\n",
    "\n",
    "formatted_response = json.loads(response.content)\n",
    "\n",
    "sanayi = formatted_response['items']\n",
    "sanayi = pd.DataFrame(sanayi)\n",
    "\n",
    "\n",
    "sanayi = sanayi.drop(columns=['UNIXTIME','Tarih'])\n",
    "sanayi.columns = ['Sanayi']\n",
    "sanayi['Sanayi'] = pd.to_numeric(sanayi['Sanayi'])\n",
    "sanayi=sanayi.set_index(pd.date_range(start=\"31-03-1999\",freq=\"Q\",periods=len(sanayi)))\n",
    "sanayi=sanayi.pct_change()*100\n",
    "sanayi=sanayi.dropna()\n",
    "sanayi"
   ]
  },
  {
   "cell_type": "code",
   "execution_count": 106,
   "metadata": {},
   "outputs": [
    {
     "data": {
      "text/html": [
       "<div>\n",
       "<style scoped>\n",
       "    .dataframe tbody tr th:only-of-type {\n",
       "        vertical-align: middle;\n",
       "    }\n",
       "\n",
       "    .dataframe tbody tr th {\n",
       "        vertical-align: top;\n",
       "    }\n",
       "\n",
       "    .dataframe thead th {\n",
       "        text-align: right;\n",
       "    }\n",
       "</style>\n",
       "<table border=\"1\" class=\"dataframe\">\n",
       "  <thead>\n",
       "    <tr style=\"text-align: right;\">\n",
       "      <th></th>\n",
       "      <th>M2</th>\n",
       "    </tr>\n",
       "  </thead>\n",
       "  <tbody>\n",
       "    <tr>\n",
       "      <th>2006-03-31</th>\n",
       "      <td>1.55</td>\n",
       "    </tr>\n",
       "    <tr>\n",
       "      <th>2006-06-30</th>\n",
       "      <td>9.64</td>\n",
       "    </tr>\n",
       "    <tr>\n",
       "      <th>2006-09-30</th>\n",
       "      <td>3.88</td>\n",
       "    </tr>\n",
       "    <tr>\n",
       "      <th>2006-12-31</th>\n",
       "      <td>4.68</td>\n",
       "    </tr>\n",
       "    <tr>\n",
       "      <th>2007-03-31</th>\n",
       "      <td>5.00</td>\n",
       "    </tr>\n",
       "    <tr>\n",
       "      <th>...</th>\n",
       "      <td>...</td>\n",
       "    </tr>\n",
       "    <tr>\n",
       "      <th>2023-06-30</th>\n",
       "      <td>12.80</td>\n",
       "    </tr>\n",
       "    <tr>\n",
       "      <th>2023-09-30</th>\n",
       "      <td>20.87</td>\n",
       "    </tr>\n",
       "    <tr>\n",
       "      <th>2023-12-31</th>\n",
       "      <td>9.90</td>\n",
       "    </tr>\n",
       "    <tr>\n",
       "      <th>2024-03-31</th>\n",
       "      <td>7.26</td>\n",
       "    </tr>\n",
       "    <tr>\n",
       "      <th>2024-06-30</th>\n",
       "      <td>3.84</td>\n",
       "    </tr>\n",
       "  </tbody>\n",
       "</table>\n",
       "<p>74 rows × 1 columns</p>\n",
       "</div>"
      ],
      "text/plain": [
       "              M2\n",
       "2006-03-31  1.55\n",
       "2006-06-30  9.64\n",
       "2006-09-30  3.88\n",
       "2006-12-31  4.68\n",
       "2007-03-31  5.00\n",
       "...          ...\n",
       "2023-06-30 12.80\n",
       "2023-09-30 20.87\n",
       "2023-12-31  9.90\n",
       "2024-03-31  7.26\n",
       "2024-06-30  3.84\n",
       "\n",
       "[74 rows x 1 columns]"
      ]
     },
     "execution_count": 106,
     "metadata": {},
     "output_type": "execute_result"
    }
   ],
   "source": [
    "\n",
    "params = {\n",
    "    'series': \"TP.PR.ARZ13\",\n",
    "    'startDate': \"31-03-1999\",\n",
    "    'endDate': date.today().strftime(\"%d-%m-%Y\"),\n",
    "    'frequency': 6,\n",
    "    'aggregationTypes': 'avg',\n",
    "    'type': 'json'\n",
    "}\n",
    "\n",
    "url = f'https://evds2.tcmb.gov.tr/service/evds/{urlencode(params)}'\n",
    "\n",
    "response = requests.get(url=url, headers={'key': key})\n",
    "\n",
    "\n",
    "\n",
    "formatted_response = json.loads(response.content)\n",
    "\n",
    "m2 = formatted_response['items']\n",
    "m2 = pd.DataFrame(m2)\n",
    "\n",
    "\n",
    "m2 = m2.drop(columns=['UNIXTIME','Tarih'])\n",
    "m2.columns = ['M2']\n",
    "m2['M2'] = pd.to_numeric(m2['M2'])\n",
    "m2=m2.set_index(pd.date_range(start=\"31-03-1999\",freq=\"Q\",periods=len(m2)))\n",
    "m2=m2.pct_change()*100\n",
    "m2=m2.dropna()\n",
    "m2"
   ]
  },
  {
   "cell_type": "code",
   "execution_count": 107,
   "metadata": {},
   "outputs": [
    {
     "data": {
      "text/html": [
       "<div>\n",
       "<style scoped>\n",
       "    .dataframe tbody tr th:only-of-type {\n",
       "        vertical-align: middle;\n",
       "    }\n",
       "\n",
       "    .dataframe tbody tr th {\n",
       "        vertical-align: top;\n",
       "    }\n",
       "\n",
       "    .dataframe thead th {\n",
       "        text-align: right;\n",
       "    }\n",
       "</style>\n",
       "<table border=\"1\" class=\"dataframe\">\n",
       "  <thead>\n",
       "    <tr style=\"text-align: right;\">\n",
       "      <th></th>\n",
       "      <th>M3</th>\n",
       "    </tr>\n",
       "  </thead>\n",
       "  <tbody>\n",
       "    <tr>\n",
       "      <th>2006-03-31</th>\n",
       "      <td>1.80</td>\n",
       "    </tr>\n",
       "    <tr>\n",
       "      <th>2006-06-30</th>\n",
       "      <td>9.64</td>\n",
       "    </tr>\n",
       "    <tr>\n",
       "      <th>2006-09-30</th>\n",
       "      <td>2.74</td>\n",
       "    </tr>\n",
       "    <tr>\n",
       "      <th>2006-12-31</th>\n",
       "      <td>3.94</td>\n",
       "    </tr>\n",
       "    <tr>\n",
       "      <th>2007-03-31</th>\n",
       "      <td>4.55</td>\n",
       "    </tr>\n",
       "    <tr>\n",
       "      <th>...</th>\n",
       "      <td>...</td>\n",
       "    </tr>\n",
       "    <tr>\n",
       "      <th>2023-06-30</th>\n",
       "      <td>12.31</td>\n",
       "    </tr>\n",
       "    <tr>\n",
       "      <th>2023-09-30</th>\n",
       "      <td>21.02</td>\n",
       "    </tr>\n",
       "    <tr>\n",
       "      <th>2023-12-31</th>\n",
       "      <td>10.13</td>\n",
       "    </tr>\n",
       "    <tr>\n",
       "      <th>2024-03-31</th>\n",
       "      <td>8.36</td>\n",
       "    </tr>\n",
       "    <tr>\n",
       "      <th>2024-06-30</th>\n",
       "      <td>4.95</td>\n",
       "    </tr>\n",
       "  </tbody>\n",
       "</table>\n",
       "<p>74 rows × 1 columns</p>\n",
       "</div>"
      ],
      "text/plain": [
       "              M3\n",
       "2006-03-31  1.80\n",
       "2006-06-30  9.64\n",
       "2006-09-30  2.74\n",
       "2006-12-31  3.94\n",
       "2007-03-31  4.55\n",
       "...          ...\n",
       "2023-06-30 12.31\n",
       "2023-09-30 21.02\n",
       "2023-12-31 10.13\n",
       "2024-03-31  8.36\n",
       "2024-06-30  4.95\n",
       "\n",
       "[74 rows x 1 columns]"
      ]
     },
     "execution_count": 107,
     "metadata": {},
     "output_type": "execute_result"
    }
   ],
   "source": [
    "\n",
    "params = {\n",
    "    'series': \"TP.PR.ARZ22\",\n",
    "    'startDate': \"31-03-1999\",\n",
    "    'endDate': date.today().strftime(\"%d-%m-%Y\"),\n",
    "    'frequency': 6,\n",
    "    'aggregationTypes': 'avg',\n",
    "    'type': 'json'\n",
    "}\n",
    "\n",
    "url = f'https://evds2.tcmb.gov.tr/service/evds/{urlencode(params)}'\n",
    "\n",
    "response = requests.get(url=url, headers={'key': key})\n",
    "\n",
    "\n",
    "\n",
    "formatted_response = json.loads(response.content)\n",
    "\n",
    "m3 = formatted_response['items']\n",
    "m3 = pd.DataFrame(m3)\n",
    "\n",
    "\n",
    "m3 = m3.drop(columns=['UNIXTIME','Tarih'])\n",
    "m3.columns = ['M3']\n",
    "m3['M3'] = pd.to_numeric(m3['M3'])\n",
    "m3=m3.set_index(pd.date_range(start=\"31-03-1999\",freq=\"Q\",periods=len(m3)))\n",
    "m3=m3.pct_change()*100\n",
    "m3=m3.dropna()\n",
    "m3"
   ]
  },
  {
   "cell_type": "code",
   "execution_count": 108,
   "metadata": {},
   "outputs": [
    {
     "data": {
      "text/html": [
       "<div>\n",
       "<style scoped>\n",
       "    .dataframe tbody tr th:only-of-type {\n",
       "        vertical-align: middle;\n",
       "    }\n",
       "\n",
       "    .dataframe tbody tr th {\n",
       "        vertical-align: top;\n",
       "    }\n",
       "\n",
       "    .dataframe thead th {\n",
       "        text-align: right;\n",
       "    }\n",
       "</style>\n",
       "<table border=\"1\" class=\"dataframe\">\n",
       "  <thead>\n",
       "    <tr style=\"text-align: right;\">\n",
       "      <th></th>\n",
       "      <th>TÜFE</th>\n",
       "    </tr>\n",
       "  </thead>\n",
       "  <tbody>\n",
       "    <tr>\n",
       "      <th>2003-06-30</th>\n",
       "      <td>3.50</td>\n",
       "    </tr>\n",
       "    <tr>\n",
       "      <th>2003-09-30</th>\n",
       "      <td>0.74</td>\n",
       "    </tr>\n",
       "    <tr>\n",
       "      <th>2003-12-31</th>\n",
       "      <td>2.89</td>\n",
       "    </tr>\n",
       "    <tr>\n",
       "      <th>2004-03-31</th>\n",
       "      <td>2.04</td>\n",
       "    </tr>\n",
       "    <tr>\n",
       "      <th>2004-06-30</th>\n",
       "      <td>1.56</td>\n",
       "    </tr>\n",
       "    <tr>\n",
       "      <th>...</th>\n",
       "      <td>...</td>\n",
       "    </tr>\n",
       "    <tr>\n",
       "      <th>2023-06-30</th>\n",
       "      <td>6.40</td>\n",
       "    </tr>\n",
       "    <tr>\n",
       "      <th>2023-09-30</th>\n",
       "      <td>21.08</td>\n",
       "    </tr>\n",
       "    <tr>\n",
       "      <th>2023-12-31</th>\n",
       "      <td>13.16</td>\n",
       "    </tr>\n",
       "    <tr>\n",
       "      <th>2024-03-31</th>\n",
       "      <td>14.45</td>\n",
       "    </tr>\n",
       "    <tr>\n",
       "      <th>2024-06-30</th>\n",
       "      <td>6.86</td>\n",
       "    </tr>\n",
       "  </tbody>\n",
       "</table>\n",
       "<p>85 rows × 1 columns</p>\n",
       "</div>"
      ],
      "text/plain": [
       "            TÜFE\n",
       "2003-06-30  3.50\n",
       "2003-09-30  0.74\n",
       "2003-12-31  2.89\n",
       "2004-03-31  2.04\n",
       "2004-06-30  1.56\n",
       "...          ...\n",
       "2023-06-30  6.40\n",
       "2023-09-30 21.08\n",
       "2023-12-31 13.16\n",
       "2024-03-31 14.45\n",
       "2024-06-30  6.86\n",
       "\n",
       "[85 rows x 1 columns]"
      ]
     },
     "execution_count": 108,
     "metadata": {},
     "output_type": "execute_result"
    }
   ],
   "source": [
    "\n",
    "params = {\n",
    "    'series': \"TP.FG.J0\",\n",
    "    'startDate': \"31-03-1999\",\n",
    "    'endDate': date.today().strftime(\"%d-%m-%Y\"),\n",
    "    'frequency': 6,\n",
    "    'aggregationTypes': 'avg',\n",
    "    'type': 'json'\n",
    "}\n",
    "\n",
    "url = f'https://evds2.tcmb.gov.tr/service/evds/{urlencode(params)}'\n",
    "\n",
    "response = requests.get(url=url, headers={'key': key})\n",
    "\n",
    "\n",
    "\n",
    "formatted_response = json.loads(response.content)\n",
    "\n",
    "tüfe = formatted_response['items']\n",
    "tüfe = pd.DataFrame(tüfe)\n",
    "\n",
    "\n",
    "tüfe = tüfe.drop(columns=['UNIXTIME','Tarih'])\n",
    "tüfe.columns = ['TÜFE']\n",
    "tüfe['TÜFE'] = pd.to_numeric(tüfe['TÜFE'])\n",
    "tüfe=tüfe.set_index(pd.date_range(start=\"31-03-1999\",freq=\"Q\",periods=len(tüfe)))\n",
    "tüfe=tüfe.pct_change()*100\n",
    "tüfe=tüfe.dropna()\n",
    "tüfe"
   ]
  },
  {
   "cell_type": "code",
   "execution_count": 109,
   "metadata": {},
   "outputs": [
    {
     "data": {
      "text/html": [
       "<div>\n",
       "<style scoped>\n",
       "    .dataframe tbody tr th:only-of-type {\n",
       "        vertical-align: middle;\n",
       "    }\n",
       "\n",
       "    .dataframe tbody tr th {\n",
       "        vertical-align: top;\n",
       "    }\n",
       "\n",
       "    .dataframe thead th {\n",
       "        text-align: right;\n",
       "    }\n",
       "</style>\n",
       "<table border=\"1\" class=\"dataframe\">\n",
       "  <thead>\n",
       "    <tr style=\"text-align: right;\">\n",
       "      <th></th>\n",
       "      <th>ÜFE</th>\n",
       "    </tr>\n",
       "  </thead>\n",
       "  <tbody>\n",
       "    <tr>\n",
       "      <th>1999-06-30</th>\n",
       "      <td>12.22</td>\n",
       "    </tr>\n",
       "    <tr>\n",
       "      <th>1999-09-30</th>\n",
       "      <td>10.77</td>\n",
       "    </tr>\n",
       "    <tr>\n",
       "      <th>1999-12-31</th>\n",
       "      <td>15.39</td>\n",
       "    </tr>\n",
       "    <tr>\n",
       "      <th>2000-03-31</th>\n",
       "      <td>16.18</td>\n",
       "    </tr>\n",
       "    <tr>\n",
       "      <th>2000-06-30</th>\n",
       "      <td>7.15</td>\n",
       "    </tr>\n",
       "    <tr>\n",
       "      <th>...</th>\n",
       "      <td>...</td>\n",
       "    </tr>\n",
       "    <tr>\n",
       "      <th>2023-06-30</th>\n",
       "      <td>4.29</td>\n",
       "    </tr>\n",
       "    <tr>\n",
       "      <th>2023-09-30</th>\n",
       "      <td>18.86</td>\n",
       "    </tr>\n",
       "    <tr>\n",
       "      <th>2023-12-31</th>\n",
       "      <td>8.57</td>\n",
       "    </tr>\n",
       "    <tr>\n",
       "      <th>2024-03-31</th>\n",
       "      <td>9.73</td>\n",
       "    </tr>\n",
       "    <tr>\n",
       "      <th>2024-06-30</th>\n",
       "      <td>7.13</td>\n",
       "    </tr>\n",
       "  </tbody>\n",
       "</table>\n",
       "<p>101 rows × 1 columns</p>\n",
       "</div>"
      ],
      "text/plain": [
       "             ÜFE\n",
       "1999-06-30 12.22\n",
       "1999-09-30 10.77\n",
       "1999-12-31 15.39\n",
       "2000-03-31 16.18\n",
       "2000-06-30  7.15\n",
       "...          ...\n",
       "2023-06-30  4.29\n",
       "2023-09-30 18.86\n",
       "2023-12-31  8.57\n",
       "2024-03-31  9.73\n",
       "2024-06-30  7.13\n",
       "\n",
       "[101 rows x 1 columns]"
      ]
     },
     "execution_count": 109,
     "metadata": {},
     "output_type": "execute_result"
    }
   ],
   "source": [
    "\n",
    "params = {\n",
    "    'series': \"TP.TUFE1YI.T1\",\n",
    "    'startDate': \"31-03-1999\",\n",
    "    'endDate': date.today().strftime(\"%d-%m-%Y\"),\n",
    "    'frequency': 6,\n",
    "    'aggregationTypes': 'avg',\n",
    "    'type': 'json'\n",
    "}\n",
    "\n",
    "url = f'https://evds2.tcmb.gov.tr/service/evds/{urlencode(params)}'\n",
    "\n",
    "response = requests.get(url=url, headers={'key': key})\n",
    "\n",
    "\n",
    "\n",
    "formatted_response = json.loads(response.content)\n",
    "\n",
    "üfe = formatted_response['items']\n",
    "üfe = pd.DataFrame(üfe)\n",
    "\n",
    "\n",
    "üfe = üfe.drop(columns=['UNIXTIME','Tarih'])\n",
    "üfe.columns = ['ÜFE']\n",
    "üfe['ÜFE'] = pd.to_numeric(üfe['ÜFE'])\n",
    "üfe=üfe.set_index(pd.date_range(start=\"31-03-1999\",freq=\"Q\",periods=len(üfe)))\n",
    "üfe=üfe.pct_change()*100\n",
    "üfe=üfe.dropna()\n",
    "üfe"
   ]
  },
  {
   "cell_type": "code",
   "execution_count": 110,
   "metadata": {},
   "outputs": [
    {
     "data": {
      "text/html": [
       "<div>\n",
       "<style scoped>\n",
       "    .dataframe tbody tr th:only-of-type {\n",
       "        vertical-align: middle;\n",
       "    }\n",
       "\n",
       "    .dataframe tbody tr th {\n",
       "        vertical-align: top;\n",
       "    }\n",
       "\n",
       "    .dataframe thead th {\n",
       "        text-align: right;\n",
       "    }\n",
       "</style>\n",
       "<table border=\"1\" class=\"dataframe\">\n",
       "  <thead>\n",
       "    <tr style=\"text-align: right;\">\n",
       "      <th></th>\n",
       "      <th>Reel Güven</th>\n",
       "    </tr>\n",
       "  </thead>\n",
       "  <tbody>\n",
       "    <tr>\n",
       "      <th>2007-06-30</th>\n",
       "      <td>-3.37</td>\n",
       "    </tr>\n",
       "    <tr>\n",
       "      <th>2007-09-30</th>\n",
       "      <td>0.99</td>\n",
       "    </tr>\n",
       "    <tr>\n",
       "      <th>2007-12-31</th>\n",
       "      <td>-2.44</td>\n",
       "    </tr>\n",
       "    <tr>\n",
       "      <th>2008-03-31</th>\n",
       "      <td>-2.99</td>\n",
       "    </tr>\n",
       "    <tr>\n",
       "      <th>2008-06-30</th>\n",
       "      <td>-6.58</td>\n",
       "    </tr>\n",
       "    <tr>\n",
       "      <th>...</th>\n",
       "      <td>...</td>\n",
       "    </tr>\n",
       "    <tr>\n",
       "      <th>2023-06-30</th>\n",
       "      <td>1.94</td>\n",
       "    </tr>\n",
       "    <tr>\n",
       "      <th>2023-09-30</th>\n",
       "      <td>-0.41</td>\n",
       "    </tr>\n",
       "    <tr>\n",
       "      <th>2023-12-31</th>\n",
       "      <td>-0.64</td>\n",
       "    </tr>\n",
       "    <tr>\n",
       "      <th>2024-03-31</th>\n",
       "      <td>-1.34</td>\n",
       "    </tr>\n",
       "    <tr>\n",
       "      <th>2024-06-30</th>\n",
       "      <td>0.68</td>\n",
       "    </tr>\n",
       "  </tbody>\n",
       "</table>\n",
       "<p>69 rows × 1 columns</p>\n",
       "</div>"
      ],
      "text/plain": [
       "            Reel Güven\n",
       "2007-06-30       -3.37\n",
       "2007-09-30        0.99\n",
       "2007-12-31       -2.44\n",
       "2008-03-31       -2.99\n",
       "2008-06-30       -6.58\n",
       "...                ...\n",
       "2023-06-30        1.94\n",
       "2023-09-30       -0.41\n",
       "2023-12-31       -0.64\n",
       "2024-03-31       -1.34\n",
       "2024-06-30        0.68\n",
       "\n",
       "[69 rows x 1 columns]"
      ]
     },
     "execution_count": 110,
     "metadata": {},
     "output_type": "execute_result"
    }
   ],
   "source": [
    "\n",
    "params = {\n",
    "    'series': \"TP.GY1.N2.MA\",\n",
    "    'startDate': \"31-03-1999\",\n",
    "    'endDate': date.today().strftime(\"%d-%m-%Y\"),\n",
    "    'frequency': 6,\n",
    "    'aggregationTypes': 'avg',\n",
    "    'type': 'json'\n",
    "}\n",
    "\n",
    "url = f'https://evds2.tcmb.gov.tr/service/evds/{urlencode(params)}'\n",
    "\n",
    "response = requests.get(url=url, headers={'key': key})\n",
    "\n",
    "\n",
    "\n",
    "formatted_response = json.loads(response.content)\n",
    "\n",
    "reelgüven = formatted_response['items']\n",
    "reelgüven = pd.DataFrame(reelgüven)\n",
    "\n",
    "\n",
    "reelgüven = reelgüven.drop(columns=['UNIXTIME','Tarih'])\n",
    "reelgüven.columns = ['Reel Güven']\n",
    "reelgüven['Reel Güven'] = pd.to_numeric(reelgüven['Reel Güven'])\n",
    "reelgüven=reelgüven.set_index(pd.date_range(start=\"31-03-1999\",freq=\"Q\",periods=len(reelgüven)))\n",
    "reelgüven=reelgüven.pct_change()*100\n",
    "reelgüven=reelgüven.dropna()\n",
    "reelgüven"
   ]
  },
  {
   "cell_type": "code",
   "execution_count": 111,
   "metadata": {},
   "outputs": [
    {
     "data": {
      "text/html": [
       "<div>\n",
       "<style scoped>\n",
       "    .dataframe tbody tr th:only-of-type {\n",
       "        vertical-align: middle;\n",
       "    }\n",
       "\n",
       "    .dataframe tbody tr th {\n",
       "        vertical-align: top;\n",
       "    }\n",
       "\n",
       "    .dataframe thead th {\n",
       "        text-align: right;\n",
       "    }\n",
       "</style>\n",
       "<table border=\"1\" class=\"dataframe\">\n",
       "  <thead>\n",
       "    <tr style=\"text-align: right;\">\n",
       "      <th></th>\n",
       "      <th>Tüketici Güven</th>\n",
       "    </tr>\n",
       "  </thead>\n",
       "  <tbody>\n",
       "    <tr>\n",
       "      <th>2012-06-30</th>\n",
       "      <td>-2.66</td>\n",
       "    </tr>\n",
       "    <tr>\n",
       "      <th>2012-09-30</th>\n",
       "      <td>-0.10</td>\n",
       "    </tr>\n",
       "    <tr>\n",
       "      <th>2012-12-31</th>\n",
       "      <td>-2.94</td>\n",
       "    </tr>\n",
       "    <tr>\n",
       "      <th>2013-03-31</th>\n",
       "      <td>4.37</td>\n",
       "    </tr>\n",
       "    <tr>\n",
       "      <th>2013-06-30</th>\n",
       "      <td>2.76</td>\n",
       "    </tr>\n",
       "    <tr>\n",
       "      <th>2013-09-30</th>\n",
       "      <td>0.11</td>\n",
       "    </tr>\n",
       "    <tr>\n",
       "      <th>2013-12-31</th>\n",
       "      <td>0.36</td>\n",
       "    </tr>\n",
       "    <tr>\n",
       "      <th>2014-03-31</th>\n",
       "      <td>-3.90</td>\n",
       "    </tr>\n",
       "    <tr>\n",
       "      <th>2014-06-30</th>\n",
       "      <td>4.69</td>\n",
       "    </tr>\n",
       "    <tr>\n",
       "      <th>2014-09-30</th>\n",
       "      <td>-1.60</td>\n",
       "    </tr>\n",
       "    <tr>\n",
       "      <th>2014-12-31</th>\n",
       "      <td>-3.18</td>\n",
       "    </tr>\n",
       "    <tr>\n",
       "      <th>2015-03-31</th>\n",
       "      <td>-2.87</td>\n",
       "    </tr>\n",
       "    <tr>\n",
       "      <th>2015-06-30</th>\n",
       "      <td>-0.30</td>\n",
       "    </tr>\n",
       "    <tr>\n",
       "      <th>2015-09-30</th>\n",
       "      <td>-3.13</td>\n",
       "    </tr>\n",
       "    <tr>\n",
       "      <th>2015-12-31</th>\n",
       "      <td>7.41</td>\n",
       "    </tr>\n",
       "    <tr>\n",
       "      <th>2016-03-31</th>\n",
       "      <td>-1.11</td>\n",
       "    </tr>\n",
       "    <tr>\n",
       "      <th>2016-06-30</th>\n",
       "      <td>1.27</td>\n",
       "    </tr>\n",
       "    <tr>\n",
       "      <th>2016-09-30</th>\n",
       "      <td>1.69</td>\n",
       "    </tr>\n",
       "    <tr>\n",
       "      <th>2016-12-31</th>\n",
       "      <td>-2.20</td>\n",
       "    </tr>\n",
       "    <tr>\n",
       "      <th>2017-03-31</th>\n",
       "      <td>-2.75</td>\n",
       "    </tr>\n",
       "    <tr>\n",
       "      <th>2017-06-30</th>\n",
       "      <td>4.86</td>\n",
       "    </tr>\n",
       "    <tr>\n",
       "      <th>2017-09-30</th>\n",
       "      <td>-0.05</td>\n",
       "    </tr>\n",
       "    <tr>\n",
       "      <th>2017-12-31</th>\n",
       "      <td>-5.00</td>\n",
       "    </tr>\n",
       "    <tr>\n",
       "      <th>2018-03-31</th>\n",
       "      <td>4.86</td>\n",
       "    </tr>\n",
       "    <tr>\n",
       "      <th>2018-06-30</th>\n",
       "      <td>-1.43</td>\n",
       "    </tr>\n",
       "    <tr>\n",
       "      <th>2018-09-30</th>\n",
       "      <td>-3.98</td>\n",
       "    </tr>\n",
       "    <tr>\n",
       "      <th>2018-12-31</th>\n",
       "      <td>-9.04</td>\n",
       "    </tr>\n",
       "    <tr>\n",
       "      <th>2019-03-31</th>\n",
       "      <td>0.41</td>\n",
       "    </tr>\n",
       "    <tr>\n",
       "      <th>2019-06-30</th>\n",
       "      <td>0.31</td>\n",
       "    </tr>\n",
       "    <tr>\n",
       "      <th>2019-09-30</th>\n",
       "      <td>-1.90</td>\n",
       "    </tr>\n",
       "    <tr>\n",
       "      <th>2019-12-31</th>\n",
       "      <td>1.57</td>\n",
       "    </tr>\n",
       "    <tr>\n",
       "      <th>2020-03-31</th>\n",
       "      <td>0.62</td>\n",
       "    </tr>\n",
       "    <tr>\n",
       "      <th>2020-06-30</th>\n",
       "      <td>1.08</td>\n",
       "    </tr>\n",
       "    <tr>\n",
       "      <th>2020-09-30</th>\n",
       "      <td>0.20</td>\n",
       "    </tr>\n",
       "    <tr>\n",
       "      <th>2020-12-31</th>\n",
       "      <td>-1.30</td>\n",
       "    </tr>\n",
       "    <tr>\n",
       "      <th>2021-03-31</th>\n",
       "      <td>5.09</td>\n",
       "    </tr>\n",
       "    <tr>\n",
       "      <th>2021-06-30</th>\n",
       "      <td>-5.46</td>\n",
       "    </tr>\n",
       "    <tr>\n",
       "      <th>2021-09-30</th>\n",
       "      <td>-0.65</td>\n",
       "    </tr>\n",
       "    <tr>\n",
       "      <th>2021-12-31</th>\n",
       "      <td>-9.39</td>\n",
       "    </tr>\n",
       "    <tr>\n",
       "      <th>2022-03-31</th>\n",
       "      <td>0.12</td>\n",
       "    </tr>\n",
       "    <tr>\n",
       "      <th>2022-06-30</th>\n",
       "      <td>-8.16</td>\n",
       "    </tr>\n",
       "    <tr>\n",
       "      <th>2022-09-30</th>\n",
       "      <td>7.89</td>\n",
       "    </tr>\n",
       "    <tr>\n",
       "      <th>2022-12-31</th>\n",
       "      <td>6.59</td>\n",
       "    </tr>\n",
       "    <tr>\n",
       "      <th>2023-03-31</th>\n",
       "      <td>5.92</td>\n",
       "    </tr>\n",
       "    <tr>\n",
       "      <th>2023-06-30</th>\n",
       "      <td>9.09</td>\n",
       "    </tr>\n",
       "    <tr>\n",
       "      <th>2023-09-30</th>\n",
       "      <td>-16.75</td>\n",
       "    </tr>\n",
       "    <tr>\n",
       "      <th>2023-12-31</th>\n",
       "      <td>3.63</td>\n",
       "    </tr>\n",
       "    <tr>\n",
       "      <th>2024-03-31</th>\n",
       "      <td>5.10</td>\n",
       "    </tr>\n",
       "    <tr>\n",
       "      <th>2024-06-30</th>\n",
       "      <td>0.95</td>\n",
       "    </tr>\n",
       "  </tbody>\n",
       "</table>\n",
       "</div>"
      ],
      "text/plain": [
       "            Tüketici Güven\n",
       "2012-06-30           -2.66\n",
       "2012-09-30           -0.10\n",
       "2012-12-31           -2.94\n",
       "2013-03-31            4.37\n",
       "2013-06-30            2.76\n",
       "2013-09-30            0.11\n",
       "2013-12-31            0.36\n",
       "2014-03-31           -3.90\n",
       "2014-06-30            4.69\n",
       "2014-09-30           -1.60\n",
       "2014-12-31           -3.18\n",
       "2015-03-31           -2.87\n",
       "2015-06-30           -0.30\n",
       "2015-09-30           -3.13\n",
       "2015-12-31            7.41\n",
       "2016-03-31           -1.11\n",
       "2016-06-30            1.27\n",
       "2016-09-30            1.69\n",
       "2016-12-31           -2.20\n",
       "2017-03-31           -2.75\n",
       "2017-06-30            4.86\n",
       "2017-09-30           -0.05\n",
       "2017-12-31           -5.00\n",
       "2018-03-31            4.86\n",
       "2018-06-30           -1.43\n",
       "2018-09-30           -3.98\n",
       "2018-12-31           -9.04\n",
       "2019-03-31            0.41\n",
       "2019-06-30            0.31\n",
       "2019-09-30           -1.90\n",
       "2019-12-31            1.57\n",
       "2020-03-31            0.62\n",
       "2020-06-30            1.08\n",
       "2020-09-30            0.20\n",
       "2020-12-31           -1.30\n",
       "2021-03-31            5.09\n",
       "2021-06-30           -5.46\n",
       "2021-09-30           -0.65\n",
       "2021-12-31           -9.39\n",
       "2022-03-31            0.12\n",
       "2022-06-30           -8.16\n",
       "2022-09-30            7.89\n",
       "2022-12-31            6.59\n",
       "2023-03-31            5.92\n",
       "2023-06-30            9.09\n",
       "2023-09-30          -16.75\n",
       "2023-12-31            3.63\n",
       "2024-03-31            5.10\n",
       "2024-06-30            0.95"
      ]
     },
     "execution_count": 111,
     "metadata": {},
     "output_type": "execute_result"
    }
   ],
   "source": [
    "\n",
    "params = {\n",
    "    'series': \"TP.TG2.Y01\",\n",
    "    'startDate': \"31-03-1999\",\n",
    "    'endDate': date.today().strftime(\"%d-%m-%Y\"),\n",
    "    'frequency': 6,\n",
    "    'aggregationTypes': 'avg',\n",
    "    'type': 'json'\n",
    "}\n",
    "\n",
    "url = f'https://evds2.tcmb.gov.tr/service/evds/{urlencode(params)}'\n",
    "\n",
    "response = requests.get(url=url, headers={'key': key})\n",
    "\n",
    "\n",
    "\n",
    "formatted_response = json.loads(response.content)\n",
    "\n",
    "tuketicigüven = formatted_response['items']\n",
    "tuketicigüven = pd.DataFrame(tuketicigüven)\n",
    "\n",
    "\n",
    "tuketicigüven = tuketicigüven.drop(columns=['UNIXTIME','Tarih'])\n",
    "tuketicigüven.columns = ['Tüketici Güven']\n",
    "tuketicigüven['Tüketici Güven'] = pd.to_numeric(tuketicigüven['Tüketici Güven'])\n",
    "tuketicigüven=tuketicigüven.set_index(pd.date_range(start=\"31-03-1999\",freq=\"Q\",periods=len(tuketicigüven)))\n",
    "tuketicigüven=tuketicigüven.pct_change()*100\n",
    "tuketicigüven=tuketicigüven.dropna()\n",
    "tuketicigüven"
   ]
  },
  {
   "cell_type": "code",
   "execution_count": 112,
   "metadata": {},
   "outputs": [
    {
     "data": {
      "text/html": [
       "<div>\n",
       "<style scoped>\n",
       "    .dataframe tbody tr th:only-of-type {\n",
       "        vertical-align: middle;\n",
       "    }\n",
       "\n",
       "    .dataframe tbody tr th {\n",
       "        vertical-align: top;\n",
       "    }\n",
       "\n",
       "    .dataframe thead th {\n",
       "        text-align: right;\n",
       "    }\n",
       "</style>\n",
       "<table border=\"1\" class=\"dataframe\">\n",
       "  <thead>\n",
       "    <tr style=\"text-align: right;\">\n",
       "      <th></th>\n",
       "      <th>İmalat PMI</th>\n",
       "    </tr>\n",
       "  </thead>\n",
       "  <tbody>\n",
       "    <tr>\n",
       "      <th>2007-06-30</th>\n",
       "      <td>1.88</td>\n",
       "    </tr>\n",
       "    <tr>\n",
       "      <th>2007-09-30</th>\n",
       "      <td>-1.37</td>\n",
       "    </tr>\n",
       "    <tr>\n",
       "      <th>2007-12-31</th>\n",
       "      <td>-0.41</td>\n",
       "    </tr>\n",
       "    <tr>\n",
       "      <th>2008-03-31</th>\n",
       "      <td>-0.90</td>\n",
       "    </tr>\n",
       "    <tr>\n",
       "      <th>2008-06-30</th>\n",
       "      <td>0.37</td>\n",
       "    </tr>\n",
       "    <tr>\n",
       "      <th>...</th>\n",
       "      <td>...</td>\n",
       "    </tr>\n",
       "    <tr>\n",
       "      <th>2023-06-30</th>\n",
       "      <td>1.24</td>\n",
       "    </tr>\n",
       "    <tr>\n",
       "      <th>2023-09-30</th>\n",
       "      <td>0.44</td>\n",
       "    </tr>\n",
       "    <tr>\n",
       "      <th>2023-12-31</th>\n",
       "      <td>0.92</td>\n",
       "    </tr>\n",
       "    <tr>\n",
       "      <th>2024-03-31</th>\n",
       "      <td>-0.43</td>\n",
       "    </tr>\n",
       "    <tr>\n",
       "      <th>2024-06-30</th>\n",
       "      <td>0.17</td>\n",
       "    </tr>\n",
       "  </tbody>\n",
       "</table>\n",
       "<p>69 rows × 1 columns</p>\n",
       "</div>"
      ],
      "text/plain": [
       "            İmalat PMI\n",
       "2007-06-30        1.88\n",
       "2007-09-30       -1.37\n",
       "2007-12-31       -0.41\n",
       "2008-03-31       -0.90\n",
       "2008-06-30        0.37\n",
       "...                ...\n",
       "2023-06-30        1.24\n",
       "2023-09-30        0.44\n",
       "2023-12-31        0.92\n",
       "2024-03-31       -0.43\n",
       "2024-06-30        0.17\n",
       "\n",
       "[69 rows x 1 columns]"
      ]
     },
     "execution_count": 112,
     "metadata": {},
     "output_type": "execute_result"
    }
   ],
   "source": [
    "\n",
    "params = {\n",
    "    'series': \"TP.KKO.MA\",\n",
    "    'startDate': \"31-03-1999\",\n",
    "    'endDate': date.today().strftime(\"%d-%m-%Y\"),\n",
    "    'frequency': 6,\n",
    "    'aggregationTypes': 'avg',\n",
    "    'type': 'json'\n",
    "}\n",
    "\n",
    "url = f'https://evds2.tcmb.gov.tr/service/evds/{urlencode(params)}'\n",
    "\n",
    "response = requests.get(url=url, headers={'key': key})\n",
    "\n",
    "\n",
    "\n",
    "formatted_response = json.loads(response.content)\n",
    "\n",
    "imalat = formatted_response['items']\n",
    "imalat = pd.DataFrame(imalat)\n",
    "\n",
    "\n",
    "imalat = imalat.drop(columns=['UNIXTIME','Tarih'])\n",
    "imalat.columns = ['İmalat PMI']\n",
    "imalat['İmalat PMI'] = pd.to_numeric(imalat['İmalat PMI'])\n",
    "imalat=imalat.set_index(pd.date_range(start=\"31-03-1999\",freq=\"Q\",periods=len(imalat)))\n",
    "imalat=imalat.pct_change()*100\n",
    "imalat=imalat.dropna()\n",
    "imalat"
   ]
  },
  {
   "cell_type": "code",
   "execution_count": 113,
   "metadata": {},
   "outputs": [
    {
     "data": {
      "text/html": [
       "<div>\n",
       "<style scoped>\n",
       "    .dataframe tbody tr th:only-of-type {\n",
       "        vertical-align: middle;\n",
       "    }\n",
       "\n",
       "    .dataframe tbody tr th {\n",
       "        vertical-align: top;\n",
       "    }\n",
       "\n",
       "    .dataframe thead th {\n",
       "        text-align: right;\n",
       "    }\n",
       "</style>\n",
       "<table border=\"1\" class=\"dataframe\">\n",
       "  <thead>\n",
       "    <tr style=\"text-align: right;\">\n",
       "      <th></th>\n",
       "      <th>İşsizlik</th>\n",
       "    </tr>\n",
       "  </thead>\n",
       "  <tbody>\n",
       "    <tr>\n",
       "      <th>2014-03-31</th>\n",
       "      <td>9.40</td>\n",
       "    </tr>\n",
       "    <tr>\n",
       "      <th>2014-06-30</th>\n",
       "      <td>9.70</td>\n",
       "    </tr>\n",
       "    <tr>\n",
       "      <th>2014-09-30</th>\n",
       "      <td>10.07</td>\n",
       "    </tr>\n",
       "    <tr>\n",
       "      <th>2014-12-31</th>\n",
       "      <td>10.40</td>\n",
       "    </tr>\n",
       "    <tr>\n",
       "      <th>2015-03-31</th>\n",
       "      <td>10.57</td>\n",
       "    </tr>\n",
       "    <tr>\n",
       "      <th>2015-06-30</th>\n",
       "      <td>10.30</td>\n",
       "    </tr>\n",
       "    <tr>\n",
       "      <th>2015-09-30</th>\n",
       "      <td>10.13</td>\n",
       "    </tr>\n",
       "    <tr>\n",
       "      <th>2015-12-31</th>\n",
       "      <td>10.27</td>\n",
       "    </tr>\n",
       "    <tr>\n",
       "      <th>2016-03-31</th>\n",
       "      <td>10.17</td>\n",
       "    </tr>\n",
       "    <tr>\n",
       "      <th>2016-06-30</th>\n",
       "      <td>10.37</td>\n",
       "    </tr>\n",
       "    <tr>\n",
       "      <th>2016-09-30</th>\n",
       "      <td>11.27</td>\n",
       "    </tr>\n",
       "    <tr>\n",
       "      <th>2016-12-31</th>\n",
       "      <td>11.73</td>\n",
       "    </tr>\n",
       "    <tr>\n",
       "      <th>2017-03-31</th>\n",
       "      <td>11.93</td>\n",
       "    </tr>\n",
       "    <tr>\n",
       "      <th>2017-06-30</th>\n",
       "      <td>11.23</td>\n",
       "    </tr>\n",
       "    <tr>\n",
       "      <th>2017-09-30</th>\n",
       "      <td>10.47</td>\n",
       "    </tr>\n",
       "    <tr>\n",
       "      <th>2017-12-31</th>\n",
       "      <td>10.10</td>\n",
       "    </tr>\n",
       "    <tr>\n",
       "      <th>2018-03-31</th>\n",
       "      <td>9.93</td>\n",
       "    </tr>\n",
       "    <tr>\n",
       "      <th>2018-06-30</th>\n",
       "      <td>10.50</td>\n",
       "    </tr>\n",
       "    <tr>\n",
       "      <th>2018-09-30</th>\n",
       "      <td>11.17</td>\n",
       "    </tr>\n",
       "    <tr>\n",
       "      <th>2018-12-31</th>\n",
       "      <td>12.17</td>\n",
       "    </tr>\n",
       "    <tr>\n",
       "      <th>2019-03-31</th>\n",
       "      <td>13.77</td>\n",
       "    </tr>\n",
       "    <tr>\n",
       "      <th>2019-06-30</th>\n",
       "      <td>13.73</td>\n",
       "    </tr>\n",
       "    <tr>\n",
       "      <th>2019-09-30</th>\n",
       "      <td>14.03</td>\n",
       "    </tr>\n",
       "    <tr>\n",
       "      <th>2019-12-31</th>\n",
       "      <td>13.40</td>\n",
       "    </tr>\n",
       "    <tr>\n",
       "      <th>2020-03-31</th>\n",
       "      <td>12.87</td>\n",
       "    </tr>\n",
       "    <tr>\n",
       "      <th>2020-06-30</th>\n",
       "      <td>13.60</td>\n",
       "    </tr>\n",
       "    <tr>\n",
       "      <th>2020-09-30</th>\n",
       "      <td>13.23</td>\n",
       "    </tr>\n",
       "    <tr>\n",
       "      <th>2020-12-31</th>\n",
       "      <td>12.93</td>\n",
       "    </tr>\n",
       "    <tr>\n",
       "      <th>2021-03-31</th>\n",
       "      <td>12.77</td>\n",
       "    </tr>\n",
       "    <tr>\n",
       "      <th>2021-06-30</th>\n",
       "      <td>12.57</td>\n",
       "    </tr>\n",
       "    <tr>\n",
       "      <th>2021-09-30</th>\n",
       "      <td>11.63</td>\n",
       "    </tr>\n",
       "    <tr>\n",
       "      <th>2021-12-31</th>\n",
       "      <td>11.07</td>\n",
       "    </tr>\n",
       "    <tr>\n",
       "      <th>2022-03-31</th>\n",
       "      <td>10.97</td>\n",
       "    </tr>\n",
       "    <tr>\n",
       "      <th>2022-06-30</th>\n",
       "      <td>10.67</td>\n",
       "    </tr>\n",
       "    <tr>\n",
       "      <th>2022-09-30</th>\n",
       "      <td>10.03</td>\n",
       "    </tr>\n",
       "    <tr>\n",
       "      <th>2022-12-31</th>\n",
       "      <td>10.23</td>\n",
       "    </tr>\n",
       "    <tr>\n",
       "      <th>2023-03-31</th>\n",
       "      <td>9.87</td>\n",
       "    </tr>\n",
       "    <tr>\n",
       "      <th>2023-06-30</th>\n",
       "      <td>9.67</td>\n",
       "    </tr>\n",
       "    <tr>\n",
       "      <th>2023-09-30</th>\n",
       "      <td>9.23</td>\n",
       "    </tr>\n",
       "    <tr>\n",
       "      <th>2023-12-31</th>\n",
       "      <td>8.80</td>\n",
       "    </tr>\n",
       "    <tr>\n",
       "      <th>2024-03-31</th>\n",
       "      <td>8.85</td>\n",
       "    </tr>\n",
       "  </tbody>\n",
       "</table>\n",
       "</div>"
      ],
      "text/plain": [
       "            İşsizlik\n",
       "2014-03-31      9.40\n",
       "2014-06-30      9.70\n",
       "2014-09-30     10.07\n",
       "2014-12-31     10.40\n",
       "2015-03-31     10.57\n",
       "2015-06-30     10.30\n",
       "2015-09-30     10.13\n",
       "2015-12-31     10.27\n",
       "2016-03-31     10.17\n",
       "2016-06-30     10.37\n",
       "2016-09-30     11.27\n",
       "2016-12-31     11.73\n",
       "2017-03-31     11.93\n",
       "2017-06-30     11.23\n",
       "2017-09-30     10.47\n",
       "2017-12-31     10.10\n",
       "2018-03-31      9.93\n",
       "2018-06-30     10.50\n",
       "2018-09-30     11.17\n",
       "2018-12-31     12.17\n",
       "2019-03-31     13.77\n",
       "2019-06-30     13.73\n",
       "2019-09-30     14.03\n",
       "2019-12-31     13.40\n",
       "2020-03-31     12.87\n",
       "2020-06-30     13.60\n",
       "2020-09-30     13.23\n",
       "2020-12-31     12.93\n",
       "2021-03-31     12.77\n",
       "2021-06-30     12.57\n",
       "2021-09-30     11.63\n",
       "2021-12-31     11.07\n",
       "2022-03-31     10.97\n",
       "2022-06-30     10.67\n",
       "2022-09-30     10.03\n",
       "2022-12-31     10.23\n",
       "2023-03-31      9.87\n",
       "2023-06-30      9.67\n",
       "2023-09-30      9.23\n",
       "2023-12-31      8.80\n",
       "2024-03-31      8.85"
      ]
     },
     "execution_count": 113,
     "metadata": {},
     "output_type": "execute_result"
    }
   ],
   "source": [
    "\n",
    "params = {\n",
    "    'series': \"TP.TIG08\",\n",
    "    'startDate': \"31-03-1999\",\n",
    "    'endDate': date.today().strftime(\"%d-%m-%Y\"),\n",
    "    'frequency': 6,\n",
    "    'aggregationTypes': 'avg',\n",
    "    'type': 'json'\n",
    "}\n",
    "\n",
    "url = f'https://evds2.tcmb.gov.tr/service/evds/{urlencode(params)}'\n",
    "\n",
    "response = requests.get(url=url, headers={'key': key})\n",
    "\n",
    "\n",
    "\n",
    "formatted_response = json.loads(response.content)\n",
    "\n",
    "işsizlik = formatted_response['items']\n",
    "işsizlik = pd.DataFrame(işsizlik)\n",
    "\n",
    "\n",
    "işsizlik = işsizlik.drop(columns=['UNIXTIME','Tarih'])\n",
    "işsizlik.columns = ['İşsizlik']\n",
    "işsizlik['İşsizlik'] = pd.to_numeric(işsizlik['İşsizlik'])\n",
    "işsizlik=işsizlik.set_index(pd.date_range(start=\"31-03-1999\",freq=\"Q\",periods=len(işsizlik)))\n",
    "işsizlik=işsizlik.dropna()\n",
    "işsizlik"
   ]
  },
  {
   "cell_type": "code",
   "execution_count": 175,
   "metadata": {},
   "outputs": [
    {
     "data": {
      "text/html": [
       "<div>\n",
       "<style scoped>\n",
       "    .dataframe tbody tr th:only-of-type {\n",
       "        vertical-align: middle;\n",
       "    }\n",
       "\n",
       "    .dataframe tbody tr th {\n",
       "        vertical-align: top;\n",
       "    }\n",
       "\n",
       "    .dataframe thead th {\n",
       "        text-align: right;\n",
       "    }\n",
       "</style>\n",
       "<table border=\"1\" class=\"dataframe\">\n",
       "  <thead>\n",
       "    <tr style=\"text-align: right;\">\n",
       "      <th></th>\n",
       "      <th>Büyüme</th>\n",
       "      <th>İhracat</th>\n",
       "      <th>İmalat PMI</th>\n",
       "      <th>İthalat</th>\n",
       "      <th>İşsizlik</th>\n",
       "      <th>Kart</th>\n",
       "      <th>Kredi</th>\n",
       "      <th>M2</th>\n",
       "      <th>M3</th>\n",
       "      <th>Mevduat Faiz 1Ay</th>\n",
       "      <th>Mevduat Faiz 3Ay</th>\n",
       "      <th>Ticari Faiz</th>\n",
       "      <th>Öncü Gösterge</th>\n",
       "      <th>Reel Güven</th>\n",
       "      <th>Sanayi</th>\n",
       "      <th>TÜFE</th>\n",
       "      <th>Tüketici Güven</th>\n",
       "      <th>ÜFE</th>\n",
       "      <th>USD/TL</th>\n",
       "    </tr>\n",
       "  </thead>\n",
       "  <tbody>\n",
       "    <tr>\n",
       "      <th>2014-06-30</th>\n",
       "      <td>-1.62</td>\n",
       "      <td>0.07</td>\n",
       "      <td>-0.53</td>\n",
       "      <td>6.98</td>\n",
       "      <td>9.70</td>\n",
       "      <td>6.76</td>\n",
       "      <td>2.24</td>\n",
       "      <td>0.47</td>\n",
       "      <td>0.53</td>\n",
       "      <td>9.29</td>\n",
       "      <td>10.53</td>\n",
       "      <td>14.23</td>\n",
       "      <td>2.85</td>\n",
       "      <td>5.49</td>\n",
       "      <td>-1.30</td>\n",
       "      <td>2.62</td>\n",
       "      <td>4.69</td>\n",
       "      <td>0.70</td>\n",
       "      <td>-4.70</td>\n",
       "    </tr>\n",
       "    <tr>\n",
       "      <th>2014-09-30</th>\n",
       "      <td>2.46</td>\n",
       "      <td>-4.06</td>\n",
       "      <td>-0.93</td>\n",
       "      <td>-3.02</td>\n",
       "      <td>10.07</td>\n",
       "      <td>4.45</td>\n",
       "      <td>4.97</td>\n",
       "      <td>3.90</td>\n",
       "      <td>3.74</td>\n",
       "      <td>8.10</td>\n",
       "      <td>9.18</td>\n",
       "      <td>12.19</td>\n",
       "      <td>1.19</td>\n",
       "      <td>-1.57</td>\n",
       "      <td>1.51</td>\n",
       "      <td>0.90</td>\n",
       "      <td>-1.60</td>\n",
       "      <td>1.16</td>\n",
       "      <td>2.36</td>\n",
       "    </tr>\n",
       "    <tr>\n",
       "      <th>2014-12-31</th>\n",
       "      <td>1.35</td>\n",
       "      <td>2.62</td>\n",
       "      <td>0.27</td>\n",
       "      <td>2.23</td>\n",
       "      <td>10.40</td>\n",
       "      <td>0.34</td>\n",
       "      <td>4.61</td>\n",
       "      <td>2.56</td>\n",
       "      <td>2.64</td>\n",
       "      <td>8.26</td>\n",
       "      <td>9.52</td>\n",
       "      <td>12.79</td>\n",
       "      <td>1.51</td>\n",
       "      <td>1.50</td>\n",
       "      <td>0.60</td>\n",
       "      <td>2.00</td>\n",
       "      <td>-3.18</td>\n",
       "      <td>0.72</td>\n",
       "      <td>4.61</td>\n",
       "    </tr>\n",
       "    <tr>\n",
       "      <th>2015-03-31</th>\n",
       "      <td>1.89</td>\n",
       "      <td>-6.26</td>\n",
       "      <td>0.49</td>\n",
       "      <td>-14.94</td>\n",
       "      <td>10.57</td>\n",
       "      <td>2.98</td>\n",
       "      <td>6.83</td>\n",
       "      <td>4.29</td>\n",
       "      <td>4.19</td>\n",
       "      <td>8.55</td>\n",
       "      <td>9.77</td>\n",
       "      <td>12.77</td>\n",
       "      <td>0.90</td>\n",
       "      <td>-2.95</td>\n",
       "      <td>1.13</td>\n",
       "      <td>1.75</td>\n",
       "      <td>-2.87</td>\n",
       "      <td>0.64</td>\n",
       "      <td>8.70</td>\n",
       "    </tr>\n",
       "    <tr>\n",
       "      <th>2015-06-30</th>\n",
       "      <td>1.52</td>\n",
       "      <td>-2.07</td>\n",
       "      <td>3.06</td>\n",
       "      <td>2.66</td>\n",
       "      <td>10.30</td>\n",
       "      <td>10.86</td>\n",
       "      <td>6.58</td>\n",
       "      <td>6.85</td>\n",
       "      <td>6.62</td>\n",
       "      <td>9.03</td>\n",
       "      <td>10.24</td>\n",
       "      <td>13.35</td>\n",
       "      <td>0.89</td>\n",
       "      <td>0.84</td>\n",
       "      <td>3.43</td>\n",
       "      <td>2.88</td>\n",
       "      <td>-0.30</td>\n",
       "      <td>3.39</td>\n",
       "      <td>8.48</td>\n",
       "    </tr>\n",
       "    <tr>\n",
       "      <th>2015-09-30</th>\n",
       "      <td>1.40</td>\n",
       "      <td>-7.43</td>\n",
       "      <td>-0.04</td>\n",
       "      <td>-8.07</td>\n",
       "      <td>10.13</td>\n",
       "      <td>2.10</td>\n",
       "      <td>5.76</td>\n",
       "      <td>5.76</td>\n",
       "      <td>5.47</td>\n",
       "      <td>9.43</td>\n",
       "      <td>10.83</td>\n",
       "      <td>14.59</td>\n",
       "      <td>1.05</td>\n",
       "      <td>-2.47</td>\n",
       "      <td>1.95</td>\n",
       "      <td>0.50</td>\n",
       "      <td>-3.13</td>\n",
       "      <td>1.39</td>\n",
       "      <td>6.62</td>\n",
       "    </tr>\n",
       "    <tr>\n",
       "      <th>2015-12-31</th>\n",
       "      <td>1.17</td>\n",
       "      <td>8.99</td>\n",
       "      <td>0.17</td>\n",
       "      <td>1.59</td>\n",
       "      <td>10.27</td>\n",
       "      <td>-0.96</td>\n",
       "      <td>1.11</td>\n",
       "      <td>2.01</td>\n",
       "      <td>1.80</td>\n",
       "      <td>9.74</td>\n",
       "      <td>11.36</td>\n",
       "      <td>15.67</td>\n",
       "      <td>1.64</td>\n",
       "      <td>3.71</td>\n",
       "      <td>0.32</td>\n",
       "      <td>2.82</td>\n",
       "      <td>7.41</td>\n",
       "      <td>0.07</td>\n",
       "      <td>2.24</td>\n",
       "    </tr>\n",
       "    <tr>\n",
       "      <th>2016-03-31</th>\n",
       "      <td>0.36</td>\n",
       "      <td>-5.79</td>\n",
       "      <td>-0.13</td>\n",
       "      <td>-7.92</td>\n",
       "      <td>10.17</td>\n",
       "      <td>0.43</td>\n",
       "      <td>2.10</td>\n",
       "      <td>1.65</td>\n",
       "      <td>1.52</td>\n",
       "      <td>9.94</td>\n",
       "      <td>11.85</td>\n",
       "      <td>16.00</td>\n",
       "      <td>0.42</td>\n",
       "      <td>0.19</td>\n",
       "      <td>0.89</td>\n",
       "      <td>2.16</td>\n",
       "      <td>-1.11</td>\n",
       "      <td>-0.16</td>\n",
       "      <td>1.29</td>\n",
       "    </tr>\n",
       "    <tr>\n",
       "      <th>2016-06-30</th>\n",
       "      <td>1.43</td>\n",
       "      <td>6.49</td>\n",
       "      <td>0.17</td>\n",
       "      <td>12.39</td>\n",
       "      <td>10.37</td>\n",
       "      <td>7.91</td>\n",
       "      <td>2.66</td>\n",
       "      <td>2.95</td>\n",
       "      <td>2.86</td>\n",
       "      <td>9.66</td>\n",
       "      <td>11.35</td>\n",
       "      <td>15.62</td>\n",
       "      <td>2.12</td>\n",
       "      <td>-0.57</td>\n",
       "      <td>0.81</td>\n",
       "      <td>1.30</td>\n",
       "      <td>1.27</td>\n",
       "      <td>1.86</td>\n",
       "      <td>-1.72</td>\n",
       "    </tr>\n",
       "    <tr>\n",
       "      <th>2016-09-30</th>\n",
       "      <td>-2.87</td>\n",
       "      <td>-11.99</td>\n",
       "      <td>-0.73</td>\n",
       "      <td>-11.71</td>\n",
       "      <td>11.27</td>\n",
       "      <td>1.06</td>\n",
       "      <td>3.02</td>\n",
       "      <td>3.29</td>\n",
       "      <td>3.17</td>\n",
       "      <td>9.04</td>\n",
       "      <td>10.71</td>\n",
       "      <td>14.78</td>\n",
       "      <td>0.82</td>\n",
       "      <td>-0.13</td>\n",
       "      <td>-2.16</td>\n",
       "      <td>1.54</td>\n",
       "      <td>1.69</td>\n",
       "      <td>1.13</td>\n",
       "      <td>2.32</td>\n",
       "    </tr>\n",
       "    <tr>\n",
       "      <th>2016-12-31</th>\n",
       "      <td>5.51</td>\n",
       "      <td>18.59</td>\n",
       "      <td>0.91</td>\n",
       "      <td>10.44</td>\n",
       "      <td>11.73</td>\n",
       "      <td>0.56</td>\n",
       "      <td>5.74</td>\n",
       "      <td>5.09</td>\n",
       "      <td>4.90</td>\n",
       "      <td>8.85</td>\n",
       "      <td>10.52</td>\n",
       "      <td>14.35</td>\n",
       "      <td>1.87</td>\n",
       "      <td>0.96</td>\n",
       "      <td>4.13</td>\n",
       "      <td>2.37</td>\n",
       "      <td>-2.20</td>\n",
       "      <td>3.43</td>\n",
       "      <td>10.73</td>\n",
       "    </tr>\n",
       "    <tr>\n",
       "      <th>2017-03-31</th>\n",
       "      <td>1.37</td>\n",
       "      <td>-2.15</td>\n",
       "      <td>0.00</td>\n",
       "      <td>-1.53</td>\n",
       "      <td>11.93</td>\n",
       "      <td>1.78</td>\n",
       "      <td>6.67</td>\n",
       "      <td>4.83</td>\n",
       "      <td>4.71</td>\n",
       "      <td>8.81</td>\n",
       "      <td>10.86</td>\n",
       "      <td>14.67</td>\n",
       "      <td>1.32</td>\n",
       "      <td>-1.17</td>\n",
       "      <td>1.61</td>\n",
       "      <td>4.67</td>\n",
       "      <td>-2.75</td>\n",
       "      <td>7.98</td>\n",
       "      <td>12.61</td>\n",
       "    </tr>\n",
       "    <tr>\n",
       "      <th>2017-06-30</th>\n",
       "      <td>2.28</td>\n",
       "      <td>4.68</td>\n",
       "      <td>1.42</td>\n",
       "      <td>13.47</td>\n",
       "      <td>11.23</td>\n",
       "      <td>9.03</td>\n",
       "      <td>4.79</td>\n",
       "      <td>4.34</td>\n",
       "      <td>4.23</td>\n",
       "      <td>10.15</td>\n",
       "      <td>12.42</td>\n",
       "      <td>15.70</td>\n",
       "      <td>1.05</td>\n",
       "      <td>2.11</td>\n",
       "      <td>3.51</td>\n",
       "      <td>2.48</td>\n",
       "      <td>4.86</td>\n",
       "      <td>2.25</td>\n",
       "      <td>-3.05</td>\n",
       "    </tr>\n",
       "    <tr>\n",
       "      <th>2017-09-30</th>\n",
       "      <td>1.52</td>\n",
       "      <td>-4.40</td>\n",
       "      <td>-0.51</td>\n",
       "      <td>5.74</td>\n",
       "      <td>10.47</td>\n",
       "      <td>6.16</td>\n",
       "      <td>4.03</td>\n",
       "      <td>3.05</td>\n",
       "      <td>3.15</td>\n",
       "      <td>10.86</td>\n",
       "      <td>12.83</td>\n",
       "      <td>16.42</td>\n",
       "      <td>2.43</td>\n",
       "      <td>2.88</td>\n",
       "      <td>2.26</td>\n",
       "      <td>0.68</td>\n",
       "      <td>-0.05</td>\n",
       "      <td>1.60</td>\n",
       "      <td>-1.78</td>\n",
       "    </tr>\n",
       "    <tr>\n",
       "      <th>2017-12-31</th>\n",
       "      <td>1.88</td>\n",
       "      <td>12.05</td>\n",
       "      <td>1.19</td>\n",
       "      <td>6.17</td>\n",
       "      <td>10.10</td>\n",
       "      <td>1.36</td>\n",
       "      <td>5.76</td>\n",
       "      <td>4.88</td>\n",
       "      <td>5.01</td>\n",
       "      <td>11.17</td>\n",
       "      <td>13.13</td>\n",
       "      <td>16.55</td>\n",
       "      <td>1.00</td>\n",
       "      <td>0.64</td>\n",
       "      <td>3.60</td>\n",
       "      <td>3.96</td>\n",
       "      <td>-5.00</td>\n",
       "      <td>4.01</td>\n",
       "      <td>7.98</td>\n",
       "    </tr>\n",
       "    <tr>\n",
       "      <th>2018-03-31</th>\n",
       "      <td>1.27</td>\n",
       "      <td>-2.26</td>\n",
       "      <td>-0.55</td>\n",
       "      <td>-2.53</td>\n",
       "      <td>9.93</td>\n",
       "      <td>0.84</td>\n",
       "      <td>3.19</td>\n",
       "      <td>1.89</td>\n",
       "      <td>2.05</td>\n",
       "      <td>11.39</td>\n",
       "      <td>13.49</td>\n",
       "      <td>17.36</td>\n",
       "      <td>0.74</td>\n",
       "      <td>0.00</td>\n",
       "      <td>-0.43</td>\n",
       "      <td>2.82</td>\n",
       "      <td>4.86</td>\n",
       "      <td>4.95</td>\n",
       "      <td>0.42</td>\n",
       "    </tr>\n",
       "    <tr>\n",
       "      <th>2018-06-30</th>\n",
       "      <td>0.59</td>\n",
       "      <td>0.25</td>\n",
       "      <td>-1.10</td>\n",
       "      <td>-0.59</td>\n",
       "      <td>10.50</td>\n",
       "      <td>10.63</td>\n",
       "      <td>7.08</td>\n",
       "      <td>8.31</td>\n",
       "      <td>8.30</td>\n",
       "      <td>12.70</td>\n",
       "      <td>14.66</td>\n",
       "      <td>19.44</td>\n",
       "      <td>-0.27</td>\n",
       "      <td>-4.59</td>\n",
       "      <td>-0.89</td>\n",
       "      <td>4.81</td>\n",
       "      <td>-1.43</td>\n",
       "      <td>8.29</td>\n",
       "      <td>14.58</td>\n",
       "    </tr>\n",
       "    <tr>\n",
       "      <th>2018-09-30</th>\n",
       "      <td>-0.96</td>\n",
       "      <td>-0.94</td>\n",
       "      <td>-1.58</td>\n",
       "      <td>-16.39</td>\n",
       "      <td>11.17</td>\n",
       "      <td>7.89</td>\n",
       "      <td>10.08</td>\n",
       "      <td>11.41</td>\n",
       "      <td>10.95</td>\n",
       "      <td>17.53</td>\n",
       "      <td>19.81</td>\n",
       "      <td>28.96</td>\n",
       "      <td>-0.96</td>\n",
       "      <td>-8.80</td>\n",
       "      <td>-1.30</td>\n",
       "      <td>6.61</td>\n",
       "      <td>-3.98</td>\n",
       "      <td>13.76</td>\n",
       "      <td>27.83</td>\n",
       "    </tr>\n",
       "    <tr>\n",
       "      <th>2018-12-31</th>\n",
       "      <td>-3.45</td>\n",
       "      <td>10.89</td>\n",
       "      <td>-3.30</td>\n",
       "      <td>-7.51</td>\n",
       "      <td>12.17</td>\n",
       "      <td>-3.96</td>\n",
       "      <td>-6.04</td>\n",
       "      <td>-0.85</td>\n",
       "      <td>-1.49</td>\n",
       "      <td>22.09</td>\n",
       "      <td>24.21</td>\n",
       "      <td>30.56</td>\n",
       "      <td>0.15</td>\n",
       "      <td>-0.90</td>\n",
       "      <td>-4.88</td>\n",
       "      <td>6.50</td>\n",
       "      <td>-9.04</td>\n",
       "      <td>7.51</td>\n",
       "      <td>-1.18</td>\n",
       "    </tr>\n",
       "    <tr>\n",
       "      <th>2019-03-31</th>\n",
       "      <td>1.56</td>\n",
       "      <td>-6.49</td>\n",
       "      <td>0.18</td>\n",
       "      <td>2.08</td>\n",
       "      <td>13.77</td>\n",
       "      <td>-0.21</td>\n",
       "      <td>0.94</td>\n",
       "      <td>1.37</td>\n",
       "      <td>2.37</td>\n",
       "      <td>19.58</td>\n",
       "      <td>21.13</td>\n",
       "      <td>24.05</td>\n",
       "      <td>1.71</td>\n",
       "      <td>2.10</td>\n",
       "      <td>2.35</td>\n",
       "      <td>0.75</td>\n",
       "      <td>0.41</td>\n",
       "      <td>-1.32</td>\n",
       "      <td>-2.84</td>\n",
       "    </tr>\n",
       "    <tr>\n",
       "      <th>2019-06-30</th>\n",
       "      <td>2.27</td>\n",
       "      <td>-1.58</td>\n",
       "      <td>2.06</td>\n",
       "      <td>2.39</td>\n",
       "      <td>13.73</td>\n",
       "      <td>7.83</td>\n",
       "      <td>4.30</td>\n",
       "      <td>8.41</td>\n",
       "      <td>9.92</td>\n",
       "      <td>21.44</td>\n",
       "      <td>22.52</td>\n",
       "      <td>26.34</td>\n",
       "      <td>1.23</td>\n",
       "      <td>0.93</td>\n",
       "      <td>0.89</td>\n",
       "      <td>3.10</td>\n",
       "      <td>0.31</td>\n",
       "      <td>5.98</td>\n",
       "      <td>9.57</td>\n",
       "    </tr>\n",
       "    <tr>\n",
       "      <th>2019-09-30</th>\n",
       "      <td>0.53</td>\n",
       "      <td>1.37</td>\n",
       "      <td>0.18</td>\n",
       "      <td>0.11</td>\n",
       "      <td>14.03</td>\n",
       "      <td>7.09</td>\n",
       "      <td>-1.04</td>\n",
       "      <td>3.15</td>\n",
       "      <td>2.97</td>\n",
       "      <td>17.87</td>\n",
       "      <td>18.76</td>\n",
       "      <td>20.51</td>\n",
       "      <td>0.91</td>\n",
       "      <td>1.39</td>\n",
       "      <td>1.23</td>\n",
       "      <td>2.61</td>\n",
       "      <td>-1.90</td>\n",
       "      <td>-0.41</td>\n",
       "      <td>-3.41</td>\n",
       "    </tr>\n",
       "    <tr>\n",
       "      <th>2019-12-31</th>\n",
       "      <td>1.34</td>\n",
       "      <td>8.19</td>\n",
       "      <td>0.66</td>\n",
       "      <td>9.14</td>\n",
       "      <td>13.40</td>\n",
       "      <td>-1.04</td>\n",
       "      <td>3.34</td>\n",
       "      <td>6.43</td>\n",
       "      <td>6.74</td>\n",
       "      <td>11.65</td>\n",
       "      <td>12.43</td>\n",
       "      <td>14.43</td>\n",
       "      <td>2.65</td>\n",
       "      <td>6.84</td>\n",
       "      <td>1.27</td>\n",
       "      <td>3.48</td>\n",
       "      <td>1.57</td>\n",
       "      <td>0.24</td>\n",
       "      <td>1.99</td>\n",
       "    </tr>\n",
       "    <tr>\n",
       "      <th>2020-03-31</th>\n",
       "      <td>0.18</td>\n",
       "      <td>-11.25</td>\n",
       "      <td>-0.44</td>\n",
       "      <td>-1.38</td>\n",
       "      <td>12.87</td>\n",
       "      <td>1.44</td>\n",
       "      <td>6.91</td>\n",
       "      <td>7.07</td>\n",
       "      <td>6.82</td>\n",
       "      <td>9.10</td>\n",
       "      <td>10.07</td>\n",
       "      <td>11.68</td>\n",
       "      <td>0.78</td>\n",
       "      <td>-2.23</td>\n",
       "      <td>0.90</td>\n",
       "      <td>2.41</td>\n",
       "      <td>0.62</td>\n",
       "      <td>2.90</td>\n",
       "      <td>5.33</td>\n",
       "    </tr>\n",
       "    <tr>\n",
       "      <th>2020-06-30</th>\n",
       "      <td>-10.71</td>\n",
       "      <td>-24.06</td>\n",
       "      <td>-16.71</td>\n",
       "      <td>-22.29</td>\n",
       "      <td>13.60</td>\n",
       "      <td>-12.92</td>\n",
       "      <td>14.23</td>\n",
       "      <td>15.13</td>\n",
       "      <td>14.91</td>\n",
       "      <td>7.67</td>\n",
       "      <td>8.79</td>\n",
       "      <td>10.13</td>\n",
       "      <td>-4.75</td>\n",
       "      <td>-27.62</td>\n",
       "      <td>-18.93</td>\n",
       "      <td>2.66</td>\n",
       "      <td>1.08</td>\n",
       "      <td>3.32</td>\n",
       "      <td>12.46</td>\n",
       "    </tr>\n",
       "    <tr>\n",
       "      <th>2020-09-30</th>\n",
       "      <td>16.41</td>\n",
       "      <td>33.78</td>\n",
       "      <td>14.50</td>\n",
       "      <td>32.46</td>\n",
       "      <td>13.23</td>\n",
       "      <td>35.52</td>\n",
       "      <td>9.48</td>\n",
       "      <td>8.92</td>\n",
       "      <td>8.10</td>\n",
       "      <td>8.16</td>\n",
       "      <td>9.93</td>\n",
       "      <td>12.24</td>\n",
       "      <td>9.32</td>\n",
       "      <td>37.54</td>\n",
       "      <td>30.63</td>\n",
       "      <td>2.71</td>\n",
       "      <td>0.20</td>\n",
       "      <td>4.52</td>\n",
       "      <td>5.18</td>\n",
       "    </tr>\n",
       "    <tr>\n",
       "      <th>2020-12-31</th>\n",
       "      <td>1.47</td>\n",
       "      <td>18.24</td>\n",
       "      <td>3.49</td>\n",
       "      <td>10.33</td>\n",
       "      <td>12.93</td>\n",
       "      <td>2.89</td>\n",
       "      <td>4.58</td>\n",
       "      <td>5.85</td>\n",
       "      <td>5.22</td>\n",
       "      <td>12.40</td>\n",
       "      <td>13.98</td>\n",
       "      <td>16.98</td>\n",
       "      <td>1.40</td>\n",
       "      <td>5.54</td>\n",
       "      <td>3.15</td>\n",
       "      <td>5.10</td>\n",
       "      <td>-1.30</td>\n",
       "      <td>9.92</td>\n",
       "      <td>9.07</td>\n",
       "    </tr>\n",
       "    <tr>\n",
       "      <th>2021-03-31</th>\n",
       "      <td>2.03</td>\n",
       "      <td>-2.59</td>\n",
       "      <td>0.49</td>\n",
       "      <td>-3.56</td>\n",
       "      <td>12.77</td>\n",
       "      <td>6.07</td>\n",
       "      <td>0.84</td>\n",
       "      <td>-1.11</td>\n",
       "      <td>-1.22</td>\n",
       "      <td>15.83</td>\n",
       "      <td>17.49</td>\n",
       "      <td>20.11</td>\n",
       "      <td>1.33</td>\n",
       "      <td>0.12</td>\n",
       "      <td>3.38</td>\n",
       "      <td>4.29</td>\n",
       "      <td>5.09</td>\n",
       "      <td>7.96</td>\n",
       "      <td>-6.16</td>\n",
       "    </tr>\n",
       "    <tr>\n",
       "      <th>2021-06-30</th>\n",
       "      <td>1.71</td>\n",
       "      <td>10.13</td>\n",
       "      <td>0.44</td>\n",
       "      <td>6.70</td>\n",
       "      <td>12.57</td>\n",
       "      <td>11.83</td>\n",
       "      <td>5.49</td>\n",
       "      <td>9.65</td>\n",
       "      <td>9.66</td>\n",
       "      <td>17.30</td>\n",
       "      <td>18.83</td>\n",
       "      <td>21.36</td>\n",
       "      <td>1.56</td>\n",
       "      <td>-1.10</td>\n",
       "      <td>1.57</td>\n",
       "      <td>3.99</td>\n",
       "      <td>-5.46</td>\n",
       "      <td>11.91</td>\n",
       "      <td>13.45</td>\n",
       "    </tr>\n",
       "    <tr>\n",
       "      <th>2021-09-30</th>\n",
       "      <td>3.65</td>\n",
       "      <td>1.76</td>\n",
       "      <td>1.45</td>\n",
       "      <td>3.23</td>\n",
       "      <td>11.63</td>\n",
       "      <td>25.30</td>\n",
       "      <td>2.47</td>\n",
       "      <td>5.96</td>\n",
       "      <td>6.03</td>\n",
       "      <td>17.41</td>\n",
       "      <td>18.91</td>\n",
       "      <td>21.23</td>\n",
       "      <td>2.55</td>\n",
       "      <td>4.10</td>\n",
       "      <td>2.23</td>\n",
       "      <td>4.62</td>\n",
       "      <td>-0.65</td>\n",
       "      <td>9.02</td>\n",
       "      <td>1.89</td>\n",
       "    </tr>\n",
       "    <tr>\n",
       "      <th>2021-12-31</th>\n",
       "      <td>1.57</td>\n",
       "      <td>15.14</td>\n",
       "      <td>1.08</td>\n",
       "      <td>16.40</td>\n",
       "      <td>11.07</td>\n",
       "      <td>15.92</td>\n",
       "      <td>16.27</td>\n",
       "      <td>19.18</td>\n",
       "      <td>18.92</td>\n",
       "      <td>15.86</td>\n",
       "      <td>17.22</td>\n",
       "      <td>20.48</td>\n",
       "      <td>1.26</td>\n",
       "      <td>-1.24</td>\n",
       "      <td>3.77</td>\n",
       "      <td>10.91</td>\n",
       "      <td>-9.39</td>\n",
       "      <td>21.93</td>\n",
       "      <td>30.88</td>\n",
       "    </tr>\n",
       "    <tr>\n",
       "      <th>2022-03-31</th>\n",
       "      <td>0.21</td>\n",
       "      <td>-6.74</td>\n",
       "      <td>-0.04</td>\n",
       "      <td>10.76</td>\n",
       "      <td>10.97</td>\n",
       "      <td>13.06</td>\n",
       "      <td>12.62</td>\n",
       "      <td>17.10</td>\n",
       "      <td>16.09</td>\n",
       "      <td>16.05</td>\n",
       "      <td>18.17</td>\n",
       "      <td>22.12</td>\n",
       "      <td>0.95</td>\n",
       "      <td>-1.02</td>\n",
       "      <td>0.82</td>\n",
       "      <td>28.29</td>\n",
       "      <td>0.12</td>\n",
       "      <td>37.59</td>\n",
       "      <td>24.78</td>\n",
       "    </tr>\n",
       "    <tr>\n",
       "      <th>2022-06-30</th>\n",
       "      <td>1.41</td>\n",
       "      <td>9.25</td>\n",
       "      <td>0.13</td>\n",
       "      <td>4.68</td>\n",
       "      <td>10.67</td>\n",
       "      <td>35.74</td>\n",
       "      <td>15.36</td>\n",
       "      <td>13.59</td>\n",
       "      <td>13.48</td>\n",
       "      <td>15.18</td>\n",
       "      <td>17.41</td>\n",
       "      <td>23.01</td>\n",
       "      <td>0.77</td>\n",
       "      <td>-3.24</td>\n",
       "      <td>1.16</td>\n",
       "      <td>16.94</td>\n",
       "      <td>-8.16</td>\n",
       "      <td>26.29</td>\n",
       "      <td>13.33</td>\n",
       "    </tr>\n",
       "    <tr>\n",
       "      <th>2022-09-30</th>\n",
       "      <td>0.54</td>\n",
       "      <td>-4.90</td>\n",
       "      <td>-0.73</td>\n",
       "      <td>3.65</td>\n",
       "      <td>10.03</td>\n",
       "      <td>25.51</td>\n",
       "      <td>11.06</td>\n",
       "      <td>16.28</td>\n",
       "      <td>16.32</td>\n",
       "      <td>15.93</td>\n",
       "      <td>19.26</td>\n",
       "      <td>24.81</td>\n",
       "      <td>0.45</td>\n",
       "      <td>-4.76</td>\n",
       "      <td>-4.58</td>\n",
       "      <td>8.85</td>\n",
       "      <td>7.89</td>\n",
       "      <td>16.42</td>\n",
       "      <td>13.54</td>\n",
       "    </tr>\n",
       "    <tr>\n",
       "      <th>2022-12-31</th>\n",
       "      <td>1.15</td>\n",
       "      <td>5.87</td>\n",
       "      <td>-1.34</td>\n",
       "      <td>-1.60</td>\n",
       "      <td>10.23</td>\n",
       "      <td>18.14</td>\n",
       "      <td>9.79</td>\n",
       "      <td>11.26</td>\n",
       "      <td>11.95</td>\n",
       "      <td>14.83</td>\n",
       "      <td>21.25</td>\n",
       "      <td>16.48</td>\n",
       "      <td>1.32</td>\n",
       "      <td>0.26</td>\n",
       "      <td>2.97</td>\n",
       "      <td>8.62</td>\n",
       "      <td>6.59</td>\n",
       "      <td>12.54</td>\n",
       "      <td>3.78</td>\n",
       "    </tr>\n",
       "    <tr>\n",
       "      <th>2023-03-31</th>\n",
       "      <td>-0.16</td>\n",
       "      <td>-7.04</td>\n",
       "      <td>-1.40</td>\n",
       "      <td>4.05</td>\n",
       "      <td>9.87</td>\n",
       "      <td>13.94</td>\n",
       "      <td>12.10</td>\n",
       "      <td>9.37</td>\n",
       "      <td>9.85</td>\n",
       "      <td>16.50</td>\n",
       "      <td>26.57</td>\n",
       "      <td>14.65</td>\n",
       "      <td>1.90</td>\n",
       "      <td>1.64</td>\n",
       "      <td>-0.26</td>\n",
       "      <td>11.63</td>\n",
       "      <td>5.92</td>\n",
       "      <td>5.48</td>\n",
       "      <td>1.37</td>\n",
       "    </tr>\n",
       "    <tr>\n",
       "      <th>2023-06-30</th>\n",
       "      <td>3.61</td>\n",
       "      <td>0.34</td>\n",
       "      <td>1.24</td>\n",
       "      <td>-8.37</td>\n",
       "      <td>9.67</td>\n",
       "      <td>32.46</td>\n",
       "      <td>15.38</td>\n",
       "      <td>12.80</td>\n",
       "      <td>12.31</td>\n",
       "      <td>22.67</td>\n",
       "      <td>33.63</td>\n",
       "      <td>15.25</td>\n",
       "      <td>1.16</td>\n",
       "      <td>1.94</td>\n",
       "      <td>2.41</td>\n",
       "      <td>6.40</td>\n",
       "      <td>9.09</td>\n",
       "      <td>4.29</td>\n",
       "      <td>9.53</td>\n",
       "    </tr>\n",
       "    <tr>\n",
       "      <th>2023-09-30</th>\n",
       "      <td>0.31</td>\n",
       "      <td>3.39</td>\n",
       "      <td>0.44</td>\n",
       "      <td>2.14</td>\n",
       "      <td>9.23</td>\n",
       "      <td>28.22</td>\n",
       "      <td>11.52</td>\n",
       "      <td>20.87</td>\n",
       "      <td>21.02</td>\n",
       "      <td>26.54</td>\n",
       "      <td>35.26</td>\n",
       "      <td>33.29</td>\n",
       "      <td>0.98</td>\n",
       "      <td>-0.41</td>\n",
       "      <td>0.73</td>\n",
       "      <td>21.08</td>\n",
       "      <td>-16.75</td>\n",
       "      <td>18.86</td>\n",
       "      <td>29.66</td>\n",
       "    </tr>\n",
       "    <tr>\n",
       "      <th>2023-12-31</th>\n",
       "      <td>0.95</td>\n",
       "      <td>7.78</td>\n",
       "      <td>0.92</td>\n",
       "      <td>-3.01</td>\n",
       "      <td>8.80</td>\n",
       "      <td>10.84</td>\n",
       "      <td>8.22</td>\n",
       "      <td>9.90</td>\n",
       "      <td>10.13</td>\n",
       "      <td>38.31</td>\n",
       "      <td>47.33</td>\n",
       "      <td>51.27</td>\n",
       "      <td>0.13</td>\n",
       "      <td>-0.64</td>\n",
       "      <td>-0.72</td>\n",
       "      <td>13.16</td>\n",
       "      <td>3.63</td>\n",
       "      <td>8.57</td>\n",
       "      <td>6.29</td>\n",
       "    </tr>\n",
       "    <tr>\n",
       "      <th>2024-03-31</th>\n",
       "      <td>0.00</td>\n",
       "      <td>-7.39</td>\n",
       "      <td>-0.43</td>\n",
       "      <td>-3.88</td>\n",
       "      <td>8.85</td>\n",
       "      <td>18.06</td>\n",
       "      <td>9.76</td>\n",
       "      <td>7.26</td>\n",
       "      <td>8.36</td>\n",
       "      <td>45.40</td>\n",
       "      <td>53.39</td>\n",
       "      <td>56.01</td>\n",
       "      <td>1.10</td>\n",
       "      <td>-1.34</td>\n",
       "      <td>3.43</td>\n",
       "      <td>14.45</td>\n",
       "      <td>5.10</td>\n",
       "      <td>9.73</td>\n",
       "      <td>8.45</td>\n",
       "    </tr>\n",
       "  </tbody>\n",
       "</table>\n",
       "</div>"
      ],
      "text/plain": [
       "            Büyüme  İhracat  İmalat PMI  ...  Tüketici Güven   ÜFE  USD/TL\n",
       "2014-06-30   -1.62     0.07       -0.53  ...            4.69  0.70   -4.70\n",
       "2014-09-30    2.46    -4.06       -0.93  ...           -1.60  1.16    2.36\n",
       "2014-12-31    1.35     2.62        0.27  ...           -3.18  0.72    4.61\n",
       "2015-03-31    1.89    -6.26        0.49  ...           -2.87  0.64    8.70\n",
       "2015-06-30    1.52    -2.07        3.06  ...           -0.30  3.39    8.48\n",
       "2015-09-30    1.40    -7.43       -0.04  ...           -3.13  1.39    6.62\n",
       "2015-12-31    1.17     8.99        0.17  ...            7.41  0.07    2.24\n",
       "2016-03-31    0.36    -5.79       -0.13  ...           -1.11 -0.16    1.29\n",
       "2016-06-30    1.43     6.49        0.17  ...            1.27  1.86   -1.72\n",
       "2016-09-30   -2.87   -11.99       -0.73  ...            1.69  1.13    2.32\n",
       "2016-12-31    5.51    18.59        0.91  ...           -2.20  3.43   10.73\n",
       "2017-03-31    1.37    -2.15        0.00  ...           -2.75  7.98   12.61\n",
       "2017-06-30    2.28     4.68        1.42  ...            4.86  2.25   -3.05\n",
       "2017-09-30    1.52    -4.40       -0.51  ...           -0.05  1.60   -1.78\n",
       "2017-12-31    1.88    12.05        1.19  ...           -5.00  4.01    7.98\n",
       "2018-03-31    1.27    -2.26       -0.55  ...            4.86  4.95    0.42\n",
       "2018-06-30    0.59     0.25       -1.10  ...           -1.43  8.29   14.58\n",
       "2018-09-30   -0.96    -0.94       -1.58  ...           -3.98 13.76   27.83\n",
       "2018-12-31   -3.45    10.89       -3.30  ...           -9.04  7.51   -1.18\n",
       "2019-03-31    1.56    -6.49        0.18  ...            0.41 -1.32   -2.84\n",
       "2019-06-30    2.27    -1.58        2.06  ...            0.31  5.98    9.57\n",
       "2019-09-30    0.53     1.37        0.18  ...           -1.90 -0.41   -3.41\n",
       "2019-12-31    1.34     8.19        0.66  ...            1.57  0.24    1.99\n",
       "2020-03-31    0.18   -11.25       -0.44  ...            0.62  2.90    5.33\n",
       "2020-06-30  -10.71   -24.06      -16.71  ...            1.08  3.32   12.46\n",
       "2020-09-30   16.41    33.78       14.50  ...            0.20  4.52    5.18\n",
       "2020-12-31    1.47    18.24        3.49  ...           -1.30  9.92    9.07\n",
       "2021-03-31    2.03    -2.59        0.49  ...            5.09  7.96   -6.16\n",
       "2021-06-30    1.71    10.13        0.44  ...           -5.46 11.91   13.45\n",
       "2021-09-30    3.65     1.76        1.45  ...           -0.65  9.02    1.89\n",
       "2021-12-31    1.57    15.14        1.08  ...           -9.39 21.93   30.88\n",
       "2022-03-31    0.21    -6.74       -0.04  ...            0.12 37.59   24.78\n",
       "2022-06-30    1.41     9.25        0.13  ...           -8.16 26.29   13.33\n",
       "2022-09-30    0.54    -4.90       -0.73  ...            7.89 16.42   13.54\n",
       "2022-12-31    1.15     5.87       -1.34  ...            6.59 12.54    3.78\n",
       "2023-03-31   -0.16    -7.04       -1.40  ...            5.92  5.48    1.37\n",
       "2023-06-30    3.61     0.34        1.24  ...            9.09  4.29    9.53\n",
       "2023-09-30    0.31     3.39        0.44  ...          -16.75 18.86   29.66\n",
       "2023-12-31    0.95     7.78        0.92  ...            3.63  8.57    6.29\n",
       "2024-03-31    0.00    -7.39       -0.43  ...            5.10  9.73    8.45\n",
       "\n",
       "[40 rows x 19 columns]"
      ]
     },
     "execution_count": 175,
     "metadata": {},
     "output_type": "execute_result"
    }
   ],
   "source": [
    "data=pd.concat([veri,ihracat,imalat,ithalat,işsizlik,kart,kredi,m2,m3,mfaiz1ay,mfaiz3ay,tfaiz,öncü,reelgüven,sanayi,tüfe,tuketicigüven,üfe,usd],axis=1)\n",
    "data[\"Büyüme\"].iloc[-2]=0.0\n",
    "data=data.dropna()\n",
    "data=data.astype(float)\n",
    "data"
   ]
  },
  {
   "cell_type": "code",
   "execution_count": 124,
   "metadata": {},
   "outputs": [
    {
     "data": {
      "text/plain": [
       "<Axes: >"
      ]
     },
     "execution_count": 124,
     "metadata": {},
     "output_type": "execute_result"
    },
    {
     "data": {
      "image/png": "[encoded data removed]",
      "text/plain": [
       "<Figure size 1500x800 with 1 Axes>"
      ]
     },
     "metadata": {},
     "output_type": "display_data"
    }
   ],
   "source": [
    "data.corr()[\"Büyüme\"].sort_values(ascending=False).plot(kind=\"barh\",figsize=(15,8))"
   ]
  },
  {
   "cell_type": "code",
   "execution_count": 176,
   "metadata": {},
   "outputs": [
    {
     "name": "stderr",
     "output_type": "stream",
     "text": [
      "100%|██████████| 42/42 [00:01<00:00, 22.45it/s]\n"
     ]
    }
   ],
   "source": [
    "X=data[[\"Kart\",\"İhracat\",\"İthalat\",\"Reel Güven\",\"Öncü Gösterge\",\"İmalat PMI\",\"Sanayi\"]]\n",
    "y=data[\"Büyüme\"]\n",
    "X_train,X_test=X.iloc[:-7,:],X.iloc[-7:,:]\n",
    "y_train,y_test=y[:-7],y[-7:]\n",
    "model,tahminler=LazyRegressor(predictions=True).fit(X_train,X_test,y_train,y_test)"
   ]
  },
  {
   "cell_type": "code",
   "execution_count": 177,
   "metadata": {},
   "outputs": [
    {
     "data": {
      "text/html": [
       "<div>\n",
       "<style scoped>\n",
       "    .dataframe tbody tr th:only-of-type {\n",
       "        vertical-align: middle;\n",
       "    }\n",
       "\n",
       "    .dataframe tbody tr th {\n",
       "        vertical-align: top;\n",
       "    }\n",
       "\n",
       "    .dataframe thead th {\n",
       "        text-align: right;\n",
       "    }\n",
       "</style>\n",
       "<table border=\"1\" class=\"dataframe\">\n",
       "  <thead>\n",
       "    <tr style=\"text-align: right;\">\n",
       "      <th></th>\n",
       "      <th>RANSACRegressor</th>\n",
       "      <th>Büyüme</th>\n",
       "    </tr>\n",
       "  </thead>\n",
       "  <tbody>\n",
       "    <tr>\n",
       "      <th>0</th>\n",
       "      <td>-0.83</td>\n",
       "      <td>0.54</td>\n",
       "    </tr>\n",
       "    <tr>\n",
       "      <th>1</th>\n",
       "      <td>0.84</td>\n",
       "      <td>1.15</td>\n",
       "    </tr>\n",
       "    <tr>\n",
       "      <th>2</th>\n",
       "      <td>0.11</td>\n",
       "      <td>-0.16</td>\n",
       "    </tr>\n",
       "    <tr>\n",
       "      <th>3</th>\n",
       "      <td>3.03</td>\n",
       "      <td>3.61</td>\n",
       "    </tr>\n",
       "    <tr>\n",
       "      <th>4</th>\n",
       "      <td>1.42</td>\n",
       "      <td>0.31</td>\n",
       "    </tr>\n",
       "    <tr>\n",
       "      <th>5</th>\n",
       "      <td>0.62</td>\n",
       "      <td>0.95</td>\n",
       "    </tr>\n",
       "    <tr>\n",
       "      <th>6</th>\n",
       "      <td>1.56</td>\n",
       "      <td>0.00</td>\n",
       "    </tr>\n",
       "  </tbody>\n",
       "</table>\n",
       "</div>"
      ],
      "text/plain": [
       "   RANSACRegressor  Büyüme\n",
       "0            -0.83    0.54\n",
       "1             0.84    1.15\n",
       "2             0.11   -0.16\n",
       "3             3.03    3.61\n",
       "4             1.42    0.31\n",
       "5             0.62    0.95\n",
       "6             1.56    0.00"
      ]
     },
     "execution_count": 177,
     "metadata": {},
     "output_type": "execute_result"
    }
   ],
   "source": [
    "tahminler[\"Büyüme\"]=y_test.values\n",
    "tahminler[[\"RANSACRegressor\",\"Büyüme\"]]"
   ]
  },
  {
   "cell_type": "code",
   "execution_count": 225,
   "metadata": {},
   "outputs": [
    {
     "data": {
      "text/html": [
       "<div>\n",
       "<style scoped>\n",
       "    .dataframe tbody tr th:only-of-type {\n",
       "        vertical-align: middle;\n",
       "    }\n",
       "\n",
       "    .dataframe tbody tr th {\n",
       "        vertical-align: top;\n",
       "    }\n",
       "\n",
       "    .dataframe thead th {\n",
       "        text-align: right;\n",
       "    }\n",
       "</style>\n",
       "<table border=\"1\" class=\"dataframe\">\n",
       "  <thead>\n",
       "    <tr style=\"text-align: right;\">\n",
       "      <th></th>\n",
       "      <th>Kart</th>\n",
       "      <th>İhracat</th>\n",
       "      <th>İthalat</th>\n",
       "      <th>Reel Güven</th>\n",
       "      <th>Öncü Gösterge</th>\n",
       "      <th>İmalat PMI</th>\n",
       "      <th>Sanayi</th>\n",
       "      <th>Büyüme</th>\n",
       "    </tr>\n",
       "  </thead>\n",
       "  <tbody>\n",
       "    <tr>\n",
       "      <th>0</th>\n",
       "      <td>-0.22</td>\n",
       "      <td>-0.14</td>\n",
       "      <td>0.59</td>\n",
       "      <td>0.65</td>\n",
       "      <td>0.92</td>\n",
       "      <td>-0.17</td>\n",
       "      <td>-0.44</td>\n",
       "      <td>-0.82</td>\n",
       "    </tr>\n",
       "    <tr>\n",
       "      <th>1</th>\n",
       "      <td>-0.43</td>\n",
       "      <td>-0.56</td>\n",
       "      <td>-0.45</td>\n",
       "      <td>-0.24</td>\n",
       "      <td>-0.03</td>\n",
       "      <td>-0.28</td>\n",
       "      <td>0.03</td>\n",
       "      <td>0.37</td>\n",
       "    </tr>\n",
       "    <tr>\n",
       "      <th>2</th>\n",
       "      <td>-0.81</td>\n",
       "      <td>0.11</td>\n",
       "      <td>0.10</td>\n",
       "      <td>0.15</td>\n",
       "      <td>0.15</td>\n",
       "      <td>0.04</td>\n",
       "      <td>-0.12</td>\n",
       "      <td>0.05</td>\n",
       "    </tr>\n",
       "    <tr>\n",
       "      <th>3</th>\n",
       "      <td>-0.56</td>\n",
       "      <td>-0.78</td>\n",
       "      <td>-1.69</td>\n",
       "      <td>-0.42</td>\n",
       "      <td>-0.19</td>\n",
       "      <td>0.10</td>\n",
       "      <td>-0.03</td>\n",
       "      <td>0.21</td>\n",
       "    </tr>\n",
       "    <tr>\n",
       "      <th>4</th>\n",
       "      <td>0.16</td>\n",
       "      <td>-0.36</td>\n",
       "      <td>0.14</td>\n",
       "      <td>0.06</td>\n",
       "      <td>-0.19</td>\n",
       "      <td>0.80</td>\n",
       "      <td>0.35</td>\n",
       "      <td>0.10</td>\n",
       "    </tr>\n",
       "    <tr>\n",
       "      <th>5</th>\n",
       "      <td>-0.65</td>\n",
       "      <td>-0.89</td>\n",
       "      <td>-0.97</td>\n",
       "      <td>-0.36</td>\n",
       "      <td>-0.11</td>\n",
       "      <td>-0.04</td>\n",
       "      <td>0.10</td>\n",
       "      <td>0.07</td>\n",
       "    </tr>\n",
       "    <tr>\n",
       "      <th>6</th>\n",
       "      <td>-0.93</td>\n",
       "      <td>0.75</td>\n",
       "      <td>0.03</td>\n",
       "      <td>0.43</td>\n",
       "      <td>0.23</td>\n",
       "      <td>0.02</td>\n",
       "      <td>-0.17</td>\n",
       "      <td>-0.00</td>\n",
       "    </tr>\n",
       "    <tr>\n",
       "      <th>7</th>\n",
       "      <td>-0.80</td>\n",
       "      <td>-0.73</td>\n",
       "      <td>-0.96</td>\n",
       "      <td>-0.02</td>\n",
       "      <td>-0.47</td>\n",
       "      <td>-0.06</td>\n",
       "      <td>-0.07</td>\n",
       "      <td>-0.24</td>\n",
       "    </tr>\n",
       "    <tr>\n",
       "      <th>8</th>\n",
       "      <td>-0.11</td>\n",
       "      <td>0.50</td>\n",
       "      <td>1.15</td>\n",
       "      <td>-0.12</td>\n",
       "      <td>0.50</td>\n",
       "      <td>0.02</td>\n",
       "      <td>-0.09</td>\n",
       "      <td>0.07</td>\n",
       "    </tr>\n",
       "    <tr>\n",
       "      <th>9</th>\n",
       "      <td>-0.74</td>\n",
       "      <td>-1.35</td>\n",
       "      <td>-1.35</td>\n",
       "      <td>-0.06</td>\n",
       "      <td>-0.24</td>\n",
       "      <td>-0.23</td>\n",
       "      <td>-0.58</td>\n",
       "      <td>-1.18</td>\n",
       "    </tr>\n",
       "    <tr>\n",
       "      <th>10</th>\n",
       "      <td>-0.79</td>\n",
       "      <td>1.71</td>\n",
       "      <td>0.95</td>\n",
       "      <td>0.08</td>\n",
       "      <td>0.36</td>\n",
       "      <td>0.22</td>\n",
       "      <td>0.47</td>\n",
       "      <td>1.26</td>\n",
       "    </tr>\n",
       "    <tr>\n",
       "      <th>11</th>\n",
       "      <td>-0.67</td>\n",
       "      <td>-0.37</td>\n",
       "      <td>-0.29</td>\n",
       "      <td>-0.19</td>\n",
       "      <td>0.05</td>\n",
       "      <td>-0.03</td>\n",
       "      <td>0.05</td>\n",
       "      <td>0.06</td>\n",
       "    </tr>\n",
       "    <tr>\n",
       "      <th>12</th>\n",
       "      <td>-0.01</td>\n",
       "      <td>0.32</td>\n",
       "      <td>1.27</td>\n",
       "      <td>0.22</td>\n",
       "      <td>-0.10</td>\n",
       "      <td>0.35</td>\n",
       "      <td>0.36</td>\n",
       "      <td>0.32</td>\n",
       "    </tr>\n",
       "    <tr>\n",
       "      <th>13</th>\n",
       "      <td>-0.27</td>\n",
       "      <td>-0.59</td>\n",
       "      <td>0.46</td>\n",
       "      <td>0.32</td>\n",
       "      <td>0.68</td>\n",
       "      <td>-0.17</td>\n",
       "      <td>0.16</td>\n",
       "      <td>0.10</td>\n",
       "    </tr>\n",
       "    <tr>\n",
       "      <th>14</th>\n",
       "      <td>-0.71</td>\n",
       "      <td>1.05</td>\n",
       "      <td>0.51</td>\n",
       "      <td>0.04</td>\n",
       "      <td>-0.13</td>\n",
       "      <td>0.29</td>\n",
       "      <td>0.38</td>\n",
       "      <td>0.21</td>\n",
       "    </tr>\n",
       "    <tr>\n",
       "      <th>15</th>\n",
       "      <td>-0.76</td>\n",
       "      <td>-0.38</td>\n",
       "      <td>-0.40</td>\n",
       "      <td>-0.04</td>\n",
       "      <td>-0.28</td>\n",
       "      <td>-0.18</td>\n",
       "      <td>-0.29</td>\n",
       "      <td>0.03</td>\n",
       "    </tr>\n",
       "    <tr>\n",
       "      <th>16</th>\n",
       "      <td>0.14</td>\n",
       "      <td>-0.13</td>\n",
       "      <td>-0.20</td>\n",
       "      <td>-0.62</td>\n",
       "      <td>-0.86</td>\n",
       "      <td>-0.33</td>\n",
       "      <td>-0.37</td>\n",
       "      <td>-0.17</td>\n",
       "    </tr>\n",
       "    <tr>\n",
       "      <th>17</th>\n",
       "      <td>-0.12</td>\n",
       "      <td>-0.25</td>\n",
       "      <td>-1.84</td>\n",
       "      <td>-1.16</td>\n",
       "      <td>-1.25</td>\n",
       "      <td>-0.46</td>\n",
       "      <td>-0.44</td>\n",
       "      <td>-0.62</td>\n",
       "    </tr>\n",
       "    <tr>\n",
       "      <th>18</th>\n",
       "      <td>-1.20</td>\n",
       "      <td>0.94</td>\n",
       "      <td>-0.91</td>\n",
       "      <td>-0.16</td>\n",
       "      <td>-0.62</td>\n",
       "      <td>-0.92</td>\n",
       "      <td>-1.04</td>\n",
       "      <td>-1.35</td>\n",
       "    </tr>\n",
       "    <tr>\n",
       "      <th>19</th>\n",
       "      <td>-0.86</td>\n",
       "      <td>-0.80</td>\n",
       "      <td>0.08</td>\n",
       "      <td>0.22</td>\n",
       "      <td>0.27</td>\n",
       "      <td>0.02</td>\n",
       "      <td>0.17</td>\n",
       "      <td>0.11</td>\n",
       "    </tr>\n",
       "    <tr>\n",
       "      <th>20</th>\n",
       "      <td>-0.12</td>\n",
       "      <td>-0.31</td>\n",
       "      <td>0.11</td>\n",
       "      <td>0.07</td>\n",
       "      <td>-0.01</td>\n",
       "      <td>0.53</td>\n",
       "      <td>-0.07</td>\n",
       "      <td>0.32</td>\n",
       "    </tr>\n",
       "    <tr>\n",
       "      <th>21</th>\n",
       "      <td>-0.19</td>\n",
       "      <td>-0.01</td>\n",
       "      <td>-0.12</td>\n",
       "      <td>0.13</td>\n",
       "      <td>-0.19</td>\n",
       "      <td>0.02</td>\n",
       "      <td>-0.02</td>\n",
       "      <td>-0.19</td>\n",
       "    </tr>\n",
       "    <tr>\n",
       "      <th>22</th>\n",
       "      <td>-0.93</td>\n",
       "      <td>0.67</td>\n",
       "      <td>0.82</td>\n",
       "      <td>0.82</td>\n",
       "      <td>0.81</td>\n",
       "      <td>0.15</td>\n",
       "      <td>-0.01</td>\n",
       "      <td>0.05</td>\n",
       "    </tr>\n",
       "    <tr>\n",
       "      <th>23</th>\n",
       "      <td>-0.71</td>\n",
       "      <td>-1.28</td>\n",
       "      <td>-0.28</td>\n",
       "      <td>-0.33</td>\n",
       "      <td>-0.26</td>\n",
       "      <td>-0.15</td>\n",
       "      <td>-0.07</td>\n",
       "      <td>-0.29</td>\n",
       "    </tr>\n",
       "    <tr>\n",
       "      <th>24</th>\n",
       "      <td>-2.02</td>\n",
       "      <td>-2.56</td>\n",
       "      <td>-2.45</td>\n",
       "      <td>-3.54</td>\n",
       "      <td>-3.41</td>\n",
       "      <td>-4.55</td>\n",
       "      <td>-3.38</td>\n",
       "      <td>-3.47</td>\n",
       "    </tr>\n",
       "    <tr>\n",
       "      <th>25</th>\n",
       "      <td>2.42</td>\n",
       "      <td>3.23</td>\n",
       "      <td>3.24</td>\n",
       "      <td>4.71</td>\n",
       "      <td>4.60</td>\n",
       "      <td>3.89</td>\n",
       "      <td>4.89</td>\n",
       "      <td>4.45</td>\n",
       "    </tr>\n",
       "    <tr>\n",
       "      <th>26</th>\n",
       "      <td>-0.57</td>\n",
       "      <td>1.67</td>\n",
       "      <td>0.94</td>\n",
       "      <td>0.66</td>\n",
       "      <td>0.09</td>\n",
       "      <td>0.91</td>\n",
       "      <td>0.30</td>\n",
       "      <td>0.08</td>\n",
       "    </tr>\n",
       "    <tr>\n",
       "      <th>27</th>\n",
       "      <td>-0.28</td>\n",
       "      <td>-0.41</td>\n",
       "      <td>-0.50</td>\n",
       "      <td>-0.03</td>\n",
       "      <td>0.05</td>\n",
       "      <td>0.10</td>\n",
       "      <td>0.34</td>\n",
       "      <td>0.25</td>\n",
       "    </tr>\n",
       "    <tr>\n",
       "      <th>28</th>\n",
       "      <td>0.25</td>\n",
       "      <td>0.86</td>\n",
       "      <td>0.56</td>\n",
       "      <td>-0.18</td>\n",
       "      <td>0.19</td>\n",
       "      <td>0.09</td>\n",
       "      <td>0.04</td>\n",
       "      <td>0.16</td>\n",
       "    </tr>\n",
       "    <tr>\n",
       "      <th>29</th>\n",
       "      <td>1.48</td>\n",
       "      <td>0.03</td>\n",
       "      <td>0.20</td>\n",
       "      <td>0.47</td>\n",
       "      <td>0.75</td>\n",
       "      <td>0.36</td>\n",
       "      <td>0.15</td>\n",
       "      <td>0.72</td>\n",
       "    </tr>\n",
       "    <tr>\n",
       "      <th>30</th>\n",
       "      <td>0.62</td>\n",
       "      <td>1.36</td>\n",
       "      <td>1.57</td>\n",
       "      <td>-0.20</td>\n",
       "      <td>0.01</td>\n",
       "      <td>0.26</td>\n",
       "      <td>0.41</td>\n",
       "      <td>0.11</td>\n",
       "    </tr>\n",
       "    <tr>\n",
       "      <th>31</th>\n",
       "      <td>0.36</td>\n",
       "      <td>-0.83</td>\n",
       "      <td>0.98</td>\n",
       "      <td>-0.17</td>\n",
       "      <td>-0.16</td>\n",
       "      <td>-0.04</td>\n",
       "      <td>-0.08</td>\n",
       "      <td>-0.28</td>\n",
       "    </tr>\n",
       "    <tr>\n",
       "      <th>32</th>\n",
       "      <td>2.44</td>\n",
       "      <td>0.77</td>\n",
       "      <td>0.35</td>\n",
       "      <td>-0.45</td>\n",
       "      <td>-0.26</td>\n",
       "      <td>0.00</td>\n",
       "      <td>-0.03</td>\n",
       "      <td>0.07</td>\n",
       "    </tr>\n",
       "    <tr>\n",
       "      <th>33</th>\n",
       "      <td>1.50</td>\n",
       "      <td>-0.64</td>\n",
       "      <td>0.25</td>\n",
       "      <td>-0.65</td>\n",
       "      <td>-0.45</td>\n",
       "      <td>-0.23</td>\n",
       "      <td>-0.99</td>\n",
       "      <td>-0.19</td>\n",
       "    </tr>\n",
       "    <tr>\n",
       "      <th>34</th>\n",
       "      <td>0.82</td>\n",
       "      <td>0.44</td>\n",
       "      <td>-0.30</td>\n",
       "      <td>-0.01</td>\n",
       "      <td>0.05</td>\n",
       "      <td>-0.39</td>\n",
       "      <td>0.27</td>\n",
       "      <td>-0.01</td>\n",
       "    </tr>\n",
       "    <tr>\n",
       "      <th>35</th>\n",
       "      <td>0.44</td>\n",
       "      <td>-0.86</td>\n",
       "      <td>0.29</td>\n",
       "      <td>0.16</td>\n",
       "      <td>0.38</td>\n",
       "      <td>-0.41</td>\n",
       "      <td>-0.27</td>\n",
       "      <td>-0.39</td>\n",
       "    </tr>\n",
       "    <tr>\n",
       "      <th>36</th>\n",
       "      <td>2.14</td>\n",
       "      <td>-0.12</td>\n",
       "      <td>-1.00</td>\n",
       "      <td>0.20</td>\n",
       "      <td>-0.04</td>\n",
       "      <td>0.31</td>\n",
       "      <td>0.18</td>\n",
       "      <td>0.71</td>\n",
       "    </tr>\n",
       "    <tr>\n",
       "      <th>37</th>\n",
       "      <td>1.75</td>\n",
       "      <td>0.19</td>\n",
       "      <td>0.09</td>\n",
       "      <td>-0.10</td>\n",
       "      <td>-0.15</td>\n",
       "      <td>0.09</td>\n",
       "      <td>-0.10</td>\n",
       "      <td>-0.25</td>\n",
       "    </tr>\n",
       "    <tr>\n",
       "      <th>38</th>\n",
       "      <td>0.15</td>\n",
       "      <td>0.63</td>\n",
       "      <td>-0.45</td>\n",
       "      <td>-0.12</td>\n",
       "      <td>-0.63</td>\n",
       "      <td>0.22</td>\n",
       "      <td>-0.34</td>\n",
       "      <td>-0.07</td>\n",
       "    </tr>\n",
       "    <tr>\n",
       "      <th>39</th>\n",
       "      <td>0.82</td>\n",
       "      <td>-0.89</td>\n",
       "      <td>-0.54</td>\n",
       "      <td>-0.21</td>\n",
       "      <td>-0.08</td>\n",
       "      <td>-0.15</td>\n",
       "      <td>0.35</td>\n",
       "      <td>-0.34</td>\n",
       "    </tr>\n",
       "  </tbody>\n",
       "</table>\n",
       "</div>"
      ],
      "text/plain": [
       "    Kart  İhracat  İthalat  ...  İmalat PMI  Sanayi  Büyüme\n",
       "0  -0.22    -0.14     0.59  ...       -0.17   -0.44   -0.82\n",
       "1  -0.43    -0.56    -0.45  ...       -0.28    0.03    0.37\n",
       "2  -0.81     0.11     0.10  ...        0.04   -0.12    0.05\n",
       "3  -0.56    -0.78    -1.69  ...        0.10   -0.03    0.21\n",
       "4   0.16    -0.36     0.14  ...        0.80    0.35    0.10\n",
       "5  -0.65    -0.89    -0.97  ...       -0.04    0.10    0.07\n",
       "6  -0.93     0.75     0.03  ...        0.02   -0.17   -0.00\n",
       "7  -0.80    -0.73    -0.96  ...       -0.06   -0.07   -0.24\n",
       "8  -0.11     0.50     1.15  ...        0.02   -0.09    0.07\n",
       "9  -0.74    -1.35    -1.35  ...       -0.23   -0.58   -1.18\n",
       "10 -0.79     1.71     0.95  ...        0.22    0.47    1.26\n",
       "11 -0.67    -0.37    -0.29  ...       -0.03    0.05    0.06\n",
       "12 -0.01     0.32     1.27  ...        0.35    0.36    0.32\n",
       "13 -0.27    -0.59     0.46  ...       -0.17    0.16    0.10\n",
       "14 -0.71     1.05     0.51  ...        0.29    0.38    0.21\n",
       "15 -0.76    -0.38    -0.40  ...       -0.18   -0.29    0.03\n",
       "16  0.14    -0.13    -0.20  ...       -0.33   -0.37   -0.17\n",
       "17 -0.12    -0.25    -1.84  ...       -0.46   -0.44   -0.62\n",
       "18 -1.20     0.94    -0.91  ...       -0.92   -1.04   -1.35\n",
       "19 -0.86    -0.80     0.08  ...        0.02    0.17    0.11\n",
       "20 -0.12    -0.31     0.11  ...        0.53   -0.07    0.32\n",
       "21 -0.19    -0.01    -0.12  ...        0.02   -0.02   -0.19\n",
       "22 -0.93     0.67     0.82  ...        0.15   -0.01    0.05\n",
       "23 -0.71    -1.28    -0.28  ...       -0.15   -0.07   -0.29\n",
       "24 -2.02    -2.56    -2.45  ...       -4.55   -3.38   -3.47\n",
       "25  2.42     3.23     3.24  ...        3.89    4.89    4.45\n",
       "26 -0.57     1.67     0.94  ...        0.91    0.30    0.08\n",
       "27 -0.28    -0.41    -0.50  ...        0.10    0.34    0.25\n",
       "28  0.25     0.86     0.56  ...        0.09    0.04    0.16\n",
       "29  1.48     0.03     0.20  ...        0.36    0.15    0.72\n",
       "30  0.62     1.36     1.57  ...        0.26    0.41    0.11\n",
       "31  0.36    -0.83     0.98  ...       -0.04   -0.08   -0.28\n",
       "32  2.44     0.77     0.35  ...        0.00   -0.03    0.07\n",
       "33  1.50    -0.64     0.25  ...       -0.23   -0.99   -0.19\n",
       "34  0.82     0.44    -0.30  ...       -0.39    0.27   -0.01\n",
       "35  0.44    -0.86     0.29  ...       -0.41   -0.27   -0.39\n",
       "36  2.14    -0.12    -1.00  ...        0.31    0.18    0.71\n",
       "37  1.75     0.19     0.09  ...        0.09   -0.10   -0.25\n",
       "38  0.15     0.63    -0.45  ...        0.22   -0.34   -0.07\n",
       "39  0.82    -0.89    -0.54  ...       -0.15    0.35   -0.34\n",
       "\n",
       "[40 rows x 8 columns]"
      ]
     },
     "execution_count": 225,
     "metadata": {},
     "output_type": "execute_result"
    }
   ],
   "source": [
    "\n",
    "features=['Kart', 'İhracat', 'İthalat', 'Reel Güven', 'Öncü Gösterge',\n",
    "       'İmalat PMI', 'Sanayi','Büyüme']\n",
    "data1=data[features]\n",
    "from sklearn.preprocessing import StandardScaler\n",
    "scaler = StandardScaler()\n",
    "scaled_data = scaler.fit_transform(data1.iloc[:,:-1])\n",
    "scaled_data=pd.DataFrame(scaled_data,columns=data1.columns[:-1])\n",
    "scaler = StandardScaler()\n",
    "scaled_data[\"Büyüme\"]=scaler.fit_transform(np.array(data1[\"Büyüme\"]).reshape(-1, 1))\n",
    "scaled_data"
   ]
  },
  {
   "cell_type": "code",
   "execution_count": 226,
   "metadata": {},
   "outputs": [],
   "source": [
    "from sklearn.model_selection import train_test_split\n",
    "X=scaled_data\n",
    "X=X.iloc[:,:-1]\n",
    "y=scaled_data[\"Büyüme\"]\n",
    "X=np.array(X)\n",
    "y=np.array(y).reshape(-1,1)\n",
    "X=pd.DataFrame(X,columns=scaled_data.columns[:-1])\n",
    "y=pd.DataFrame(y,columns=[\"Büyüme\"])\n",
    "X_train,X_test=X.iloc[:-9,:],X.iloc[-9:-1,:]\n",
    "y_train,y_test=y[:-9],y[-9:-1]\n",
    "X_train,X_val,y_train,y_val=train_test_split(X_train,y_train,test_size=0.05,random_state=42)"
   ]
  },
  {
   "cell_type": "code",
   "execution_count": 227,
   "metadata": {},
   "outputs": [],
   "source": [
    "import optuna\n",
    "import tensorflow as tf\n",
    "from tensorflow.keras.models import Sequential\n",
    "from tensorflow.keras.layers import LSTM, Dense,GRU,SimpleRNN\n",
    "import keras\n",
    "from keras.callbacks import EarlyStopping\n",
    "from keras import regularizers\n",
    "from keras.layers import LSTM, Dense, Dropout\n",
    "from keras.regularizers import l2\n",
    "def objective(trial):\n",
    "    # Define hyperparameters to be optimized\n",
    "    learning_rate = trial.suggest_float('learning_rate', 1e-4, 1e-1)\n",
    "    units1 = trial.suggest_int('units1', 1, 128)\n",
    "    batch_size = trial.suggest_int('batch_size', 2, 64)\n",
    "    activation1 = trial.suggest_categorical('activation1', ['tanh','selu','relu','sigmoid'])\n",
    "    optimizer = trial.suggest_categorical('optimizer', ['adam'])\n",
    "    rlrate=trial.suggest_float('rlrate',0.001,0.999)\n",
    "    keras.utils.set_random_seed(42)\n",
    "    early_stopping = EarlyStopping(monitor='val_loss', patience=0, restore_best_weights=True)\n",
    "    model = Sequential()   \n",
    "    model.add(Dense(units=units1,activation=activation1,input_dim=(X_train.shape[1]),kernel_regularizer=l2(rlrate)))\n",
    "    model.add(Dense(units=1))\n",
    "\n",
    "    if optimizer == 'adam':\n",
    "       optimizer = tf.keras.optimizers.Adam(learning_rate=learning_rate)\n",
    "    elif optimizer == 'rmsprop':\n",
    "       optimizer = tf.keras.optimizers.RMSprop(learning_rate=learning_rate)\n",
    "    elif optimizer == 'SGD':\n",
    "       optimizer = tf.keras.optimizers.SGD(learning_rate=learning_rate)  \n",
    "\n",
    "    \n",
    "\n",
    "    \n",
    "\n",
    "    model.compile(optimizer=optimizer, loss='mse', metrics=['mean_squared_error'])\n",
    "\n",
    "    # Train model\n",
    "    model.fit(X_train, y_train, epochs=1000, batch_size=batch_size,callbacks=[early_stopping],verbose=0,validation_data=(X_val,y_val))\n",
    "\n",
    "    # Evaluate model\n",
    "    y_pred = model.predict(X_test)\n",
    "    mse = mean_squared_error(scaler.inverse_transform(y_test), scaler.inverse_transform(y_pred))\n",
    "\n",
    "    return mse  # Return validation accuracy as the objective"
   ]
  },
  {
   "cell_type": "code",
   "execution_count": 228,
   "metadata": {},
   "outputs": [
    {
     "name": "stdout",
     "output_type": "stream",
     "text": [
      "1/1 [==============================] - 0s 57ms/step\n"
     ]
    },
    {
     "name": "stderr",
     "output_type": "stream",
     "text": [
      "[I 2024-05-04 01:51:22,781] Trial 510 finished with value: 2.133797462920778 and parameters: {'learning_rate': 0.0866360065340065, 'units1': 93, 'batch_size': 47, 'activation1': 'relu', 'optimizer': 'adam', 'rlrate': 0.5112759416134457}. Best is trial 453 with value: 0.27864771277354317.\n"
     ]
    },
    {
     "name": "stdout",
     "output_type": "stream",
     "text": [
      "1/1 [==============================] - 0s 73ms/step\n"
     ]
    },
    {
     "name": "stderr",
     "output_type": "stream",
     "text": [
      "[I 2024-05-04 01:51:23,913] Trial 511 finished with value: 0.7376218856122698 and parameters: {'learning_rate': 0.046768232017346104, 'units1': 90, 'batch_size': 11, 'activation1': 'relu', 'optimizer': 'adam', 'rlrate': 0.4738193994431083}. Best is trial 453 with value: 0.27864771277354317.\n"
     ]
    },
    {
     "name": "stdout",
     "output_type": "stream",
     "text": [
      "1/1 [==============================] - 0s 60ms/step\n"
     ]
    },
    {
     "name": "stderr",
     "output_type": "stream",
     "text": [
      "[I 2024-05-04 01:51:25,024] Trial 512 finished with value: 3.205673431773887 and parameters: {'learning_rate': 0.02888125159376766, 'units1': 125, 'batch_size': 15, 'activation1': 'relu', 'optimizer': 'adam', 'rlrate': 0.055337244203206404}. Best is trial 453 with value: 0.27864771277354317.\n"
     ]
    },
    {
     "name": "stdout",
     "output_type": "stream",
     "text": [
      "1/1 [==============================] - 0s 57ms/step\n"
     ]
    },
    {
     "name": "stderr",
     "output_type": "stream",
     "text": [
      "[I 2024-05-04 01:51:26,828] Trial 513 finished with value: 28.095428054790965 and parameters: {'learning_rate': 0.09402207259112624, 'units1': 100, 'batch_size': 6, 'activation1': 'relu', 'optimizer': 'adam', 'rlrate': 0.5969160385927325}. Best is trial 453 with value: 0.27864771277354317.\n"
     ]
    },
    {
     "name": "stdout",
     "output_type": "stream",
     "text": [
      "1/1 [==============================] - 0s 58ms/step\n"
     ]
    },
    {
     "name": "stderr",
     "output_type": "stream",
     "text": [
      "[I 2024-05-04 01:51:27,905] Trial 514 finished with value: 1.5191994970227285 and parameters: {'learning_rate': 0.06665158023911912, 'units1': 71, 'batch_size': 12, 'activation1': 'relu', 'optimizer': 'adam', 'rlrate': 0.7219410805034161}. Best is trial 453 with value: 0.27864771277354317.\n"
     ]
    },
    {
     "name": "stdout",
     "output_type": "stream",
     "text": [
      "1/1 [==============================] - 0s 61ms/step\n"
     ]
    },
    {
     "name": "stderr",
     "output_type": "stream",
     "text": [
      "[I 2024-05-04 01:51:29,020] Trial 515 finished with value: 0.8915398613707659 and parameters: {'learning_rate': 0.010123759268993567, 'units1': 96, 'batch_size': 8, 'activation1': 'selu', 'optimizer': 'adam', 'rlrate': 0.19485406573648312}. Best is trial 453 with value: 0.27864771277354317.\n"
     ]
    },
    {
     "name": "stdout",
     "output_type": "stream",
     "text": [
      "1/1 [==============================] - 0s 57ms/step\n"
     ]
    },
    {
     "name": "stderr",
     "output_type": "stream",
     "text": [
      "[I 2024-05-04 01:51:30,054] Trial 516 finished with value: 1.1336069769802797 and parameters: {'learning_rate': 0.034960822811944625, 'units1': 88, 'batch_size': 16, 'activation1': 'relu', 'optimizer': 'adam', 'rlrate': 0.6467469894412133}. Best is trial 453 with value: 0.27864771277354317.\n"
     ]
    },
    {
     "name": "stdout",
     "output_type": "stream",
     "text": [
      "1/1 [==============================] - 0s 59ms/step\n"
     ]
    },
    {
     "name": "stderr",
     "output_type": "stream",
     "text": [
      "[I 2024-05-04 01:51:31,139] Trial 517 finished with value: 4.867536882289507 and parameters: {'learning_rate': 0.07865450307890248, 'units1': 86, 'batch_size': 9, 'activation1': 'relu', 'optimizer': 'adam', 'rlrate': 0.5296177345350017}. Best is trial 453 with value: 0.27864771277354317.\n"
     ]
    },
    {
     "name": "stdout",
     "output_type": "stream",
     "text": [
      "1/1 [==============================] - 0s 59ms/step\n"
     ]
    },
    {
     "name": "stderr",
     "output_type": "stream",
     "text": [
      "[I 2024-05-04 01:51:32,222] Trial 518 finished with value: 1.0844639116693997 and parameters: {'learning_rate': 0.03206079699485311, 'units1': 92, 'batch_size': 14, 'activation1': 'relu', 'optimizer': 'adam', 'rlrate': 0.33892514946309854}. Best is trial 453 with value: 0.27864771277354317.\n"
     ]
    },
    {
     "name": "stdout",
     "output_type": "stream",
     "text": [
      "1/1 [==============================] - 0s 55ms/step\n"
     ]
    },
    {
     "name": "stderr",
     "output_type": "stream",
     "text": [
      "[I 2024-05-04 01:51:33,259] Trial 519 finished with value: 0.6509077373051517 and parameters: {'learning_rate': 0.03837030813589118, 'units1': 96, 'batch_size': 10, 'activation1': 'relu', 'optimizer': 'adam', 'rlrate': 0.6776619638088247}. Best is trial 453 with value: 0.27864771277354317.\n"
     ]
    },
    {
     "name": "stdout",
     "output_type": "stream",
     "text": [
      "1/1 [==============================] - 0s 56ms/step\n"
     ]
    },
    {
     "name": "stderr",
     "output_type": "stream",
     "text": [
      "[I 2024-05-04 01:51:34,299] Trial 520 finished with value: 0.6397265319911432 and parameters: {'learning_rate': 0.021830380637887375, 'units1': 75, 'batch_size': 6, 'activation1': 'tanh', 'optimizer': 'adam', 'rlrate': 0.5785721971504502}. Best is trial 453 with value: 0.27864771277354317.\n"
     ]
    },
    {
     "name": "stdout",
     "output_type": "stream",
     "text": [
      "1/1 [==============================] - 0s 57ms/step\n"
     ]
    },
    {
     "name": "stderr",
     "output_type": "stream",
     "text": [
      "[I 2024-05-04 01:51:35,404] Trial 521 finished with value: 0.9315960994089763 and parameters: {'learning_rate': 0.02503256638645855, 'units1': 83, 'batch_size': 3, 'activation1': 'relu', 'optimizer': 'adam', 'rlrate': 0.6199949213748384}. Best is trial 453 with value: 0.27864771277354317.\n"
     ]
    },
    {
     "name": "stdout",
     "output_type": "stream",
     "text": [
      "1/1 [==============================] - 0s 59ms/step\n"
     ]
    },
    {
     "name": "stderr",
     "output_type": "stream",
     "text": [
      "[I 2024-05-04 01:51:36,517] Trial 522 finished with value: 1.6679089577240083 and parameters: {'learning_rate': 0.0642182920313645, 'units1': 93, 'batch_size': 7, 'activation1': 'relu', 'optimizer': 'adam', 'rlrate': 0.49704821872724586}. Best is trial 453 with value: 0.27864771277354317.\n"
     ]
    },
    {
     "name": "stdout",
     "output_type": "stream",
     "text": [
      "1/1 [==============================] - 0s 56ms/step\n"
     ]
    },
    {
     "name": "stderr",
     "output_type": "stream",
     "text": [
      "[I 2024-05-04 01:51:37,545] Trial 523 finished with value: 1.3867275749942114 and parameters: {'learning_rate': 0.05315216069659698, 'units1': 90, 'batch_size': 12, 'activation1': 'relu', 'optimizer': 'adam', 'rlrate': 0.6692143844057313}. Best is trial 453 with value: 0.27864771277354317.\n"
     ]
    },
    {
     "name": "stdout",
     "output_type": "stream",
     "text": [
      "1/1 [==============================] - 0s 57ms/step\n"
     ]
    },
    {
     "name": "stderr",
     "output_type": "stream",
     "text": [
      "[I 2024-05-04 01:51:38,587] Trial 524 finished with value: 0.9154386893460473 and parameters: {'learning_rate': 0.08168338771937644, 'units1': 79, 'batch_size': 8, 'activation1': 'relu', 'optimizer': 'adam', 'rlrate': 0.5497070676281594}. Best is trial 453 with value: 0.27864771277354317.\n"
     ]
    },
    {
     "name": "stdout",
     "output_type": "stream",
     "text": [
      "1/1 [==============================] - 1s 713ms/step\n"
     ]
    },
    {
     "name": "stderr",
     "output_type": "stream",
     "text": [
      "[I 2024-05-04 01:51:40,337] Trial 525 finished with value: 1.25020913924306 and parameters: {'learning_rate': 0.02986160437831931, 'units1': 109, 'batch_size': 5, 'activation1': 'relu', 'optimizer': 'adam', 'rlrate': 0.6356206459970345}. Best is trial 453 with value: 0.27864771277354317.\n"
     ]
    },
    {
     "name": "stdout",
     "output_type": "stream",
     "text": [
      "1/1 [==============================] - 0s 57ms/step\n"
     ]
    },
    {
     "name": "stderr",
     "output_type": "stream",
     "text": [
      "[I 2024-05-04 01:51:41,379] Trial 526 finished with value: 15.014206451284002 and parameters: {'learning_rate': 0.07340144815655375, 'units1': 87, 'batch_size': 10, 'activation1': 'sigmoid', 'optimizer': 'adam', 'rlrate': 0.6961740499514617}. Best is trial 453 with value: 0.27864771277354317.\n"
     ]
    },
    {
     "name": "stdout",
     "output_type": "stream",
     "text": [
      "1/1 [==============================] - 0s 56ms/step\n"
     ]
    },
    {
     "name": "stderr",
     "output_type": "stream",
     "text": [
      "[I 2024-05-04 01:51:42,409] Trial 527 finished with value: 0.6505921819856939 and parameters: {'learning_rate': 0.03381697513403562, 'units1': 98, 'batch_size': 13, 'activation1': 'relu', 'optimizer': 'adam', 'rlrate': 0.8005608864740799}. Best is trial 453 with value: 0.27864771277354317.\n"
     ]
    },
    {
     "name": "stdout",
     "output_type": "stream",
     "text": [
      "1/1 [==============================] - 0s 90ms/step\n"
     ]
    },
    {
     "name": "stderr",
     "output_type": "stream",
     "text": [
      "[I 2024-05-04 01:51:43,535] Trial 528 finished with value: 0.7381623880550241 and parameters: {'learning_rate': 0.036147689290185, 'units1': 104, 'batch_size': 11, 'activation1': 'relu', 'optimizer': 'adam', 'rlrate': 0.5984264999454012}. Best is trial 453 with value: 0.27864771277354317.\n"
     ]
    },
    {
     "name": "stdout",
     "output_type": "stream",
     "text": [
      "1/1 [==============================] - 0s 56ms/step\n"
     ]
    },
    {
     "name": "stderr",
     "output_type": "stream",
     "text": [
      "[I 2024-05-04 01:51:44,592] Trial 529 finished with value: 0.8968179183842563 and parameters: {'learning_rate': 0.03139486120656611, 'units1': 94, 'batch_size': 17, 'activation1': 'relu', 'optimizer': 'adam', 'rlrate': 0.23738575078461055}. Best is trial 453 with value: 0.27864771277354317.\n"
     ]
    },
    {
     "name": "stdout",
     "output_type": "stream",
     "text": [
      "1/1 [==============================] - 0s 57ms/step\n"
     ]
    },
    {
     "name": "stderr",
     "output_type": "stream",
     "text": [
      "[I 2024-05-04 01:51:45,653] Trial 530 finished with value: 0.8449279639590564 and parameters: {'learning_rate': 0.050470890005872175, 'units1': 91, 'batch_size': 14, 'activation1': 'relu', 'optimizer': 'adam', 'rlrate': 0.5290972416058279}. Best is trial 453 with value: 0.27864771277354317.\n"
     ]
    },
    {
     "name": "stdout",
     "output_type": "stream",
     "text": [
      "1/1 [==============================] - 0s 57ms/step\n"
     ]
    },
    {
     "name": "stderr",
     "output_type": "stream",
     "text": [
      "[I 2024-05-04 01:51:46,688] Trial 531 finished with value: 1.874465146683995 and parameters: {'learning_rate': 0.08834099951403235, 'units1': 101, 'batch_size': 9, 'activation1': 'relu', 'optimizer': 'adam', 'rlrate': 0.06603569677835025}. Best is trial 453 with value: 0.27864771277354317.\n"
     ]
    },
    {
     "name": "stdout",
     "output_type": "stream",
     "text": [
      "1/1 [==============================] - 0s 56ms/step\n"
     ]
    },
    {
     "name": "stderr",
     "output_type": "stream",
     "text": [
      "[I 2024-05-04 01:51:47,729] Trial 532 finished with value: 1.2773211630182495 and parameters: {'learning_rate': 0.027099217083753974, 'units1': 95, 'batch_size': 43, 'activation1': 'relu', 'optimizer': 'adam', 'rlrate': 0.8618678765075205}. Best is trial 453 with value: 0.27864771277354317.\n"
     ]
    },
    {
     "name": "stdout",
     "output_type": "stream",
     "text": [
      "1/1 [==============================] - 0s 58ms/step\n"
     ]
    },
    {
     "name": "stderr",
     "output_type": "stream",
     "text": [
      "[I 2024-05-04 01:51:48,826] Trial 533 finished with value: 0.6270385640083908 and parameters: {'learning_rate': 0.05663780700071927, 'units1': 73, 'batch_size': 7, 'activation1': 'relu', 'optimizer': 'adam', 'rlrate': 0.4799383646786635}. Best is trial 453 with value: 0.27864771277354317.\n"
     ]
    },
    {
     "name": "stdout",
     "output_type": "stream",
     "text": [
      "1/1 [==============================] - 0s 58ms/step\n"
     ]
    },
    {
     "name": "stderr",
     "output_type": "stream",
     "text": [
      "[I 2024-05-04 01:51:49,881] Trial 534 finished with value: 1.1003193102002873 and parameters: {'learning_rate': 0.04830633459361353, 'units1': 85, 'batch_size': 8, 'activation1': 'relu', 'optimizer': 'adam', 'rlrate': 0.8506562218555813}. Best is trial 453 with value: 0.27864771277354317.\n"
     ]
    },
    {
     "name": "stdout",
     "output_type": "stream",
     "text": [
      "1/1 [==============================] - 0s 57ms/step\n"
     ]
    },
    {
     "name": "stderr",
     "output_type": "stream",
     "text": [
      "[I 2024-05-04 01:51:50,991] Trial 535 finished with value: 0.9590090081346684 and parameters: {'learning_rate': 0.04587657788389318, 'units1': 67, 'batch_size': 6, 'activation1': 'relu', 'optimizer': 'adam', 'rlrate': 0.5599760454663429}. Best is trial 453 with value: 0.27864771277354317.\n"
     ]
    },
    {
     "name": "stdout",
     "output_type": "stream",
     "text": [
      "1/1 [==============================] - 0s 57ms/step\n"
     ]
    },
    {
     "name": "stderr",
     "output_type": "stream",
     "text": [
      "[I 2024-05-04 01:51:52,021] Trial 536 finished with value: 0.851016147777464 and parameters: {'learning_rate': 0.03875181113266504, 'units1': 89, 'batch_size': 13, 'activation1': 'relu', 'optimizer': 'adam', 'rlrate': 0.6515604047003938}. Best is trial 453 with value: 0.27864771277354317.\n"
     ]
    },
    {
     "name": "stdout",
     "output_type": "stream",
     "text": [
      "1/1 [==============================] - 0s 56ms/step\n"
     ]
    },
    {
     "name": "stderr",
     "output_type": "stream",
     "text": [
      "[I 2024-05-04 01:51:53,165] Trial 537 finished with value: 2.3972010768962866 and parameters: {'learning_rate': 0.06220258520758888, 'units1': 92, 'batch_size': 10, 'activation1': 'relu', 'optimizer': 'adam', 'rlrate': 0.09837309997472332}. Best is trial 453 with value: 0.27864771277354317.\n"
     ]
    },
    {
     "name": "stdout",
     "output_type": "stream",
     "text": [
      "1/1 [==============================] - 0s 58ms/step\n"
     ]
    },
    {
     "name": "stderr",
     "output_type": "stream",
     "text": [
      "[I 2024-05-04 01:51:54,882] Trial 538 finished with value: 0.5890604619661732 and parameters: {'learning_rate': 0.03302852005825035, 'units1': 120, 'batch_size': 4, 'activation1': 'relu', 'optimizer': 'adam', 'rlrate': 0.42772761987739283}. Best is trial 453 with value: 0.27864771277354317.\n"
     ]
    },
    {
     "name": "stdout",
     "output_type": "stream",
     "text": [
      "1/1 [==============================] - 0s 57ms/step\n"
     ]
    },
    {
     "name": "stderr",
     "output_type": "stream",
     "text": [
      "[I 2024-05-04 01:51:55,924] Trial 539 finished with value: 2.2836972892231833 and parameters: {'learning_rate': 0.06847679740896338, 'units1': 77, 'batch_size': 5, 'activation1': 'relu', 'optimizer': 'adam', 'rlrate': 0.4567204412177461}. Best is trial 453 with value: 0.27864771277354317.\n"
     ]
    },
    {
     "name": "stdout",
     "output_type": "stream",
     "text": [
      "1/1 [==============================] - 0s 59ms/step\n"
     ]
    },
    {
     "name": "stderr",
     "output_type": "stream",
     "text": [
      "[I 2024-05-04 01:51:57,012] Trial 540 finished with value: 0.6617266235580045 and parameters: {'learning_rate': 0.04446698278090138, 'units1': 98, 'batch_size': 11, 'activation1': 'relu', 'optimizer': 'adam', 'rlrate': 0.5083291434920367}. Best is trial 453 with value: 0.27864771277354317.\n"
     ]
    },
    {
     "name": "stdout",
     "output_type": "stream",
     "text": [
      "1/1 [==============================] - 0s 57ms/step\n"
     ]
    },
    {
     "name": "stderr",
     "output_type": "stream",
     "text": [
      "[I 2024-05-04 01:51:58,037] Trial 541 finished with value: 1.1388579635839995 and parameters: {'learning_rate': 0.07092299741265896, 'units1': 95, 'batch_size': 8, 'activation1': 'relu', 'optimizer': 'adam', 'rlrate': 0.6199934667556992}. Best is trial 453 with value: 0.27864771277354317.\n"
     ]
    },
    {
     "name": "stdout",
     "output_type": "stream",
     "text": [
      "1/1 [==============================] - 0s 59ms/step\n"
     ]
    },
    {
     "name": "stderr",
     "output_type": "stream",
     "text": [
      "[I 2024-05-04 01:51:59,143] Trial 542 finished with value: 1.3413199791578836 and parameters: {'learning_rate': 0.04059280521622049, 'units1': 62, 'batch_size': 15, 'activation1': 'selu', 'optimizer': 'adam', 'rlrate': 0.5807561125192494}. Best is trial 453 with value: 0.27864771277354317.\n"
     ]
    },
    {
     "name": "stdout",
     "output_type": "stream",
     "text": [
      "1/1 [==============================] - 0s 60ms/step\n"
     ]
    },
    {
     "name": "stderr",
     "output_type": "stream",
     "text": [
      "[I 2024-05-04 01:52:00,188] Trial 543 finished with value: 0.7017714065621504 and parameters: {'learning_rate': 0.05499344382689712, 'units1': 82, 'batch_size': 9, 'activation1': 'relu', 'optimizer': 'adam', 'rlrate': 0.5401903732433146}. Best is trial 453 with value: 0.27864771277354317.\n"
     ]
    },
    {
     "name": "stdout",
     "output_type": "stream",
     "text": [
      "1/1 [==============================] - 0s 58ms/step\n"
     ]
    },
    {
     "name": "stderr",
     "output_type": "stream",
     "text": [
      "[I 2024-05-04 01:52:01,226] Trial 544 finished with value: 0.6135861132516656 and parameters: {'learning_rate': 0.02917972496137464, 'units1': 87, 'batch_size': 13, 'activation1': 'relu', 'optimizer': 'adam', 'rlrate': 0.6071353328353577}. Best is trial 453 with value: 0.27864771277354317.\n"
     ]
    },
    {
     "name": "stdout",
     "output_type": "stream",
     "text": [
      "1/1 [==============================] - 0s 55ms/step\n"
     ]
    },
    {
     "name": "stderr",
     "output_type": "stream",
     "text": [
      "[I 2024-05-04 01:52:02,267] Trial 545 finished with value: 5.721542680251142 and parameters: {'learning_rate': 0.09861448761893213, 'units1': 91, 'batch_size': 7, 'activation1': 'relu', 'optimizer': 'adam', 'rlrate': 0.9230507943067512}. Best is trial 453 with value: 0.27864771277354317.\n"
     ]
    },
    {
     "name": "stdout",
     "output_type": "stream",
     "text": [
      "1/1 [==============================] - 0s 58ms/step\n"
     ]
    },
    {
     "name": "stderr",
     "output_type": "stream",
     "text": [
      "[I 2024-05-04 01:52:03,298] Trial 546 finished with value: 1.152920073902499 and parameters: {'learning_rate': 0.05165021634323069, 'units1': 69, 'batch_size': 12, 'activation1': 'tanh', 'optimizer': 'adam', 'rlrate': 0.913573045252798}. Best is trial 453 with value: 0.27864771277354317.\n"
     ]
    },
    {
     "name": "stdout",
     "output_type": "stream",
     "text": [
      "1/1 [==============================] - 0s 59ms/step\n"
     ]
    },
    {
     "name": "stderr",
     "output_type": "stream",
     "text": [
      "[I 2024-05-04 01:52:04,414] Trial 547 finished with value: 0.9902300695975224 and parameters: {'learning_rate': 0.0347245796097196, 'units1': 93, 'batch_size': 6, 'activation1': 'relu', 'optimizer': 'adam', 'rlrate': 0.6605243193028725}. Best is trial 453 with value: 0.27864771277354317.\n"
     ]
    },
    {
     "name": "stdout",
     "output_type": "stream",
     "text": [
      "1/1 [==============================] - 0s 93ms/step\n"
     ]
    },
    {
     "name": "stderr",
     "output_type": "stream",
     "text": [
      "[I 2024-05-04 01:52:05,536] Trial 548 finished with value: 0.6804376389217919 and parameters: {'learning_rate': 0.025944870011669237, 'units1': 96, 'batch_size': 9, 'activation1': 'relu', 'optimizer': 'adam', 'rlrate': 0.717718426373143}. Best is trial 453 with value: 0.27864771277354317.\n"
     ]
    },
    {
     "name": "stdout",
     "output_type": "stream",
     "text": [
      "1/1 [==============================] - 0s 56ms/step\n"
     ]
    },
    {
     "name": "stderr",
     "output_type": "stream",
     "text": [
      "[I 2024-05-04 01:52:06,583] Trial 549 finished with value: 2.3505131540969315 and parameters: {'learning_rate': 0.07658545663330492, 'units1': 54, 'batch_size': 11, 'activation1': 'relu', 'optimizer': 'adam', 'rlrate': 0.5652975601798688}. Best is trial 453 with value: 0.27864771277354317.\n"
     ]
    },
    {
     "name": "stdout",
     "output_type": "stream",
     "text": [
      "1/1 [==============================] - 0s 58ms/step\n"
     ]
    },
    {
     "name": "stderr",
     "output_type": "stream",
     "text": [
      "[I 2024-05-04 01:52:08,331] Trial 550 finished with value: 0.7472111348429379 and parameters: {'learning_rate': 0.03710841451631579, 'units1': 89, 'batch_size': 4, 'activation1': 'relu', 'optimizer': 'adam', 'rlrate': 0.7577336059895469}. Best is trial 453 with value: 0.27864771277354317.\n"
     ]
    },
    {
     "name": "stdout",
     "output_type": "stream",
     "text": [
      "1/1 [==============================] - 0s 57ms/step\n"
     ]
    },
    {
     "name": "stderr",
     "output_type": "stream",
     "text": [
      "[I 2024-05-04 01:52:09,370] Trial 551 finished with value: 0.836795513877598 and parameters: {'learning_rate': 0.05837932645781116, 'units1': 98, 'batch_size': 8, 'activation1': 'relu', 'optimizer': 'adam', 'rlrate': 0.3884556067065762}. Best is trial 453 with value: 0.27864771277354317.\n"
     ]
    },
    {
     "name": "stdout",
     "output_type": "stream",
     "text": [
      "1/1 [==============================] - 0s 59ms/step\n"
     ]
    },
    {
     "name": "stderr",
     "output_type": "stream",
     "text": [
      "[I 2024-05-04 01:52:10,418] Trial 552 finished with value: 1.4771824355142347 and parameters: {'learning_rate': 0.030769292155212645, 'units1': 84, 'batch_size': 15, 'activation1': 'sigmoid', 'optimizer': 'adam', 'rlrate': 0.6356853827510217}. Best is trial 453 with value: 0.27864771277354317.\n"
     ]
    },
    {
     "name": "stdout",
     "output_type": "stream",
     "text": [
      "1/1 [==============================] - 0s 57ms/step\n"
     ]
    },
    {
     "name": "stderr",
     "output_type": "stream",
     "text": [
      "[I 2024-05-04 01:52:11,484] Trial 553 finished with value: 0.8480334002153138 and parameters: {'learning_rate': 0.02227493104671425, 'units1': 93, 'batch_size': 10, 'activation1': 'relu', 'optimizer': 'adam', 'rlrate': 0.6790420081388314}. Best is trial 453 with value: 0.27864771277354317.\n"
     ]
    },
    {
     "name": "stdout",
     "output_type": "stream",
     "text": [
      "1/1 [==============================] - 0s 56ms/step\n"
     ]
    },
    {
     "name": "stderr",
     "output_type": "stream",
     "text": [
      "[I 2024-05-04 01:52:12,518] Trial 554 finished with value: 0.9401442722899365 and parameters: {'learning_rate': 0.053496019109024184, 'units1': 100, 'batch_size': 17, 'activation1': 'relu', 'optimizer': 'adam', 'rlrate': 0.522376176331523}. Best is trial 453 with value: 0.27864771277354317.\n"
     ]
    },
    {
     "name": "stdout",
     "output_type": "stream",
     "text": [
      "1/1 [==============================] - 0s 58ms/step\n"
     ]
    },
    {
     "name": "stderr",
     "output_type": "stream",
     "text": [
      "[I 2024-05-04 01:52:13,624] Trial 555 finished with value: 5.6884491509993325 and parameters: {'learning_rate': 0.09196979564601628, 'units1': 117, 'batch_size': 7, 'activation1': 'relu', 'optimizer': 'adam', 'rlrate': 0.5908291932180998}. Best is trial 453 with value: 0.27864771277354317.\n"
     ]
    },
    {
     "name": "stdout",
     "output_type": "stream",
     "text": [
      "1/1 [==============================] - 0s 57ms/step\n"
     ]
    },
    {
     "name": "stderr",
     "output_type": "stream",
     "text": [
      "[I 2024-05-04 01:52:14,693] Trial 556 finished with value: 1.026756539856213 and parameters: {'learning_rate': 0.049645559237919926, 'units1': 87, 'batch_size': 14, 'activation1': 'relu', 'optimizer': 'adam', 'rlrate': 0.49547330989741406}. Best is trial 453 with value: 0.27864771277354317.\n"
     ]
    },
    {
     "name": "stdout",
     "output_type": "stream",
     "text": [
      "1/1 [==============================] - 0s 58ms/step\n"
     ]
    },
    {
     "name": "stderr",
     "output_type": "stream",
     "text": [
      "[I 2024-05-04 01:52:15,729] Trial 557 finished with value: 0.8003900661407475 and parameters: {'learning_rate': 0.03499317882313724, 'units1': 90, 'batch_size': 12, 'activation1': 'relu', 'optimizer': 'adam', 'rlrate': 0.13968542233855197}. Best is trial 453 with value: 0.27864771277354317.\n"
     ]
    },
    {
     "name": "stdout",
     "output_type": "stream",
     "text": [
      "1/1 [==============================] - 0s 57ms/step\n"
     ]
    },
    {
     "name": "stderr",
     "output_type": "stream",
     "text": [
      "[I 2024-05-04 01:52:16,771] Trial 558 finished with value: 1.1741338934503172 and parameters: {'learning_rate': 0.03940393728714295, 'units1': 80, 'batch_size': 6, 'activation1': 'relu', 'optimizer': 'adam', 'rlrate': 0.010681136024951243}. Best is trial 453 with value: 0.27864771277354317.\n"
     ]
    },
    {
     "name": "stdout",
     "output_type": "stream",
     "text": [
      "1/1 [==============================] - 0s 59ms/step\n"
     ]
    },
    {
     "name": "stderr",
     "output_type": "stream",
     "text": [
      "[I 2024-05-04 01:52:17,866] Trial 559 finished with value: 0.693460685758859 and parameters: {'learning_rate': 0.031910146647626585, 'units1': 93, 'batch_size': 9, 'activation1': 'relu', 'optimizer': 'adam', 'rlrate': 0.3645819801017934}. Best is trial 453 with value: 0.27864771277354317.\n"
     ]
    },
    {
     "name": "stdout",
     "output_type": "stream",
     "text": [
      "1/1 [==============================] - 0s 57ms/step\n"
     ]
    },
    {
     "name": "stderr",
     "output_type": "stream",
     "text": [
      "[I 2024-05-04 01:52:18,919] Trial 560 finished with value: 7.406959368115901 and parameters: {'learning_rate': 0.07366522489336283, 'units1': 96, 'batch_size': 5, 'activation1': 'relu', 'optimizer': 'adam', 'rlrate': 0.8220488696360628}. Best is trial 453 with value: 0.27864771277354317.\n"
     ]
    },
    {
     "name": "stdout",
     "output_type": "stream",
     "text": [
      "1/1 [==============================] - 0s 56ms/step\n"
     ]
    },
    {
     "name": "stderr",
     "output_type": "stream",
     "text": [
      "[I 2024-05-04 01:52:19,972] Trial 561 finished with value: 2.3452439674463936 and parameters: {'learning_rate': 0.08338722130362466, 'units1': 73, 'batch_size': 2, 'activation1': 'relu', 'optimizer': 'adam', 'rlrate': 0.6981060810467301}. Best is trial 453 with value: 0.27864771277354317.\n"
     ]
    },
    {
     "name": "stdout",
     "output_type": "stream",
     "text": [
      "1/1 [==============================] - 0s 56ms/step\n"
     ]
    },
    {
     "name": "stderr",
     "output_type": "stream",
     "text": [
      "[I 2024-05-04 01:52:21,003] Trial 562 finished with value: 6.45795754549137 and parameters: {'learning_rate': 0.08559380360057064, 'units1': 103, 'batch_size': 11, 'activation1': 'relu', 'optimizer': 'adam', 'rlrate': 0.06666774441298862}. Best is trial 453 with value: 0.27864771277354317.\n"
     ]
    },
    {
     "name": "stdout",
     "output_type": "stream",
     "text": [
      "1/1 [==============================] - 0s 57ms/step\n"
     ]
    },
    {
     "name": "stderr",
     "output_type": "stream",
     "text": [
      "[I 2024-05-04 01:52:22,748] Trial 563 finished with value: 2.40783621395613 and parameters: {'learning_rate': 0.06105129396358319, 'units1': 90, 'batch_size': 16, 'activation1': 'relu', 'optimizer': 'adam', 'rlrate': 0.9764270240184779}. Best is trial 453 with value: 0.27864771277354317.\n"
     ]
    },
    {
     "name": "stdout",
     "output_type": "stream",
     "text": [
      "1/1 [==============================] - 0s 57ms/step\n"
     ]
    },
    {
     "name": "stderr",
     "output_type": "stream",
     "text": [
      "[I 2024-05-04 01:52:23,799] Trial 564 finished with value: 3.480326916862094 and parameters: {'learning_rate': 0.027868308962988506, 'units1': 86, 'batch_size': 19, 'activation1': 'selu', 'optimizer': 'adam', 'rlrate': 0.5437487649834168}. Best is trial 453 with value: 0.27864771277354317.\n"
     ]
    },
    {
     "name": "stdout",
     "output_type": "stream",
     "text": [
      "1/1 [==============================] - 0s 57ms/step\n"
     ]
    },
    {
     "name": "stderr",
     "output_type": "stream",
     "text": [
      "[I 2024-05-04 01:52:24,843] Trial 565 finished with value: 0.8339832888519637 and parameters: {'learning_rate': 0.024066838528440167, 'units1': 57, 'batch_size': 8, 'activation1': 'relu', 'optimizer': 'adam', 'rlrate': 0.5749464122390612}. Best is trial 453 with value: 0.27864771277354317.\n"
     ]
    },
    {
     "name": "stdout",
     "output_type": "stream",
     "text": [
      "1/1 [==============================] - 0s 63ms/step\n"
     ]
    },
    {
     "name": "stderr",
     "output_type": "stream",
     "text": [
      "[I 2024-05-04 01:52:25,958] Trial 566 finished with value: 0.7308987705509686 and parameters: {'learning_rate': 0.037041759744692475, 'units1': 76, 'batch_size': 14, 'activation1': 'relu', 'optimizer': 'adam', 'rlrate': 0.6109845001748934}. Best is trial 453 with value: 0.27864771277354317.\n"
     ]
    },
    {
     "name": "stdout",
     "output_type": "stream",
     "text": [
      "1/1 [==============================] - 0s 60ms/step\n"
     ]
    },
    {
     "name": "stderr",
     "output_type": "stream",
     "text": [
      "[I 2024-05-04 01:52:27,071] Trial 567 finished with value: 0.5503981823921109 and parameters: {'learning_rate': 0.03348443871167907, 'units1': 95, 'batch_size': 13, 'activation1': 'relu', 'optimizer': 'adam', 'rlrate': 0.651590834943569}. Best is trial 453 with value: 0.27864771277354317.\n"
     ]
    },
    {
     "name": "stdout",
     "output_type": "stream",
     "text": [
      "1/1 [==============================] - 0s 58ms/step\n"
     ]
    },
    {
     "name": "stderr",
     "output_type": "stream",
     "text": [
      "[I 2024-05-04 01:52:28,134] Trial 568 finished with value: 0.5654232914430717 and parameters: {'learning_rate': 0.04200552113727534, 'units1': 92, 'batch_size': 10, 'activation1': 'relu', 'optimizer': 'adam', 'rlrate': 0.5272534902857068}. Best is trial 453 with value: 0.27864771277354317.\n"
     ]
    },
    {
     "name": "stdout",
     "output_type": "stream",
     "text": [
      "1/1 [==============================] - 0s 67ms/step\n"
     ]
    },
    {
     "name": "stderr",
     "output_type": "stream",
     "text": [
      "[I 2024-05-04 01:52:29,194] Trial 569 finished with value: 14.905066351245866 and parameters: {'learning_rate': 0.08016924965424485, 'units1': 82, 'batch_size': 7, 'activation1': 'tanh', 'optimizer': 'adam', 'rlrate': 0.7274820830792874}. Best is trial 453 with value: 0.27864771277354317.\n"
     ]
    },
    {
     "name": "stdout",
     "output_type": "stream",
     "text": [
      "1/1 [==============================] - 0s 105ms/step\n"
     ]
    },
    {
     "name": "stderr",
     "output_type": "stream",
     "text": [
      "[I 2024-05-04 01:52:30,342] Trial 570 finished with value: 1.127804140518599 and parameters: {'learning_rate': 0.030377589493261112, 'units1': 106, 'batch_size': 6, 'activation1': 'relu', 'optimizer': 'adam', 'rlrate': 0.4802967711667101}. Best is trial 453 with value: 0.27864771277354317.\n"
     ]
    },
    {
     "name": "stdout",
     "output_type": "stream",
     "text": [
      "1/1 [==============================] - 0s 58ms/step\n"
     ]
    },
    {
     "name": "stderr",
     "output_type": "stream",
     "text": [
      "[I 2024-05-04 01:52:31,405] Trial 571 finished with value: 1.2992709777909024 and parameters: {'learning_rate': 0.0475600351084818, 'units1': 111, 'batch_size': 10, 'activation1': 'relu', 'optimizer': 'adam', 'rlrate': 0.6234875907021059}. Best is trial 453 with value: 0.27864771277354317.\n"
     ]
    },
    {
     "name": "stdout",
     "output_type": "stream",
     "text": [
      "1/1 [==============================] - 0s 63ms/step\n"
     ]
    },
    {
     "name": "stderr",
     "output_type": "stream",
     "text": [
      "[I 2024-05-04 01:52:32,476] Trial 572 finished with value: 0.5611249073263681 and parameters: {'learning_rate': 0.05623771250815478, 'units1': 65, 'batch_size': 12, 'activation1': 'relu', 'optimizer': 'adam', 'rlrate': 0.5507749317895765}. Best is trial 453 with value: 0.27864771277354317.\n"
     ]
    },
    {
     "name": "stdout",
     "output_type": "stream",
     "text": [
      "1/1 [==============================] - 0s 58ms/step\n"
     ]
    },
    {
     "name": "stderr",
     "output_type": "stream",
     "text": [
      "[I 2024-05-04 01:52:33,505] Trial 573 finished with value: 1.0566302777679746 and parameters: {'learning_rate': 0.05223954552279835, 'units1': 99, 'batch_size': 29, 'activation1': 'relu', 'optimizer': 'adam', 'rlrate': 0.5921827392525278}. Best is trial 453 with value: 0.27864771277354317.\n"
     ]
    },
    {
     "name": "stdout",
     "output_type": "stream",
     "text": [
      "1/1 [==============================] - 0s 58ms/step\n"
     ]
    },
    {
     "name": "stderr",
     "output_type": "stream",
     "text": [
      "[I 2024-05-04 01:52:34,551] Trial 574 finished with value: 0.7842879334267251 and parameters: {'learning_rate': 0.026066886860395252, 'units1': 88, 'batch_size': 8, 'activation1': 'relu', 'optimizer': 'adam', 'rlrate': 0.5143762735156777}. Best is trial 453 with value: 0.27864771277354317.\n"
     ]
    },
    {
     "name": "stdout",
     "output_type": "stream",
     "text": [
      "1/1 [==============================] - 0s 57ms/step\n"
     ]
    },
    {
     "name": "stderr",
     "output_type": "stream",
     "text": [
      "[I 2024-05-04 01:52:35,701] Trial 575 finished with value: 1.3833220377350464 and parameters: {'learning_rate': 0.0349801255115261, 'units1': 70, 'batch_size': 4, 'activation1': 'relu', 'optimizer': 'adam', 'rlrate': 0.6687818740082762}. Best is trial 453 with value: 0.27864771277354317.\n"
     ]
    },
    {
     "name": "stdout",
     "output_type": "stream",
     "text": [
      "1/1 [==============================] - 0s 57ms/step\n"
     ]
    },
    {
     "name": "stderr",
     "output_type": "stream",
     "text": [
      "[I 2024-05-04 01:52:37,465] Trial 576 finished with value: 2.197879342377959 and parameters: {'learning_rate': 0.08860746490538333, 'units1': 94, 'batch_size': 7, 'activation1': 'sigmoid', 'optimizer': 'adam', 'rlrate': 0.8797155436292579}. Best is trial 453 with value: 0.27864771277354317.\n"
     ]
    },
    {
     "name": "stdout",
     "output_type": "stream",
     "text": [
      "1/1 [==============================] - 0s 60ms/step\n"
     ]
    },
    {
     "name": "stderr",
     "output_type": "stream",
     "text": [
      "[I 2024-05-04 01:52:38,574] Trial 577 finished with value: 0.47875013820056533 and parameters: {'learning_rate': 0.06355222256783213, 'units1': 85, 'batch_size': 9, 'activation1': 'relu', 'optimizer': 'adam', 'rlrate': 0.5696418797468586}. Best is trial 453 with value: 0.27864771277354317.\n"
     ]
    },
    {
     "name": "stdout",
     "output_type": "stream",
     "text": [
      "1/1 [==============================] - 0s 60ms/step\n"
     ]
    },
    {
     "name": "stderr",
     "output_type": "stream",
     "text": [
      "[I 2024-05-04 01:52:39,618] Trial 578 finished with value: 0.865811586691619 and parameters: {'learning_rate': 0.03903215177725694, 'units1': 59, 'batch_size': 15, 'activation1': 'relu', 'optimizer': 'adam', 'rlrate': 0.2879435157394723}. Best is trial 453 with value: 0.27864771277354317.\n"
     ]
    },
    {
     "name": "stdout",
     "output_type": "stream",
     "text": [
      "1/1 [==============================] - 0s 59ms/step\n"
     ]
    },
    {
     "name": "stderr",
     "output_type": "stream",
     "text": [
      "[I 2024-05-04 01:52:40,700] Trial 579 finished with value: 0.960901800931671 and parameters: {'learning_rate': 0.06564634794887145, 'units1': 91, 'batch_size': 11, 'activation1': 'relu', 'optimizer': 'adam', 'rlrate': 0.6388146449795448}. Best is trial 453 with value: 0.27864771277354317.\n"
     ]
    },
    {
     "name": "stdout",
     "output_type": "stream",
     "text": [
      "1/1 [==============================] - 0s 57ms/step\n"
     ]
    },
    {
     "name": "stderr",
     "output_type": "stream",
     "text": [
      "[I 2024-05-04 01:52:41,760] Trial 580 finished with value: 0.8780417790848394 and parameters: {'learning_rate': 0.04460076507153233, 'units1': 97, 'batch_size': 13, 'activation1': 'relu', 'optimizer': 'adam', 'rlrate': 0.15390351784847928}. Best is trial 453 with value: 0.27864771277354317.\n"
     ]
    },
    {
     "name": "stdout",
     "output_type": "stream",
     "text": [
      "1/1 [==============================] - 0s 70ms/step\n"
     ]
    },
    {
     "name": "stderr",
     "output_type": "stream",
     "text": [
      "[I 2024-05-04 01:52:42,887] Trial 581 finished with value: 1.011019819125186 and parameters: {'learning_rate': 0.02816074521387397, 'units1': 89, 'batch_size': 21, 'activation1': 'relu', 'optimizer': 'adam', 'rlrate': 0.6785948575753545}. Best is trial 453 with value: 0.27864771277354317.\n"
     ]
    },
    {
     "name": "stdout",
     "output_type": "stream",
     "text": [
      "1/1 [==============================] - 0s 59ms/step\n"
     ]
    },
    {
     "name": "stderr",
     "output_type": "stream",
     "text": [
      "[I 2024-05-04 01:52:43,916] Trial 582 finished with value: 0.874470429558904 and parameters: {'learning_rate': 0.03261917379193793, 'units1': 94, 'batch_size': 51, 'activation1': 'relu', 'optimizer': 'adam', 'rlrate': 0.6085321003518274}. Best is trial 453 with value: 0.27864771277354317.\n"
     ]
    },
    {
     "name": "stdout",
     "output_type": "stream",
     "text": [
      "1/1 [==============================] - 0s 56ms/step\n"
     ]
    },
    {
     "name": "stderr",
     "output_type": "stream",
     "text": [
      "[I 2024-05-04 01:52:44,961] Trial 583 finished with value: 0.6399833403580768 and parameters: {'learning_rate': 0.03638402719886859, 'units1': 101, 'batch_size': 8, 'activation1': 'relu', 'optimizer': 'adam', 'rlrate': 0.5002425792004829}. Best is trial 453 with value: 0.27864771277354317.\n"
     ]
    },
    {
     "name": "stdout",
     "output_type": "stream",
     "text": [
      "1/1 [==============================] - 0s 60ms/step\n"
     ]
    },
    {
     "name": "stderr",
     "output_type": "stream",
     "text": [
      "[I 2024-05-04 01:52:46,012] Trial 584 finished with value: 0.9934972155072059 and parameters: {'learning_rate': 0.05064193170983702, 'units1': 87, 'batch_size': 58, 'activation1': 'relu', 'optimizer': 'adam', 'rlrate': 0.7038824624818049}. Best is trial 453 with value: 0.27864771277354317.\n"
     ]
    },
    {
     "name": "stdout",
     "output_type": "stream",
     "text": [
      "1/1 [==============================] - 0s 59ms/step\n"
     ]
    },
    {
     "name": "stderr",
     "output_type": "stream",
     "text": [
      "[I 2024-05-04 01:52:47,119] Trial 585 finished with value: 0.7024356158496874 and parameters: {'learning_rate': 0.02963592225523858, 'units1': 91, 'batch_size': 6, 'activation1': 'relu', 'optimizer': 'adam', 'rlrate': 0.5312885968552201}. Best is trial 453 with value: 0.27864771277354317.\n"
     ]
    },
    {
     "name": "stdout",
     "output_type": "stream",
     "text": [
      "1/1 [==============================] - 0s 59ms/step\n"
     ]
    },
    {
     "name": "stderr",
     "output_type": "stream",
     "text": [
      "[I 2024-05-04 01:52:48,181] Trial 586 finished with value: 3.5052130010403753 and parameters: {'learning_rate': 0.07119726659245769, 'units1': 96, 'batch_size': 5, 'activation1': 'relu', 'optimizer': 'adam', 'rlrate': 0.5642113444463764}. Best is trial 453 with value: 0.27864771277354317.\n"
     ]
    },
    {
     "name": "stdout",
     "output_type": "stream",
     "text": [
      "1/1 [==============================] - 0s 57ms/step\n"
     ]
    },
    {
     "name": "stderr",
     "output_type": "stream",
     "text": [
      "[I 2024-05-04 01:52:49,246] Trial 587 finished with value: 0.7797517535023324 and parameters: {'learning_rate': 0.041460002042893136, 'units1': 83, 'batch_size': 9, 'activation1': 'relu', 'optimizer': 'adam', 'rlrate': 0.631603565214543}. Best is trial 453 with value: 0.27864771277354317.\n"
     ]
    },
    {
     "name": "stdout",
     "output_type": "stream",
     "text": [
      "1/1 [==============================] - 0s 58ms/step\n"
     ]
    },
    {
     "name": "stderr",
     "output_type": "stream",
     "text": [
      "[I 2024-05-04 01:52:50,999] Trial 588 finished with value: 1.6857266555254384 and parameters: {'learning_rate': 0.078104288103087, 'units1': 78, 'batch_size': 12, 'activation1': 'relu', 'optimizer': 'adam', 'rlrate': 0.4518709867005318}. Best is trial 453 with value: 0.27864771277354317.\n"
     ]
    },
    {
     "name": "stdout",
     "output_type": "stream",
     "text": [
      "1/1 [==============================] - 0s 56ms/step\n"
     ]
    },
    {
     "name": "stderr",
     "output_type": "stream",
     "text": [
      "[I 2024-05-04 01:52:52,049] Trial 589 finished with value: 8.35983504552745 and parameters: {'learning_rate': 0.02052616923034356, 'units1': 123, 'batch_size': 14, 'activation1': 'selu', 'optimizer': 'adam', 'rlrate': 0.2731055192235725}. Best is trial 453 with value: 0.27864771277354317.\n"
     ]
    },
    {
     "name": "stdout",
     "output_type": "stream",
     "text": [
      "1/1 [==============================] - 0s 63ms/step\n"
     ]
    },
    {
     "name": "stderr",
     "output_type": "stream",
     "text": [
      "[I 2024-05-04 01:52:53,114] Trial 590 finished with value: 1.3001915378211728 and parameters: {'learning_rate': 0.0548952580285907, 'units1': 93, 'batch_size': 10, 'activation1': 'relu', 'optimizer': 'adam', 'rlrate': 0.5876578233971472}. Best is trial 453 with value: 0.27864771277354317.\n"
     ]
    },
    {
     "name": "stdout",
     "output_type": "stream",
     "text": [
      "1/1 [==============================] - 0s 86ms/step\n"
     ]
    },
    {
     "name": "stderr",
     "output_type": "stream",
     "text": [
      "[I 2024-05-04 01:52:54,232] Trial 591 finished with value: 0.6670834396248835 and parameters: {'learning_rate': 0.013055728038830039, 'units1': 98, 'batch_size': 7, 'activation1': 'relu', 'optimizer': 'adam', 'rlrate': 0.6529299757521705}. Best is trial 453 with value: 0.27864771277354317.\n"
     ]
    },
    {
     "name": "stdout",
     "output_type": "stream",
     "text": [
      "1/1 [==============================] - 0s 59ms/step\n"
     ]
    },
    {
     "name": "stderr",
     "output_type": "stream",
     "text": [
      "[I 2024-05-04 01:52:55,303] Trial 592 finished with value: 0.8313868156094065 and parameters: {'learning_rate': 0.02323707644031732, 'units1': 90, 'batch_size': 11, 'activation1': 'relu', 'optimizer': 'adam', 'rlrate': 0.9591029734467529}. Best is trial 453 with value: 0.27864771277354317.\n"
     ]
    },
    {
     "name": "stdout",
     "output_type": "stream",
     "text": [
      "1/1 [==============================] - 0s 60ms/step\n"
     ]
    },
    {
     "name": "stderr",
     "output_type": "stream",
     "text": [
      "[I 2024-05-04 01:52:56,378] Trial 593 finished with value: 4.558025681428347 and parameters: {'learning_rate': 0.04882341043075687, 'units1': 88, 'batch_size': 3, 'activation1': 'relu', 'optimizer': 'adam', 'rlrate': 0.5477047147753086}. Best is trial 453 with value: 0.27864771277354317.\n"
     ]
    },
    {
     "name": "stdout",
     "output_type": "stream",
     "text": [
      "1/1 [==============================] - 0s 58ms/step\n"
     ]
    },
    {
     "name": "stderr",
     "output_type": "stream",
     "text": [
      "[I 2024-05-04 01:52:57,422] Trial 594 finished with value: 1.657418202863453 and parameters: {'learning_rate': 0.034371866538130284, 'units1': 74, 'batch_size': 17, 'activation1': 'tanh', 'optimizer': 'adam', 'rlrate': 0.690237949606213}. Best is trial 453 with value: 0.27864771277354317.\n"
     ]
    },
    {
     "name": "stdout",
     "output_type": "stream",
     "text": [
      "1/1 [==============================] - 0s 57ms/step\n"
     ]
    },
    {
     "name": "stderr",
     "output_type": "stream",
     "text": [
      "[I 2024-05-04 01:52:58,563] Trial 595 finished with value: 2.688658063566514 and parameters: {'learning_rate': 0.05997295622221193, 'units1': 80, 'batch_size': 7, 'activation1': 'relu', 'optimizer': 'adam', 'rlrate': 0.74754244646486}. Best is trial 453 with value: 0.27864771277354317.\n"
     ]
    },
    {
     "name": "stdout",
     "output_type": "stream",
     "text": [
      "1/1 [==============================] - 0s 57ms/step\n"
     ]
    },
    {
     "name": "stderr",
     "output_type": "stream",
     "text": [
      "[I 2024-05-04 01:52:59,605] Trial 596 finished with value: 0.7807638024323849 and parameters: {'learning_rate': 0.03794697054722997, 'units1': 85, 'batch_size': 9, 'activation1': 'relu', 'optimizer': 'adam', 'rlrate': 0.6042489962125124}. Best is trial 453 with value: 0.27864771277354317.\n"
     ]
    },
    {
     "name": "stdout",
     "output_type": "stream",
     "text": [
      "1/1 [==============================] - 0s 60ms/step\n"
     ]
    },
    {
     "name": "stderr",
     "output_type": "stream",
     "text": [
      "[I 2024-05-04 01:53:00,674] Trial 597 finished with value: 0.753136453991727 and parameters: {'learning_rate': 0.03135488251518981, 'units1': 71, 'batch_size': 13, 'activation1': 'relu', 'optimizer': 'adam', 'rlrate': 0.4716793917140468}. Best is trial 453 with value: 0.27864771277354317.\n"
     ]
    },
    {
     "name": "stdout",
     "output_type": "stream",
     "text": [
      "1/1 [==============================] - 0s 94ms/step\n"
     ]
    },
    {
     "name": "stderr",
     "output_type": "stream",
     "text": [
      "[I 2024-05-04 01:53:01,812] Trial 598 finished with value: 0.6696116100230913 and parameters: {'learning_rate': 0.053878253775377354, 'units1': 94, 'batch_size': 15, 'activation1': 'relu', 'optimizer': 'adam', 'rlrate': 0.5144771444814953}. Best is trial 453 with value: 0.27864771277354317.\n"
     ]
    },
    {
     "name": "stdout",
     "output_type": "stream",
     "text": [
      "1/1 [==============================] - 0s 57ms/step\n"
     ]
    },
    {
     "name": "stderr",
     "output_type": "stream",
     "text": [
      "[I 2024-05-04 01:53:02,883] Trial 599 finished with value: 1.091601362516492 and parameters: {'learning_rate': 0.019675438537195774, 'units1': 92, 'batch_size': 5, 'activation1': 'relu', 'optimizer': 'adam', 'rlrate': 0.07595687205623619}. Best is trial 453 with value: 0.27864771277354317.\n"
     ]
    },
    {
     "name": "stdout",
     "output_type": "stream",
     "text": [
      "1/1 [==============================] - 0s 57ms/step\n"
     ]
    },
    {
     "name": "stderr",
     "output_type": "stream",
     "text": [
      "[I 2024-05-04 01:53:04,586] Trial 600 finished with value: 1.065390251520912 and parameters: {'learning_rate': 0.025398371327384567, 'units1': 97, 'batch_size': 8, 'activation1': 'sigmoid', 'optimizer': 'adam', 'rlrate': 0.9051771601323351}. Best is trial 453 with value: 0.27864771277354317.\n"
     ]
    },
    {
     "name": "stdout",
     "output_type": "stream",
     "text": [
      "1/1 [==============================] - 0s 57ms/step\n"
     ]
    },
    {
     "name": "stderr",
     "output_type": "stream",
     "text": [
      "[I 2024-05-04 01:53:05,632] Trial 601 finished with value: 8.761436979190984 and parameters: {'learning_rate': 0.057816861961910826, 'units1': 101, 'batch_size': 6, 'activation1': 'relu', 'optimizer': 'adam', 'rlrate': 0.43351003409832545}. Best is trial 453 with value: 0.27864771277354317.\n"
     ]
    },
    {
     "name": "stdout",
     "output_type": "stream",
     "text": [
      "1/1 [==============================] - 0s 59ms/step\n"
     ]
    },
    {
     "name": "stderr",
     "output_type": "stream",
     "text": [
      "[I 2024-05-04 01:53:06,737] Trial 602 finished with value: 2.1457932609211205 and parameters: {'learning_rate': 0.036633954266937205, 'units1': 43, 'batch_size': 11, 'activation1': 'relu', 'optimizer': 'adam', 'rlrate': 0.6623405529883635}. Best is trial 453 with value: 0.27864771277354317.\n"
     ]
    },
    {
     "name": "stdout",
     "output_type": "stream",
     "text": [
      "1/1 [==============================] - 0s 58ms/step\n"
     ]
    },
    {
     "name": "stderr",
     "output_type": "stream",
     "text": [
      "[I 2024-05-04 01:53:07,769] Trial 603 finished with value: 0.671405944576892 and parameters: {'learning_rate': 0.03287085663911699, 'units1': 90, 'batch_size': 9, 'activation1': 'relu', 'optimizer': 'adam', 'rlrate': 0.624592438818138}. Best is trial 453 with value: 0.27864771277354317.\n"
     ]
    },
    {
     "name": "stdout",
     "output_type": "stream",
     "text": [
      "1/1 [==============================] - 0s 60ms/step\n"
     ]
    },
    {
     "name": "stderr",
     "output_type": "stream",
     "text": [
      "[I 2024-05-04 01:53:08,824] Trial 604 finished with value: 0.9367938403463804 and parameters: {'learning_rate': 0.0676302953046879, 'units1': 95, 'batch_size': 12, 'activation1': 'relu', 'optimizer': 'adam', 'rlrate': 0.5381349230352845}. Best is trial 453 with value: 0.27864771277354317.\n"
     ]
    },
    {
     "name": "stdout",
     "output_type": "stream",
     "text": [
      "1/1 [==============================] - 0s 57ms/step\n"
     ]
    },
    {
     "name": "stderr",
     "output_type": "stream",
     "text": [
      "[I 2024-05-04 01:53:09,946] Trial 605 finished with value: 2.2042294803964384 and parameters: {'learning_rate': 0.07586088333841666, 'units1': 88, 'batch_size': 14, 'activation1': 'relu', 'optimizer': 'adam', 'rlrate': 0.5712709748690379}. Best is trial 453 with value: 0.27864771277354317.\n"
     ]
    },
    {
     "name": "stdout",
     "output_type": "stream",
     "text": [
      "1/1 [==============================] - 0s 57ms/step\n"
     ]
    },
    {
     "name": "stderr",
     "output_type": "stream",
     "text": [
      "[I 2024-05-04 01:53:11,022] Trial 606 finished with value: 0.7245008796970843 and parameters: {'learning_rate': 0.04702115712989631, 'units1': 48, 'batch_size': 16, 'activation1': 'relu', 'optimizer': 'adam', 'rlrate': 0.7147654493741578}. Best is trial 453 with value: 0.27864771277354317.\n"
     ]
    },
    {
     "name": "stdout",
     "output_type": "stream",
     "text": [
      "1/1 [==============================] - 0s 56ms/step\n"
     ]
    },
    {
     "name": "stderr",
     "output_type": "stream",
     "text": [
      "[I 2024-05-04 01:53:12,082] Trial 607 finished with value: 1.3581000726265704 and parameters: {'learning_rate': 0.043628669681673546, 'units1': 93, 'batch_size': 8, 'activation1': 'relu', 'optimizer': 'adam', 'rlrate': 0.556024820140901}. Best is trial 453 with value: 0.27864771277354317.\n"
     ]
    },
    {
     "name": "stdout",
     "output_type": "stream",
     "text": [
      "1/1 [==============================] - 0s 57ms/step\n"
     ]
    },
    {
     "name": "stderr",
     "output_type": "stream",
     "text": [
      "[I 2024-05-04 01:53:13,222] Trial 608 finished with value: 0.6522222366813826 and parameters: {'learning_rate': 0.040087711692850796, 'units1': 77, 'batch_size': 7, 'activation1': 'relu', 'optimizer': 'adam', 'rlrate': 0.49251536974641313}. Best is trial 453 with value: 0.27864771277354317.\n"
     ]
    },
    {
     "name": "stdout",
     "output_type": "stream",
     "text": [
      "1/1 [==============================] - 0s 58ms/step\n"
     ]
    },
    {
     "name": "stderr",
     "output_type": "stream",
     "text": [
      "[I 2024-05-04 01:53:14,346] Trial 609 finished with value: 0.6545987174005863 and parameters: {'learning_rate': 0.028672322382277057, 'units1': 84, 'batch_size': 10, 'activation1': 'relu', 'optimizer': 'adam', 'rlrate': 0.5821867764818307}. Best is trial 453 with value: 0.27864771277354317.\n"
     ]
    },
    {
     "name": "stdout",
     "output_type": "stream",
     "text": [
      "1/1 [==============================] - 0s 56ms/step\n"
     ]
    },
    {
     "name": "stderr",
     "output_type": "stream",
     "text": [
      "[I 2024-05-04 01:53:15,398] Trial 610 finished with value: 12.720076531562391 and parameters: {'learning_rate': 0.05216474596400187, 'units1': 116, 'batch_size': 5, 'activation1': 'relu', 'optimizer': 'adam', 'rlrate': 0.12105270676253088}. Best is trial 453 with value: 0.27864771277354317.\n"
     ]
    },
    {
     "name": "stdout",
     "output_type": "stream",
     "text": [
      "1/1 [==============================] - 0s 56ms/step\n"
     ]
    },
    {
     "name": "stderr",
     "output_type": "stream",
     "text": [
      "[I 2024-05-04 01:53:16,442] Trial 611 finished with value: 1.0287875329386744 and parameters: {'learning_rate': 0.034920892281694635, 'units1': 99, 'batch_size': 13, 'activation1': 'relu', 'optimizer': 'adam', 'rlrate': 0.768948908232222}. Best is trial 453 with value: 0.27864771277354317.\n"
     ]
    },
    {
     "name": "stdout",
     "output_type": "stream",
     "text": [
      "1/1 [==============================] - 0s 64ms/step\n"
     ]
    },
    {
     "name": "stderr",
     "output_type": "stream",
     "text": [
      "[I 2024-05-04 01:53:17,555] Trial 612 finished with value: 1.1946976183907512 and parameters: {'learning_rate': 0.030921434002811745, 'units1': 68, 'batch_size': 10, 'activation1': 'selu', 'optimizer': 'adam', 'rlrate': 0.6118351363402746}. Best is trial 453 with value: 0.27864771277354317.\n"
     ]
    },
    {
     "name": "stdout",
     "output_type": "stream",
     "text": [
      "1/1 [==============================] - 0s 59ms/step\n"
     ]
    },
    {
     "name": "stderr",
     "output_type": "stream",
     "text": [
      "[I 2024-05-04 01:53:19,512] Trial 613 finished with value: 7.017607930394721 and parameters: {'learning_rate': 0.0743869523562078, 'units1': 91, 'batch_size': 6, 'activation1': 'relu', 'optimizer': 'adam', 'rlrate': 0.5190302634410775}. Best is trial 453 with value: 0.27864771277354317.\n"
     ]
    },
    {
     "name": "stdout",
     "output_type": "stream",
     "text": [
      "1/1 [==============================] - 0s 59ms/step\n"
     ]
    },
    {
     "name": "stderr",
     "output_type": "stream",
     "text": [
      "[I 2024-05-04 01:53:20,631] Trial 614 finished with value: 4.22082962206156 and parameters: {'learning_rate': 0.09273296796490024, 'units1': 87, 'batch_size': 8, 'activation1': 'relu', 'optimizer': 'adam', 'rlrate': 0.6442233763817626}. Best is trial 453 with value: 0.27864771277354317.\n"
     ]
    },
    {
     "name": "stdout",
     "output_type": "stream",
     "text": [
      "1/1 [==============================] - 0s 59ms/step\n"
     ]
    },
    {
     "name": "stderr",
     "output_type": "stream",
     "text": [
      "[I 2024-05-04 01:53:21,758] Trial 615 finished with value: 0.7832760413360598 and parameters: {'learning_rate': 0.027353176669760025, 'units1': 103, 'batch_size': 4, 'activation1': 'relu', 'optimizer': 'adam', 'rlrate': 0.7351328321750275}. Best is trial 453 with value: 0.27864771277354317.\n"
     ]
    },
    {
     "name": "stdout",
     "output_type": "stream",
     "text": [
      "1/1 [==============================] - 0s 58ms/step\n"
     ]
    },
    {
     "name": "stderr",
     "output_type": "stream",
     "text": [
      "[I 2024-05-04 01:53:22,821] Trial 616 finished with value: 1.05878383495174 and parameters: {'learning_rate': 0.06949671462083293, 'units1': 97, 'batch_size': 26, 'activation1': 'relu', 'optimizer': 'adam', 'rlrate': 0.25981403925260027}. Best is trial 453 with value: 0.27864771277354317.\n"
     ]
    },
    {
     "name": "stdout",
     "output_type": "stream",
     "text": [
      "1/1 [==============================] - 0s 58ms/step\n"
     ]
    },
    {
     "name": "stderr",
     "output_type": "stream",
     "text": [
      "[I 2024-05-04 01:53:23,942] Trial 617 finished with value: 15.746684064421999 and parameters: {'learning_rate': 0.0827743024479816, 'units1': 95, 'batch_size': 13, 'activation1': 'tanh', 'optimizer': 'adam', 'rlrate': 0.4086106339901656}. Best is trial 453 with value: 0.27864771277354317.\n"
     ]
    },
    {
     "name": "stdout",
     "output_type": "stream",
     "text": [
      "1/1 [==============================] - 0s 58ms/step\n"
     ]
    },
    {
     "name": "stderr",
     "output_type": "stream",
     "text": [
      "[I 2024-05-04 01:53:25,005] Trial 618 finished with value: 0.6317587462190228 and parameters: {'learning_rate': 0.033075414680568224, 'units1': 81, 'batch_size': 9, 'activation1': 'relu', 'optimizer': 'adam', 'rlrate': 0.6913057729830634}. Best is trial 453 with value: 0.27864771277354317.\n"
     ]
    },
    {
     "name": "stdout",
     "output_type": "stream",
     "text": [
      "1/1 [==============================] - 0s 57ms/step\n"
     ]
    },
    {
     "name": "stderr",
     "output_type": "stream",
     "text": [
      "[I 2024-05-04 01:53:26,049] Trial 619 finished with value: 0.4841773279090306 and parameters: {'learning_rate': 0.05030279114854631, 'units1': 65, 'batch_size': 11, 'activation1': 'relu', 'optimizer': 'adam', 'rlrate': 0.5977289963605619}. Best is trial 453 with value: 0.27864771277354317.\n"
     ]
    },
    {
     "name": "stdout",
     "output_type": "stream",
     "text": [
      "1/1 [==============================] - 0s 90ms/step\n"
     ]
    },
    {
     "name": "stderr",
     "output_type": "stream",
     "text": [
      "[I 2024-05-04 01:53:27,197] Trial 620 finished with value: 0.9976159380770082 and parameters: {'learning_rate': 0.035916028892298946, 'units1': 61, 'batch_size': 15, 'activation1': 'relu', 'optimizer': 'adam', 'rlrate': 0.7864062401215438}. Best is trial 453 with value: 0.27864771277354317.\n"
     ]
    },
    {
     "name": "stdout",
     "output_type": "stream",
     "text": [
      "1/1 [==============================] - 0s 57ms/step\n"
     ]
    },
    {
     "name": "stderr",
     "output_type": "stream",
     "text": [
      "[I 2024-05-04 01:53:28,253] Trial 621 finished with value: 0.8154780664968164 and parameters: {'learning_rate': 0.03818073740441598, 'units1': 92, 'batch_size': 3, 'activation1': 'relu', 'optimizer': 'adam', 'rlrate': 0.24133812325999038}. Best is trial 453 with value: 0.27864771277354317.\n"
     ]
    },
    {
     "name": "stdout",
     "output_type": "stream",
     "text": [
      "1/1 [==============================] - 0s 57ms/step\n"
     ]
    },
    {
     "name": "stderr",
     "output_type": "stream",
     "text": [
      "[I 2024-05-04 01:53:29,285] Trial 622 finished with value: 0.3819250241621632 and parameters: {'learning_rate': 0.05650803893539654, 'units1': 74, 'batch_size': 7, 'activation1': 'relu', 'optimizer': 'adam', 'rlrate': 0.8470874162839435}. Best is trial 453 with value: 0.27864771277354317.\n"
     ]
    },
    {
     "name": "stdout",
     "output_type": "stream",
     "text": [
      "1/1 [==============================] - 0s 57ms/step\n"
     ]
    },
    {
     "name": "stderr",
     "output_type": "stream",
     "text": [
      "[I 2024-05-04 01:53:30,319] Trial 623 finished with value: 1.8431154961599565 and parameters: {'learning_rate': 0.05695042976593934, 'units1': 73, 'batch_size': 8, 'activation1': 'relu', 'optimizer': 'adam', 'rlrate': 0.6638156367313702}. Best is trial 453 with value: 0.27864771277354317.\n"
     ]
    },
    {
     "name": "stdout",
     "output_type": "stream",
     "text": [
      "1/1 [==============================] - 0s 57ms/step\n"
     ]
    },
    {
     "name": "stderr",
     "output_type": "stream",
     "text": [
      "[I 2024-05-04 01:53:31,360] Trial 624 finished with value: 0.6468910664567733 and parameters: {'learning_rate': 0.05511973252765332, 'units1': 75, 'batch_size': 7, 'activation1': 'relu', 'optimizer': 'adam', 'rlrate': 0.6321226724383862}. Best is trial 453 with value: 0.27864771277354317.\n"
     ]
    },
    {
     "name": "stdout",
     "output_type": "stream",
     "text": [
      "1/1 [==============================] - 0s 55ms/step\n"
     ]
    },
    {
     "name": "stderr",
     "output_type": "stream",
     "text": [
      "[I 2024-05-04 01:53:33,047] Trial 625 finished with value: 1.5036930739946262 and parameters: {'learning_rate': 0.05800949131975619, 'units1': 75, 'batch_size': 10, 'activation1': 'relu', 'optimizer': 'adam', 'rlrate': 0.826448237976806}. Best is trial 453 with value: 0.27864771277354317.\n"
     ]
    },
    {
     "name": "stdout",
     "output_type": "stream",
     "text": [
      "1/1 [==============================] - 0s 54ms/step\n"
     ]
    },
    {
     "name": "stderr",
     "output_type": "stream",
     "text": [
      "[I 2024-05-04 01:53:34,098] Trial 626 finished with value: 1.5055293163877663 and parameters: {'learning_rate': 0.059787955852784874, 'units1': 78, 'batch_size': 23, 'activation1': 'relu', 'optimizer': 'adam', 'rlrate': 0.8341014339841406}. Best is trial 453 with value: 0.27864771277354317.\n"
     ]
    },
    {
     "name": "stdout",
     "output_type": "stream",
     "text": [
      "1/1 [==============================] - 0s 59ms/step\n"
     ]
    },
    {
     "name": "stderr",
     "output_type": "stream",
     "text": [
      "[I 2024-05-04 01:53:35,119] Trial 627 finished with value: 1.0919362724259578 and parameters: {'learning_rate': 0.05299845614236716, 'units1': 68, 'batch_size': 12, 'activation1': 'sigmoid', 'optimizer': 'adam', 'rlrate': 0.7830171869719795}. Best is trial 453 with value: 0.27864771277354317.\n"
     ]
    },
    {
     "name": "stdout",
     "output_type": "stream",
     "text": [
      "1/1 [==============================] - 0s 56ms/step\n"
     ]
    },
    {
     "name": "stderr",
     "output_type": "stream",
     "text": [
      "[I 2024-05-04 01:53:36,142] Trial 628 finished with value: 1.2577031070218219 and parameters: {'learning_rate': 0.06138208429254604, 'units1': 71, 'batch_size': 9, 'activation1': 'relu', 'optimizer': 'adam', 'rlrate': 0.8184920627835486}. Best is trial 453 with value: 0.27864771277354317.\n"
     ]
    },
    {
     "name": "stdout",
     "output_type": "stream",
     "text": [
      "1/1 [==============================] - 0s 54ms/step\n"
     ]
    },
    {
     "name": "stderr",
     "output_type": "stream",
     "text": [
      "[I 2024-05-04 01:53:37,185] Trial 629 finished with value: 0.9099115636453603 and parameters: {'learning_rate': 0.0653703468137588, 'units1': 72, 'batch_size': 7, 'activation1': 'relu', 'optimizer': 'adam', 'rlrate': 0.9987731715128975}. Best is trial 453 with value: 0.27864771277354317.\n"
     ]
    },
    {
     "name": "stdout",
     "output_type": "stream",
     "text": [
      "1/1 [==============================] - 0s 56ms/step\n"
     ]
    },
    {
     "name": "stderr",
     "output_type": "stream",
     "text": [
      "[I 2024-05-04 01:53:38,260] Trial 630 finished with value: 2.429204876007245 and parameters: {'learning_rate': 0.05602932766354192, 'units1': 80, 'batch_size': 14, 'activation1': 'relu', 'optimizer': 'adam', 'rlrate': 0.875285395713556}. Best is trial 453 with value: 0.27864771277354317.\n"
     ]
    },
    {
     "name": "stdout",
     "output_type": "stream",
     "text": [
      "1/1 [==============================] - 0s 57ms/step\n"
     ]
    },
    {
     "name": "stderr",
     "output_type": "stream",
     "text": [
      "[I 2024-05-04 01:53:39,269] Trial 631 finished with value: 0.8805237518233703 and parameters: {'learning_rate': 0.02407571214631408, 'units1': 76, 'batch_size': 8, 'activation1': 'relu', 'optimizer': 'adam', 'rlrate': 0.9530980476919693}. Best is trial 453 with value: 0.27864771277354317.\n"
     ]
    },
    {
     "name": "stdout",
     "output_type": "stream",
     "text": [
      "1/1 [==============================] - 0s 55ms/step\n"
     ]
    },
    {
     "name": "stderr",
     "output_type": "stream",
     "text": [
      "[I 2024-05-04 01:53:40,271] Trial 632 finished with value: 4.248900305963749 and parameters: {'learning_rate': 0.02993730474414146, 'units1': 12, 'batch_size': 11, 'activation1': 'relu', 'optimizer': 'adam', 'rlrate': 0.8820509792355624}. Best is trial 453 with value: 0.27864771277354317.\n"
     ]
    },
    {
     "name": "stdout",
     "output_type": "stream",
     "text": [
      "1/1 [==============================] - 0s 53ms/step\n"
     ]
    },
    {
     "name": "stderr",
     "output_type": "stream",
     "text": [
      "[I 2024-05-04 01:53:41,278] Trial 633 finished with value: 4.176237869897136 and parameters: {'learning_rate': 0.08610507004337126, 'units1': 70, 'batch_size': 17, 'activation1': 'relu', 'optimizer': 'adam', 'rlrate': 0.819935954390962}. Best is trial 453 with value: 0.27864771277354317.\n"
     ]
    },
    {
     "name": "stdout",
     "output_type": "stream",
     "text": [
      "1/1 [==============================] - 0s 55ms/step\n"
     ]
    },
    {
     "name": "stderr",
     "output_type": "stream",
     "text": [
      "[I 2024-05-04 01:53:42,299] Trial 634 finished with value: 0.8470296700665864 and parameters: {'learning_rate': 0.062334364600392905, 'units1': 84, 'batch_size': 9, 'activation1': 'relu', 'optimizer': 'adam', 'rlrate': 0.8652371751778731}. Best is trial 453 with value: 0.27864771277354317.\n"
     ]
    },
    {
     "name": "stdout",
     "output_type": "stream",
     "text": [
      "1/1 [==============================] - 0s 55ms/step\n"
     ]
    },
    {
     "name": "stderr",
     "output_type": "stream",
     "text": [
      "[I 2024-05-04 01:53:43,304] Trial 635 finished with value: 0.4448473895618316 and parameters: {'learning_rate': 0.05398686265246081, 'units1': 74, 'batch_size': 7, 'activation1': 'relu', 'optimizer': 'adam', 'rlrate': 0.7624508699023632}. Best is trial 453 with value: 0.27864771277354317.\n"
     ]
    },
    {
     "name": "stdout",
     "output_type": "stream",
     "text": [
      "1/1 [==============================] - 0s 56ms/step\n"
     ]
    },
    {
     "name": "stderr",
     "output_type": "stream",
     "text": [
      "[I 2024-05-04 01:53:44,364] Trial 636 finished with value: 1.5027339026725035 and parameters: {'learning_rate': 0.05072170549150019, 'units1': 71, 'batch_size': 6, 'activation1': 'relu', 'optimizer': 'adam', 'rlrate': 0.7367654312585987}. Best is trial 453 with value: 0.27864771277354317.\n"
     ]
    },
    {
     "name": "stdout",
     "output_type": "stream",
     "text": [
      "1/1 [==============================] - 0s 55ms/step\n"
     ]
    },
    {
     "name": "stderr",
     "output_type": "stream",
     "text": [
      "[I 2024-05-04 01:53:45,382] Trial 637 finished with value: 3.140396064977164 and parameters: {'learning_rate': 0.054814123510208174, 'units1': 74, 'batch_size': 6, 'activation1': 'relu', 'optimizer': 'adam', 'rlrate': 0.8923277703751894}. Best is trial 453 with value: 0.27864771277354317.\n"
     ]
    },
    {
     "name": "stdout",
     "output_type": "stream",
     "text": [
      "1/1 [==============================] - 0s 56ms/step\n"
     ]
    },
    {
     "name": "stderr",
     "output_type": "stream",
     "text": [
      "[I 2024-05-04 01:53:47,049] Trial 638 finished with value: 0.4235300351920027 and parameters: {'learning_rate': 0.05304916673370486, 'units1': 74, 'batch_size': 7, 'activation1': 'relu', 'optimizer': 'adam', 'rlrate': 0.7880472222430315}. Best is trial 453 with value: 0.27864771277354317.\n"
     ]
    },
    {
     "name": "stdout",
     "output_type": "stream",
     "text": [
      "1/1 [==============================] - 0s 56ms/step\n"
     ]
    },
    {
     "name": "stderr",
     "output_type": "stream",
     "text": [
      "[I 2024-05-04 01:53:48,112] Trial 639 finished with value: 4.847688257105845 and parameters: {'learning_rate': 0.05243506938357054, 'units1': 74, 'batch_size': 7, 'activation1': 'selu', 'optimizer': 'adam', 'rlrate': 0.7995795698244931}. Best is trial 453 with value: 0.27864771277354317.\n"
     ]
    },
    {
     "name": "stdout",
     "output_type": "stream",
     "text": [
      "1/1 [==============================] - 0s 60ms/step\n"
     ]
    },
    {
     "name": "stderr",
     "output_type": "stream",
     "text": [
      "[I 2024-05-04 01:53:49,141] Trial 640 finished with value: 0.6777956665780543 and parameters: {'learning_rate': 0.053742547329718886, 'units1': 73, 'batch_size': 6, 'activation1': 'relu', 'optimizer': 'adam', 'rlrate': 0.8382544845792068}. Best is trial 453 with value: 0.27864771277354317.\n"
     ]
    },
    {
     "name": "stdout",
     "output_type": "stream",
     "text": [
      "1/1 [==============================] - 0s 55ms/step\n"
     ]
    },
    {
     "name": "stderr",
     "output_type": "stream",
     "text": [
      "[I 2024-05-04 01:53:50,159] Trial 641 finished with value: 1.2465830892676781 and parameters: {'learning_rate': 0.048839735682140256, 'units1': 76, 'batch_size': 5, 'activation1': 'relu', 'optimizer': 'adam', 'rlrate': 0.8513706223097661}. Best is trial 453 with value: 0.27864771277354317.\n"
     ]
    },
    {
     "name": "stdout",
     "output_type": "stream",
     "text": [
      "1/1 [==============================] - 0s 54ms/step\n"
     ]
    },
    {
     "name": "stderr",
     "output_type": "stream",
     "text": [
      "[I 2024-05-04 01:53:51,161] Trial 642 finished with value: 1.8704292411597576 and parameters: {'learning_rate': 0.05825151630077355, 'units1': 76, 'batch_size': 7, 'activation1': 'relu', 'optimizer': 'adam', 'rlrate': 0.7552649777709816}. Best is trial 453 with value: 0.27864771277354317.\n"
     ]
    },
    {
     "name": "stdout",
     "output_type": "stream",
     "text": [
      "1/1 [==============================] - 0s 57ms/step\n"
     ]
    },
    {
     "name": "stderr",
     "output_type": "stream",
     "text": [
      "[I 2024-05-04 01:53:52,235] Trial 643 finished with value: 1.1470414834298772 and parameters: {'learning_rate': 0.055487020820008684, 'units1': 72, 'batch_size': 8, 'activation1': 'relu', 'optimizer': 'adam', 'rlrate': 0.8443434058898286}. Best is trial 453 with value: 0.27864771277354317.\n"
     ]
    },
    {
     "name": "stdout",
     "output_type": "stream",
     "text": [
      "1/1 [==============================] - 0s 59ms/step\n"
     ]
    },
    {
     "name": "stderr",
     "output_type": "stream",
     "text": [
      "[I 2024-05-04 01:53:53,318] Trial 644 finished with value: 0.4892404808589942 and parameters: {'learning_rate': 0.05397607065566059, 'units1': 79, 'batch_size': 7, 'activation1': 'relu', 'optimizer': 'adam', 'rlrate': 0.7571018229496995}. Best is trial 453 with value: 0.27864771277354317.\n"
     ]
    },
    {
     "name": "stdout",
     "output_type": "stream",
     "text": [
      "1/1 [==============================] - 0s 66ms/step\n"
     ]
    },
    {
     "name": "stderr",
     "output_type": "stream",
     "text": [
      "[I 2024-05-04 01:53:54,337] Trial 645 finished with value: 1.5108437948138476 and parameters: {'learning_rate': 0.05149887788551398, 'units1': 67, 'batch_size': 8, 'activation1': 'tanh', 'optimizer': 'adam', 'rlrate': 0.7125108552867523}. Best is trial 453 with value: 0.27864771277354317.\n"
     ]
    },
    {
     "name": "stdout",
     "output_type": "stream",
     "text": [
      "1/1 [==============================] - 0s 56ms/step\n"
     ]
    },
    {
     "name": "stderr",
     "output_type": "stream",
     "text": [
      "[I 2024-05-04 01:53:55,405] Trial 646 finished with value: 3.2972013182394333 and parameters: {'learning_rate': 0.08992565015779537, 'units1': 78, 'batch_size': 6, 'activation1': 'relu', 'optimizer': 'adam', 'rlrate': 0.8310993503216519}. Best is trial 453 with value: 0.27864771277354317.\n"
     ]
    },
    {
     "name": "stdout",
     "output_type": "stream",
     "text": [
      "1/1 [==============================] - 0s 55ms/step\n"
     ]
    },
    {
     "name": "stderr",
     "output_type": "stream",
     "text": [
      "[I 2024-05-04 01:53:56,468] Trial 647 finished with value: 0.9298296962745968 and parameters: {'learning_rate': 0.057030922456594475, 'units1': 73, 'batch_size': 40, 'activation1': 'relu', 'optimizer': 'adam', 'rlrate': 0.8018533290785194}. Best is trial 453 with value: 0.27864771277354317.\n"
     ]
    },
    {
     "name": "stdout",
     "output_type": "stream",
     "text": [
      "1/1 [==============================] - 0s 54ms/step\n"
     ]
    },
    {
     "name": "stderr",
     "output_type": "stream",
     "text": [
      "[I 2024-05-04 01:53:57,479] Trial 648 finished with value: 1.6781215682531725 and parameters: {'learning_rate': 0.0463309046583383, 'units1': 75, 'batch_size': 6, 'activation1': 'relu', 'optimizer': 'adam', 'rlrate': 0.7833738525914604}. Best is trial 453 with value: 0.27864771277354317.\n"
     ]
    },
    {
     "name": "stdout",
     "output_type": "stream",
     "text": [
      "1/1 [==============================] - 0s 54ms/step\n"
     ]
    },
    {
     "name": "stderr",
     "output_type": "stream",
     "text": [
      "[I 2024-05-04 01:53:58,491] Trial 649 finished with value: 0.7369702199685334 and parameters: {'learning_rate': 0.05249409351100462, 'units1': 71, 'batch_size': 5, 'activation1': 'relu', 'optimizer': 'adam', 'rlrate': 0.8098753188266244}. Best is trial 453 with value: 0.27864771277354317.\n"
     ]
    },
    {
     "name": "stdout",
     "output_type": "stream",
     "text": [
      "1/1 [==============================] - 0s 55ms/step\n"
     ]
    },
    {
     "name": "stderr",
     "output_type": "stream",
     "text": [
      "[I 2024-05-04 01:54:00,188] Trial 650 finished with value: 2.4258759431552583 and parameters: {'learning_rate': 0.055752497546551295, 'units1': 67, 'batch_size': 4, 'activation1': 'sigmoid', 'optimizer': 'adam', 'rlrate': 0.8590304116537388}. Best is trial 453 with value: 0.27864771277354317.\n"
     ]
    },
    {
     "name": "stdout",
     "output_type": "stream",
     "text": [
      "1/1 [==============================] - 0s 55ms/step\n"
     ]
    },
    {
     "name": "stderr",
     "output_type": "stream",
     "text": [
      "[I 2024-05-04 01:54:01,193] Trial 651 finished with value: 1.1540765507538144 and parameters: {'learning_rate': 0.05927904909903043, 'units1': 76, 'batch_size': 8, 'activation1': 'relu', 'optimizer': 'adam', 'rlrate': 0.7457574774092799}. Best is trial 453 with value: 0.27864771277354317.\n"
     ]
    },
    {
     "name": "stdout",
     "output_type": "stream",
     "text": [
      "1/1 [==============================] - 0s 56ms/step\n"
     ]
    },
    {
     "name": "stderr",
     "output_type": "stream",
     "text": [
      "[I 2024-05-04 01:54:02,236] Trial 652 finished with value: 0.5370813038029298 and parameters: {'learning_rate': 0.04872615977894584, 'units1': 70, 'batch_size': 7, 'activation1': 'relu', 'optimizer': 'adam', 'rlrate': 0.7847274950401196}. Best is trial 453 with value: 0.27864771277354317.\n"
     ]
    },
    {
     "name": "stdout",
     "output_type": "stream",
     "text": [
      "1/1 [==============================] - 0s 55ms/step\n"
     ]
    },
    {
     "name": "stderr",
     "output_type": "stream",
     "text": [
      "[I 2024-05-04 01:54:03,250] Trial 653 finished with value: 1.0914884194960508 and parameters: {'learning_rate': 0.05090260498609874, 'units1': 79, 'batch_size': 9, 'activation1': 'relu', 'optimizer': 'adam', 'rlrate': 0.7949213955631657}. Best is trial 453 with value: 0.27864771277354317.\n"
     ]
    },
    {
     "name": "stdout",
     "output_type": "stream",
     "text": [
      "1/1 [==============================] - 0s 55ms/step\n"
     ]
    },
    {
     "name": "stderr",
     "output_type": "stream",
     "text": [
      "[I 2024-05-04 01:54:04,271] Trial 654 finished with value: 0.6794532684402756 and parameters: {'learning_rate': 0.02129177427964838, 'units1': 69, 'batch_size': 7, 'activation1': 'relu', 'optimizer': 'adam', 'rlrate': 0.7703084219490259}. Best is trial 453 with value: 0.27864771277354317.\n"
     ]
    },
    {
     "name": "stdout",
     "output_type": "stream",
     "text": [
      "1/1 [==============================] - 0s 54ms/step\n"
     ]
    },
    {
     "name": "stderr",
     "output_type": "stream",
     "text": [
      "[I 2024-05-04 01:54:05,288] Trial 655 finished with value: 2.041577816886425 and parameters: {'learning_rate': 0.054100394573436045, 'units1': 112, 'batch_size': 5, 'activation1': 'relu', 'optimizer': 'adam', 'rlrate': 0.7301381416467534}. Best is trial 453 with value: 0.27864771277354317.\n"
     ]
    },
    {
     "name": "stdout",
     "output_type": "stream",
     "text": [
      "1/1 [==============================] - 0s 57ms/step\n"
     ]
    },
    {
     "name": "stderr",
     "output_type": "stream",
     "text": [
      "[I 2024-05-04 01:54:06,314] Trial 656 finished with value: 0.7670334455811736 and parameters: {'learning_rate': 0.018869144480017953, 'units1': 77, 'batch_size': 8, 'activation1': 'relu', 'optimizer': 'adam', 'rlrate': 0.8480626231098096}. Best is trial 453 with value: 0.27864771277354317.\n"
     ]
    },
    {
     "name": "stdout",
     "output_type": "stream",
     "text": [
      "1/1 [==============================] - 0s 55ms/step\n"
     ]
    },
    {
     "name": "stderr",
     "output_type": "stream",
     "text": [
      "[I 2024-05-04 01:54:07,364] Trial 657 finished with value: 1.4738901272759317 and parameters: {'learning_rate': 0.05659768257563608, 'units1': 82, 'batch_size': 6, 'activation1': 'relu', 'optimizer': 'adam', 'rlrate': 0.7685311782508332}. Best is trial 453 with value: 0.27864771277354317.\n"
     ]
    },
    {
     "name": "stdout",
     "output_type": "stream",
     "text": [
      "1/1 [==============================] - 0s 55ms/step\n"
     ]
    },
    {
     "name": "stderr",
     "output_type": "stream",
     "text": [
      "[I 2024-05-04 01:54:08,375] Trial 658 finished with value: 0.7100810911141213 and parameters: {'learning_rate': 0.07554140077979161, 'units1': 73, 'batch_size': 9, 'activation1': 'relu', 'optimizer': 'adam', 'rlrate': 0.8125292118484091}. Best is trial 453 with value: 0.27864771277354317.\n"
     ]
    },
    {
     "name": "stdout",
     "output_type": "stream",
     "text": [
      "1/1 [==============================] - 0s 56ms/step\n"
     ]
    },
    {
     "name": "stderr",
     "output_type": "stream",
     "text": [
      "[I 2024-05-04 01:54:09,397] Trial 659 finished with value: 1.401718721204918 and parameters: {'learning_rate': 0.08383013422955639, 'units1': 62, 'batch_size': 7, 'activation1': 'relu', 'optimizer': 'adam', 'rlrate': 0.7667295352037804}. Best is trial 453 with value: 0.27864771277354317.\n"
     ]
    },
    {
     "name": "stdout",
     "output_type": "stream",
     "text": [
      "1/1 [==============================] - 0s 60ms/step\n"
     ]
    },
    {
     "name": "stderr",
     "output_type": "stream",
     "text": [
      "[I 2024-05-04 01:54:10,417] Trial 660 finished with value: 1.8447374817032522 and parameters: {'learning_rate': 0.048209946777769457, 'units1': 78, 'batch_size': 8, 'activation1': 'relu', 'optimizer': 'adam', 'rlrate': 0.7141989508247645}. Best is trial 453 with value: 0.27864771277354317.\n"
     ]
    },
    {
     "name": "stdout",
     "output_type": "stream",
     "text": [
      "1/1 [==============================] - 0s 56ms/step\n"
     ]
    },
    {
     "name": "stderr",
     "output_type": "stream",
     "text": [
      "[I 2024-05-04 01:54:11,428] Trial 661 finished with value: 15.405245985187943 and parameters: {'learning_rate': 0.09655577406568572, 'units1': 73, 'batch_size': 5, 'activation1': 'relu', 'optimizer': 'adam', 'rlrate': 0.9044950725824267}. Best is trial 453 with value: 0.27864771277354317.\n"
     ]
    },
    {
     "name": "stdout",
     "output_type": "stream",
     "text": [
      "1/1 [==============================] - 0s 55ms/step\n"
     ]
    },
    {
     "name": "stderr",
     "output_type": "stream",
     "text": [
      "[I 2024-05-04 01:54:12,424] Trial 662 finished with value: 0.4364892413488168 and parameters: {'learning_rate': 0.05083108114967581, 'units1': 74, 'batch_size': 10, 'activation1': 'relu', 'optimizer': 'adam', 'rlrate': 0.3241511077232442}. Best is trial 453 with value: 0.27864771277354317.\n"
     ]
    },
    {
     "name": "stdout",
     "output_type": "stream",
     "text": [
      "1/1 [==============================] - 0s 57ms/step\n"
     ]
    },
    {
     "name": "stderr",
     "output_type": "stream",
     "text": [
      "[I 2024-05-04 01:54:14,114] Trial 663 finished with value: 0.5133029985219656 and parameters: {'learning_rate': 0.051149729407316144, 'units1': 74, 'batch_size': 10, 'activation1': 'relu', 'optimizer': 'adam', 'rlrate': 0.2183332594261574}. Best is trial 453 with value: 0.27864771277354317.\n"
     ]
    },
    {
     "name": "stdout",
     "output_type": "stream",
     "text": [
      "1/1 [==============================] - 0s 54ms/step\n"
     ]
    },
    {
     "name": "stderr",
     "output_type": "stream",
     "text": [
      "[I 2024-05-04 01:54:15,127] Trial 664 finished with value: 0.3773104556037814 and parameters: {'learning_rate': 0.05239935097055283, 'units1': 71, 'batch_size': 9, 'activation1': 'relu', 'optimizer': 'adam', 'rlrate': 0.3604815867587294}. Best is trial 453 with value: 0.27864771277354317.\n"
     ]
    },
    {
     "name": "stdout",
     "output_type": "stream",
     "text": [
      "1/1 [==============================] - 0s 54ms/step\n"
     ]
    },
    {
     "name": "stderr",
     "output_type": "stream",
     "text": [
      "[I 2024-05-04 01:54:16,168] Trial 665 finished with value: 0.7325787579900951 and parameters: {'learning_rate': 0.052751858526641666, 'units1': 70, 'batch_size': 9, 'activation1': 'relu', 'optimizer': 'adam', 'rlrate': 0.3032827820033926}. Best is trial 453 with value: 0.27864771277354317.\n"
     ]
    },
    {
     "name": "stdout",
     "output_type": "stream",
     "text": [
      "1/1 [==============================] - 0s 54ms/step\n"
     ]
    },
    {
     "name": "stderr",
     "output_type": "stream",
     "text": [
      "[I 2024-05-04 01:54:17,247] Trial 666 finished with value: 1.546618044141924 and parameters: {'learning_rate': 0.05020620888595948, 'units1': 69, 'batch_size': 10, 'activation1': 'relu', 'optimizer': 'adam', 'rlrate': 0.8432892316137619}. Best is trial 453 with value: 0.27864771277354317.\n"
     ]
    },
    {
     "name": "stdout",
     "output_type": "stream",
     "text": [
      "1/1 [==============================] - 0s 55ms/step\n"
     ]
    },
    {
     "name": "stderr",
     "output_type": "stream",
     "text": [
      "[I 2024-05-04 01:54:18,275] Trial 667 finished with value: 11.882726639890414 and parameters: {'learning_rate': 0.0530072476508661, 'units1': 75, 'batch_size': 10, 'activation1': 'selu', 'optimizer': 'adam', 'rlrate': 0.32413010495898525}. Best is trial 453 with value: 0.27864771277354317.\n"
     ]
    },
    {
     "name": "stdout",
     "output_type": "stream",
     "text": [
      "1/1 [==============================] - 0s 54ms/step\n"
     ]
    },
    {
     "name": "stderr",
     "output_type": "stream",
     "text": [
      "[I 2024-05-04 01:54:19,295] Trial 668 finished with value: 0.49740666364507724 and parameters: {'learning_rate': 0.05007956157573056, 'units1': 65, 'batch_size': 9, 'activation1': 'relu', 'optimizer': 'adam', 'rlrate': 0.1791920508109216}. Best is trial 453 with value: 0.27864771277354317.\n"
     ]
    },
    {
     "name": "stdout",
     "output_type": "stream",
     "text": [
      "1/1 [==============================] - 0s 54ms/step\n"
     ]
    },
    {
     "name": "stderr",
     "output_type": "stream",
     "text": [
      "[I 2024-05-04 01:54:20,294] Trial 669 finished with value: 2.840550896218053 and parameters: {'learning_rate': 0.04644907899854938, 'units1': 27, 'batch_size': 8, 'activation1': 'tanh', 'optimizer': 'adam', 'rlrate': 0.24228595299761518}. Best is trial 453 with value: 0.27864771277354317.\n"
     ]
    },
    {
     "name": "stdout",
     "output_type": "stream",
     "text": [
      "1/1 [==============================] - 0s 54ms/step\n"
     ]
    },
    {
     "name": "stderr",
     "output_type": "stream",
     "text": [
      "[I 2024-05-04 01:54:21,298] Trial 670 finished with value: 0.47603624030157 and parameters: {'learning_rate': 0.05310204285375602, 'units1': 73, 'batch_size': 9, 'activation1': 'relu', 'optimizer': 'adam', 'rlrate': 0.36388368517366504}. Best is trial 453 with value: 0.27864771277354317.\n"
     ]
    },
    {
     "name": "stdout",
     "output_type": "stream",
     "text": [
      "1/1 [==============================] - 0s 55ms/step\n"
     ]
    },
    {
     "name": "stderr",
     "output_type": "stream",
     "text": [
      "[I 2024-05-04 01:54:22,306] Trial 671 finished with value: 0.4744087948068435 and parameters: {'learning_rate': 0.054409493293959, 'units1': 71, 'batch_size': 11, 'activation1': 'relu', 'optimizer': 'adam', 'rlrate': 0.30563083515365896}. Best is trial 453 with value: 0.27864771277354317.\n"
     ]
    },
    {
     "name": "stdout",
     "output_type": "stream",
     "text": [
      "1/1 [==============================] - 0s 56ms/step\n"
     ]
    },
    {
     "name": "stderr",
     "output_type": "stream",
     "text": [
      "[I 2024-05-04 01:54:23,379] Trial 672 finished with value: 1.2792511342076591 and parameters: {'learning_rate': 0.05125155136320345, 'units1': 75, 'batch_size': 10, 'activation1': 'relu', 'optimizer': 'adam', 'rlrate': 0.9276924783338937}. Best is trial 453 with value: 0.27864771277354317.\n"
     ]
    },
    {
     "name": "stdout",
     "output_type": "stream",
     "text": [
      "1/1 [==============================] - 0s 56ms/step\n"
     ]
    },
    {
     "name": "stderr",
     "output_type": "stream",
     "text": [
      "[I 2024-05-04 01:54:24,408] Trial 673 finished with value: 1.6976232962036502 and parameters: {'learning_rate': 0.04846765627644844, 'units1': 69, 'batch_size': 8, 'activation1': 'relu', 'optimizer': 'adam', 'rlrate': 0.3478209095129145}. Best is trial 453 with value: 0.27864771277354317.\n"
     ]
    },
    {
     "name": "stdout",
     "output_type": "stream",
     "text": [
      "1/1 [==============================] - 0s 54ms/step\n"
     ]
    },
    {
     "name": "stderr",
     "output_type": "stream",
     "text": [
      "[I 2024-05-04 01:54:25,420] Trial 674 finished with value: 1.5058725781256623 and parameters: {'learning_rate': 0.08095164502486454, 'units1': 78, 'batch_size': 7, 'activation1': 'relu', 'optimizer': 'adam', 'rlrate': 0.3472346337047343}. Best is trial 453 with value: 0.27864771277354317.\n"
     ]
    },
    {
     "name": "stdout",
     "output_type": "stream",
     "text": [
      "1/1 [==============================] - 0s 55ms/step\n"
     ]
    },
    {
     "name": "stderr",
     "output_type": "stream",
     "text": [
      "[I 2024-05-04 01:54:26,430] Trial 675 finished with value: 1.735986085005397 and parameters: {'learning_rate': 0.058614017001522176, 'units1': 72, 'batch_size': 10, 'activation1': 'sigmoid', 'optimizer': 'adam', 'rlrate': 0.4616802353231637}. Best is trial 453 with value: 0.27864771277354317.\n"
     ]
    },
    {
     "name": "stdout",
     "output_type": "stream",
     "text": [
      "1/1 [==============================] - 0s 56ms/step\n"
     ]
    },
    {
     "name": "stderr",
     "output_type": "stream",
     "text": [
      "[I 2024-05-04 01:54:28,148] Trial 676 finished with value: 5.174637057288049 and parameters: {'learning_rate': 0.07270395620647085, 'units1': 67, 'batch_size': 9, 'activation1': 'relu', 'optimizer': 'adam', 'rlrate': 0.3140945686510326}. Best is trial 453 with value: 0.27864771277354317.\n"
     ]
    },
    {
     "name": "stdout",
     "output_type": "stream",
     "text": [
      "1/1 [==============================] - 0s 54ms/step\n"
     ]
    },
    {
     "name": "stderr",
     "output_type": "stream",
     "text": [
      "[I 2024-05-04 01:54:29,176] Trial 677 finished with value: 1.313740922843503 and parameters: {'learning_rate': 0.055327431194914144, 'units1': 76, 'batch_size': 7, 'activation1': 'relu', 'optimizer': 'adam', 'rlrate': 0.3558683598662115}. Best is trial 453 with value: 0.27864771277354317.\n"
     ]
    },
    {
     "name": "stdout",
     "output_type": "stream",
     "text": [
      "1/1 [==============================] - 0s 55ms/step\n"
     ]
    },
    {
     "name": "stderr",
     "output_type": "stream",
     "text": [
      "[I 2024-05-04 01:54:30,185] Trial 678 finished with value: 0.3207995854811447 and parameters: {'learning_rate': 0.049493998416820444, 'units1': 71, 'batch_size': 9, 'activation1': 'relu', 'optimizer': 'adam', 'rlrate': 0.3387303027790068}. Best is trial 453 with value: 0.27864771277354317.\n"
     ]
    },
    {
     "name": "stdout",
     "output_type": "stream",
     "text": [
      "1/1 [==============================] - 0s 56ms/step\n"
     ]
    },
    {
     "name": "stderr",
     "output_type": "stream",
     "text": [
      "[I 2024-05-04 01:54:31,193] Trial 679 finished with value: 0.6689070241278314 and parameters: {'learning_rate': 0.04381302447663815, 'units1': 71, 'batch_size': 12, 'activation1': 'relu', 'optimizer': 'adam', 'rlrate': 0.33384263376367984}. Best is trial 453 with value: 0.27864771277354317.\n"
     ]
    },
    {
     "name": "stdout",
     "output_type": "stream",
     "text": [
      "1/1 [==============================] - 0s 56ms/step\n"
     ]
    },
    {
     "name": "stderr",
     "output_type": "stream",
     "text": [
      "[I 2024-05-04 01:54:32,217] Trial 680 finished with value: 0.5221201597208963 and parameters: {'learning_rate': 0.045457097433852914, 'units1': 68, 'batch_size': 11, 'activation1': 'relu', 'optimizer': 'adam', 'rlrate': 0.32622159554347163}. Best is trial 453 with value: 0.27864771277354317.\n"
     ]
    },
    {
     "name": "stdout",
     "output_type": "stream",
     "text": [
      "1/1 [==============================] - 0s 60ms/step\n"
     ]
    },
    {
     "name": "stderr",
     "output_type": "stream",
     "text": [
      "[I 2024-05-04 01:54:33,246] Trial 681 finished with value: 1.1305467918901266 and parameters: {'learning_rate': 0.048301767898963205, 'units1': 65, 'batch_size': 10, 'activation1': 'relu', 'optimizer': 'adam', 'rlrate': 0.30778986484750115}. Best is trial 453 with value: 0.27864771277354317.\n"
     ]
    },
    {
     "name": "stdout",
     "output_type": "stream",
     "text": [
      "1/1 [==============================] - 0s 55ms/step\n"
     ]
    },
    {
     "name": "stderr",
     "output_type": "stream",
     "text": [
      "[I 2024-05-04 01:54:34,318] Trial 682 finished with value: 1.0427567869844667 and parameters: {'learning_rate': 0.0571823678417953, 'units1': 72, 'batch_size': 11, 'activation1': 'relu', 'optimizer': 'adam', 'rlrate': 0.41368051557458496}. Best is trial 453 with value: 0.27864771277354317.\n"
     ]
    },
    {
     "name": "stdout",
     "output_type": "stream",
     "text": [
      "1/1 [==============================] - 0s 56ms/step\n"
     ]
    },
    {
     "name": "stderr",
     "output_type": "stream",
     "text": [
      "[I 2024-05-04 01:54:35,347] Trial 683 finished with value: 0.4208190442493158 and parameters: {'learning_rate': 0.04986211330672028, 'units1': 74, 'batch_size': 9, 'activation1': 'relu', 'optimizer': 'adam', 'rlrate': 0.27857509409485326}. Best is trial 453 with value: 0.27864771277354317.\n"
     ]
    },
    {
     "name": "stdout",
     "output_type": "stream",
     "text": [
      "1/1 [==============================] - 0s 56ms/step\n"
     ]
    },
    {
     "name": "stderr",
     "output_type": "stream",
     "text": [
      "[I 2024-05-04 01:54:36,357] Trial 684 finished with value: 0.532205789872681 and parameters: {'learning_rate': 0.04971880232005194, 'units1': 74, 'batch_size': 9, 'activation1': 'relu', 'optimizer': 'adam', 'rlrate': 0.38210019056418665}. Best is trial 453 with value: 0.27864771277354317.\n"
     ]
    },
    {
     "name": "stdout",
     "output_type": "stream",
     "text": [
      "1/1 [==============================] - 0s 57ms/step\n"
     ]
    },
    {
     "name": "stderr",
     "output_type": "stream",
     "text": [
      "[I 2024-05-04 01:54:37,393] Trial 685 finished with value: 0.28395554380080157 and parameters: {'learning_rate': 0.051642601050459556, 'units1': 73, 'batch_size': 11, 'activation1': 'relu', 'optimizer': 'adam', 'rlrate': 0.2831372743946087}. Best is trial 453 with value: 0.27864771277354317.\n"
     ]
    },
    {
     "name": "stdout",
     "output_type": "stream",
     "text": [
      "1/1 [==============================] - 0s 55ms/step\n"
     ]
    },
    {
     "name": "stderr",
     "output_type": "stream",
     "text": [
      "[I 2024-05-04 01:54:38,540] Trial 686 finished with value: 0.5309996084337057 and parameters: {'learning_rate': 0.051485802723174864, 'units1': 71, 'batch_size': 12, 'activation1': 'relu', 'optimizer': 'adam', 'rlrate': 0.2808356000467084}. Best is trial 453 with value: 0.27864771277354317.\n"
     ]
    },
    {
     "name": "stdout",
     "output_type": "stream",
     "text": [
      "1/1 [==============================] - 0s 55ms/step\n"
     ]
    },
    {
     "name": "stderr",
     "output_type": "stream",
     "text": [
      "[I 2024-05-04 01:54:40,218] Trial 687 finished with value: 1.9084903207938027 and parameters: {'learning_rate': 0.04654433276726512, 'units1': 69, 'batch_size': 49, 'activation1': 'relu', 'optimizer': 'adam', 'rlrate': 0.2663609592504128}. Best is trial 453 with value: 0.27864771277354317.\n"
     ]
    },
    {
     "name": "stdout",
     "output_type": "stream",
     "text": [
      "1/1 [==============================] - 0s 56ms/step\n"
     ]
    },
    {
     "name": "stderr",
     "output_type": "stream",
     "text": [
      "[I 2024-05-04 01:54:41,240] Trial 688 finished with value: 0.35542311663643616 and parameters: {'learning_rate': 0.052285781100158454, 'units1': 73, 'batch_size': 12, 'activation1': 'relu', 'optimizer': 'adam', 'rlrate': 0.3152104487715285}. Best is trial 453 with value: 0.27864771277354317.\n"
     ]
    },
    {
     "name": "stdout",
     "output_type": "stream",
     "text": [
      "1/1 [==============================] - 0s 54ms/step\n"
     ]
    },
    {
     "name": "stderr",
     "output_type": "stream",
     "text": [
      "[I 2024-05-04 01:54:42,245] Trial 689 finished with value: 0.3560622132828669 and parameters: {'learning_rate': 0.04976903849079729, 'units1': 73, 'batch_size': 12, 'activation1': 'relu', 'optimizer': 'adam', 'rlrate': 0.3141196868682997}. Best is trial 453 with value: 0.27864771277354317.\n"
     ]
    },
    {
     "name": "stdout",
     "output_type": "stream",
     "text": [
      "1/1 [==============================] - 0s 56ms/step\n"
     ]
    },
    {
     "name": "stderr",
     "output_type": "stream",
     "text": [
      "[I 2024-05-04 01:54:43,268] Trial 690 finished with value: 0.42660959075814553 and parameters: {'learning_rate': 0.049313391146986775, 'units1': 74, 'batch_size': 12, 'activation1': 'relu', 'optimizer': 'adam', 'rlrate': 0.29136311735943454}. Best is trial 453 with value: 0.27864771277354317.\n"
     ]
    },
    {
     "name": "stdout",
     "output_type": "stream",
     "text": [
      "1/1 [==============================] - 0s 57ms/step\n"
     ]
    },
    {
     "name": "stderr",
     "output_type": "stream",
     "text": [
      "[I 2024-05-04 01:54:44,306] Trial 691 finished with value: 0.36325362622570756 and parameters: {'learning_rate': 0.04952217163901858, 'units1': 74, 'batch_size': 11, 'activation1': 'relu', 'optimizer': 'adam', 'rlrate': 0.32275193329676494}. Best is trial 453 with value: 0.27864771277354317.\n"
     ]
    },
    {
     "name": "stdout",
     "output_type": "stream",
     "text": [
      "1/1 [==============================] - 0s 56ms/step\n"
     ]
    },
    {
     "name": "stderr",
     "output_type": "stream",
     "text": [
      "[I 2024-05-04 01:54:45,388] Trial 692 finished with value: 0.90453432952047 and parameters: {'learning_rate': 0.04942609316179498, 'units1': 76, 'batch_size': 13, 'activation1': 'selu', 'optimizer': 'adam', 'rlrate': 0.32178454003522644}. Best is trial 453 with value: 0.27864771277354317.\n"
     ]
    },
    {
     "name": "stdout",
     "output_type": "stream",
     "text": [
      "1/1 [==============================] - 0s 58ms/step\n"
     ]
    },
    {
     "name": "stderr",
     "output_type": "stream",
     "text": [
      "[I 2024-05-04 01:54:46,420] Trial 693 finished with value: 0.6286280458941725 and parameters: {'learning_rate': 0.048031389087831194, 'units1': 72, 'batch_size': 11, 'activation1': 'relu', 'optimizer': 'adam', 'rlrate': 0.2947182502256679}. Best is trial 453 with value: 0.27864771277354317.\n"
     ]
    },
    {
     "name": "stdout",
     "output_type": "stream",
     "text": [
      "1/1 [==============================] - 0s 58ms/step\n"
     ]
    },
    {
     "name": "stderr",
     "output_type": "stream",
     "text": [
      "[I 2024-05-04 01:54:47,516] Trial 694 finished with value: 0.7561538138747886 and parameters: {'learning_rate': 0.04726681779921593, 'units1': 76, 'batch_size': 12, 'activation1': 'relu', 'optimizer': 'adam', 'rlrate': 0.31462361980391185}. Best is trial 453 with value: 0.27864771277354317.\n"
     ]
    },
    {
     "name": "stdout",
     "output_type": "stream",
     "text": [
      "1/1 [==============================] - 0s 56ms/step\n"
     ]
    },
    {
     "name": "stderr",
     "output_type": "stream",
     "text": [
      "[I 2024-05-04 01:54:48,521] Trial 695 finished with value: 0.4305631237499379 and parameters: {'learning_rate': 0.04900128813568254, 'units1': 70, 'batch_size': 12, 'activation1': 'relu', 'optimizer': 'adam', 'rlrate': 0.3168504969544528}. Best is trial 453 with value: 0.27864771277354317.\n"
     ]
    },
    {
     "name": "stdout",
     "output_type": "stream",
     "text": [
      "1/1 [==============================] - 0s 55ms/step\n"
     ]
    },
    {
     "name": "stderr",
     "output_type": "stream",
     "text": [
      "[I 2024-05-04 01:54:49,541] Trial 696 finished with value: 0.704300045279586 and parameters: {'learning_rate': 0.0495782316772895, 'units1': 69, 'batch_size': 12, 'activation1': 'relu', 'optimizer': 'adam', 'rlrate': 0.2949701997658074}. Best is trial 453 with value: 0.27864771277354317.\n"
     ]
    },
    {
     "name": "stdout",
     "output_type": "stream",
     "text": [
      "1/1 [==============================] - 0s 55ms/step\n"
     ]
    },
    {
     "name": "stderr",
     "output_type": "stream",
     "text": [
      "[I 2024-05-04 01:54:50,554] Trial 697 finished with value: 0.6292281580240501 and parameters: {'learning_rate': 0.04619195779188178, 'units1': 66, 'batch_size': 12, 'activation1': 'relu', 'optimizer': 'adam', 'rlrate': 0.3313554863899278}. Best is trial 453 with value: 0.27864771277354317.\n"
     ]
    },
    {
     "name": "stdout",
     "output_type": "stream",
     "text": [
      "1/1 [==============================] - 0s 55ms/step\n"
     ]
    },
    {
     "name": "stderr",
     "output_type": "stream",
     "text": [
      "[I 2024-05-04 01:54:51,567] Trial 698 finished with value: 0.36347585194328386 and parameters: {'learning_rate': 0.05071676555651045, 'units1': 70, 'batch_size': 13, 'activation1': 'relu', 'optimizer': 'adam', 'rlrate': 0.2808398672654537}. Best is trial 453 with value: 0.27864771277354317.\n"
     ]
    },
    {
     "name": "stdout",
     "output_type": "stream",
     "text": [
      "1/1 [==============================] - 0s 55ms/step\n"
     ]
    },
    {
     "name": "stderr",
     "output_type": "stream",
     "text": [
      "[I 2024-05-04 01:54:52,579] Trial 699 finished with value: 4.813314488338815 and parameters: {'learning_rate': 0.05054767198844125, 'units1': 68, 'batch_size': 13, 'activation1': 'tanh', 'optimizer': 'adam', 'rlrate': 0.2918895610818857}. Best is trial 453 with value: 0.27864771277354317.\n"
     ]
    },
    {
     "name": "stdout",
     "output_type": "stream",
     "text": [
      "1/1 [==============================] - 0s 58ms/step\n"
     ]
    },
    {
     "name": "stderr",
     "output_type": "stream",
     "text": [
      "[I 2024-05-04 01:54:53,663] Trial 700 finished with value: 0.9061707044769768 and parameters: {'learning_rate': 0.048012487944302275, 'units1': 70, 'batch_size': 14, 'activation1': 'relu', 'optimizer': 'adam', 'rlrate': 0.2637032007006752}. Best is trial 453 with value: 0.27864771277354317.\n"
     ]
    },
    {
     "name": "stdout",
     "output_type": "stream",
     "text": [
      "1/1 [==============================] - 0s 55ms/step\n"
     ]
    },
    {
     "name": "stderr",
     "output_type": "stream",
     "text": [
      "[I 2024-05-04 01:54:55,386] Trial 701 finished with value: 0.4277437198314356 and parameters: {'learning_rate': 0.05130457847714577, 'units1': 71, 'batch_size': 13, 'activation1': 'relu', 'optimizer': 'adam', 'rlrate': 0.3261938167434493}. Best is trial 453 with value: 0.27864771277354317.\n"
     ]
    },
    {
     "name": "stdout",
     "output_type": "stream",
     "text": [
      "1/1 [==============================] - 0s 56ms/step\n"
     ]
    },
    {
     "name": "stderr",
     "output_type": "stream",
     "text": [
      "[I 2024-05-04 01:54:56,412] Trial 702 finished with value: 0.6737330564717139 and parameters: {'learning_rate': 0.05089465134361999, 'units1': 66, 'batch_size': 13, 'activation1': 'relu', 'optimizer': 'adam', 'rlrate': 0.30933439186846506}. Best is trial 453 with value: 0.27864771277354317.\n"
     ]
    },
    {
     "name": "stdout",
     "output_type": "stream",
     "text": [
      "1/1 [==============================] - 0s 56ms/step\n"
     ]
    },
    {
     "name": "stderr",
     "output_type": "stream",
     "text": [
      "[I 2024-05-04 01:54:57,440] Trial 703 finished with value: 0.8257626985811273 and parameters: {'learning_rate': 0.04905577623971685, 'units1': 70, 'batch_size': 14, 'activation1': 'relu', 'optimizer': 'adam', 'rlrate': 0.34411426673471696}. Best is trial 453 with value: 0.27864771277354317.\n"
     ]
    },
    {
     "name": "stdout",
     "output_type": "stream",
     "text": [
      "1/1 [==============================] - 0s 54ms/step\n"
     ]
    },
    {
     "name": "stderr",
     "output_type": "stream",
     "text": [
      "[I 2024-05-04 01:54:58,466] Trial 704 finished with value: 0.5750706397996694 and parameters: {'learning_rate': 0.0520633699727395, 'units1': 72, 'batch_size': 12, 'activation1': 'relu', 'optimizer': 'adam', 'rlrate': 0.2836174254605849}. Best is trial 453 with value: 0.27864771277354317.\n"
     ]
    },
    {
     "name": "stdout",
     "output_type": "stream",
     "text": [
      "1/1 [==============================] - 0s 56ms/step\n"
     ]
    },
    {
     "name": "stderr",
     "output_type": "stream",
     "text": [
      "[I 2024-05-04 01:54:59,502] Trial 705 finished with value: 0.5463867290682317 and parameters: {'learning_rate': 0.049923201402265915, 'units1': 64, 'batch_size': 13, 'activation1': 'relu', 'optimizer': 'adam', 'rlrate': 0.3218703657762229}. Best is trial 453 with value: 0.27864771277354317.\n"
     ]
    },
    {
     "name": "stdout",
     "output_type": "stream",
     "text": [
      "1/1 [==============================] - 0s 56ms/step\n"
     ]
    },
    {
     "name": "stderr",
     "output_type": "stream",
     "text": [
      "[I 2024-05-04 01:55:00,592] Trial 706 finished with value: 1.1286453808596162 and parameters: {'learning_rate': 0.0470086788650782, 'units1': 68, 'batch_size': 12, 'activation1': 'sigmoid', 'optimizer': 'adam', 'rlrate': 0.3354625198557645}. Best is trial 453 with value: 0.27864771277354317.\n"
     ]
    },
    {
     "name": "stdout",
     "output_type": "stream",
     "text": [
      "1/1 [==============================] - 0s 56ms/step\n"
     ]
    },
    {
     "name": "stderr",
     "output_type": "stream",
     "text": [
      "[I 2024-05-04 01:55:01,612] Trial 707 finished with value: 0.28947089826003547 and parameters: {'learning_rate': 0.051837721418455995, 'units1': 74, 'batch_size': 12, 'activation1': 'relu', 'optimizer': 'adam', 'rlrate': 0.3576435990256583}. Best is trial 453 with value: 0.27864771277354317.\n"
     ]
    },
    {
     "name": "stdout",
     "output_type": "stream",
     "text": [
      "1/1 [==============================] - 0s 55ms/step\n"
     ]
    },
    {
     "name": "stderr",
     "output_type": "stream",
     "text": [
      "[I 2024-05-04 01:55:02,672] Trial 708 finished with value: 1.099499609441734 and parameters: {'learning_rate': 0.052451147857426245, 'units1': 70, 'batch_size': 14, 'activation1': 'relu', 'optimizer': 'adam', 'rlrate': 0.3616364594258787}. Best is trial 453 with value: 0.27864771277354317.\n"
     ]
    },
    {
     "name": "stdout",
     "output_type": "stream",
     "text": [
      "1/1 [==============================] - 0s 58ms/step\n"
     ]
    },
    {
     "name": "stderr",
     "output_type": "stream",
     "text": [
      "[I 2024-05-04 01:55:03,781] Trial 709 finished with value: 0.486419107569213 and parameters: {'learning_rate': 0.04822957638999725, 'units1': 72, 'batch_size': 13, 'activation1': 'relu', 'optimizer': 'adam', 'rlrate': 0.27275589736468064}. Best is trial 453 with value: 0.27864771277354317.\n"
     ]
    },
    {
     "name": "stdout",
     "output_type": "stream",
     "text": [
      "1/1 [==============================] - 0s 57ms/step\n"
     ]
    },
    {
     "name": "stderr",
     "output_type": "stream",
     "text": [
      "[I 2024-05-04 01:55:04,823] Trial 710 finished with value: 2.119228924262135 and parameters: {'learning_rate': 0.04535387271418386, 'units1': 74, 'batch_size': 15, 'activation1': 'relu', 'optimizer': 'adam', 'rlrate': 0.3053473945642131}. Best is trial 453 with value: 0.27864771277354317.\n"
     ]
    },
    {
     "name": "stdout",
     "output_type": "stream",
     "text": [
      "1/1 [==============================] - 0s 56ms/step\n"
     ]
    },
    {
     "name": "stderr",
     "output_type": "stream",
     "text": [
      "[I 2024-05-04 01:55:05,909] Trial 711 finished with value: 0.5843959954187921 and parameters: {'learning_rate': 0.05202465780604611, 'units1': 68, 'batch_size': 12, 'activation1': 'relu', 'optimizer': 'adam', 'rlrate': 0.3543875048610914}. Best is trial 453 with value: 0.27864771277354317.\n"
     ]
    },
    {
     "name": "stdout",
     "output_type": "stream",
     "text": [
      "1/1 [==============================] - 0s 55ms/step\n"
     ]
    },
    {
     "name": "stderr",
     "output_type": "stream",
     "text": [
      "[I 2024-05-04 01:55:06,930] Trial 712 finished with value: 1.5904985598392634 and parameters: {'learning_rate': 0.04934049979876522, 'units1': 71, 'batch_size': 15, 'activation1': 'relu', 'optimizer': 'adam', 'rlrate': 0.29046788404972523}. Best is trial 453 with value: 0.27864771277354317.\n"
     ]
    },
    {
     "name": "stdout",
     "output_type": "stream",
     "text": [
      "1/1 [==============================] - 0s 54ms/step\n"
     ]
    },
    {
     "name": "stderr",
     "output_type": "stream",
     "text": [
      "[I 2024-05-04 01:55:08,631] Trial 713 finished with value: 0.8325010259059947 and parameters: {'learning_rate': 0.054169518557558444, 'units1': 76, 'batch_size': 13, 'activation1': 'relu', 'optimizer': 'adam', 'rlrate': 0.3438301864757927}. Best is trial 453 with value: 0.27864771277354317.\n"
     ]
    },
    {
     "name": "stdout",
     "output_type": "stream",
     "text": [
      "1/1 [==============================] - 0s 56ms/step\n"
     ]
    },
    {
     "name": "stderr",
     "output_type": "stream",
     "text": [
      "[I 2024-05-04 01:55:09,668] Trial 714 finished with value: 2.1100711046318494 and parameters: {'learning_rate': 0.051967970851603706, 'units1': 66, 'batch_size': 38, 'activation1': 'relu', 'optimizer': 'adam', 'rlrate': 0.2580807429985639}. Best is trial 453 with value: 0.27864771277354317.\n"
     ]
    },
    {
     "name": "stdout",
     "output_type": "stream",
     "text": [
      "1/1 [==============================] - 0s 58ms/step\n"
     ]
    },
    {
     "name": "stderr",
     "output_type": "stream",
     "text": [
      "[I 2024-05-04 01:55:10,691] Trial 715 finished with value: 0.3586656296271463 and parameters: {'learning_rate': 0.04503646641528572, 'units1': 73, 'batch_size': 12, 'activation1': 'relu', 'optimizer': 'adam', 'rlrate': 0.30761039888321434}. Best is trial 453 with value: 0.27864771277354317.\n"
     ]
    },
    {
     "name": "stdout",
     "output_type": "stream",
     "text": [
      "1/1 [==============================] - 0s 56ms/step\n"
     ]
    },
    {
     "name": "stderr",
     "output_type": "stream",
     "text": [
      "[I 2024-05-04 01:55:11,744] Trial 716 finished with value: 0.5035672444521833 and parameters: {'learning_rate': 0.04660452891691653, 'units1': 75, 'batch_size': 14, 'activation1': 'relu', 'optimizer': 'adam', 'rlrate': 0.28344097345362296}. Best is trial 453 with value: 0.27864771277354317.\n"
     ]
    },
    {
     "name": "stdout",
     "output_type": "stream",
     "text": [
      "1/1 [==============================] - 0s 58ms/step\n"
     ]
    },
    {
     "name": "stderr",
     "output_type": "stream",
     "text": [
      "[I 2024-05-04 01:55:12,827] Trial 717 finished with value: 0.35665194937813594 and parameters: {'learning_rate': 0.04351992276204164, 'units1': 73, 'batch_size': 11, 'activation1': 'relu', 'optimizer': 'adam', 'rlrate': 0.3019577971229917}. Best is trial 453 with value: 0.27864771277354317.\n"
     ]
    },
    {
     "name": "stdout",
     "output_type": "stream",
     "text": [
      "1/1 [==============================] - 0s 55ms/step\n"
     ]
    },
    {
     "name": "stderr",
     "output_type": "stream",
     "text": [
      "[I 2024-05-04 01:55:13,835] Trial 718 finished with value: 0.46265942377044283 and parameters: {'learning_rate': 0.04428015439906273, 'units1': 78, 'batch_size': 11, 'activation1': 'relu', 'optimizer': 'adam', 'rlrate': 0.27524584282383563}. Best is trial 453 with value: 0.27864771277354317.\n"
     ]
    },
    {
     "name": "stdout",
     "output_type": "stream",
     "text": [
      "1/1 [==============================] - 0s 55ms/step\n"
     ]
    },
    {
     "name": "stderr",
     "output_type": "stream",
     "text": [
      "[I 2024-05-04 01:55:14,856] Trial 719 finished with value: 3.0593870192083665 and parameters: {'learning_rate': 0.04580611266705384, 'units1': 74, 'batch_size': 11, 'activation1': 'selu', 'optimizer': 'adam', 'rlrate': 0.25106233917937926}. Best is trial 453 with value: 0.27864771277354317.\n"
     ]
    },
    {
     "name": "stdout",
     "output_type": "stream",
     "text": [
      "1/1 [==============================] - 0s 56ms/step\n"
     ]
    },
    {
     "name": "stderr",
     "output_type": "stream",
     "text": [
      "[I 2024-05-04 01:55:15,894] Trial 720 finished with value: 0.6536853285586118 and parameters: {'learning_rate': 0.04383681006269261, 'units1': 77, 'batch_size': 12, 'activation1': 'relu', 'optimizer': 'adam', 'rlrate': 0.29820427486903367}. Best is trial 453 with value: 0.27864771277354317.\n"
     ]
    },
    {
     "name": "stdout",
     "output_type": "stream",
     "text": [
      "1/1 [==============================] - 0s 55ms/step\n"
     ]
    },
    {
     "name": "stderr",
     "output_type": "stream",
     "text": [
      "[I 2024-05-04 01:55:16,993] Trial 721 finished with value: 0.3085983733790257 and parameters: {'learning_rate': 0.045098084759051145, 'units1': 73, 'batch_size': 11, 'activation1': 'relu', 'optimizer': 'adam', 'rlrate': 0.3704396544154764}. Best is trial 453 with value: 0.27864771277354317.\n"
     ]
    },
    {
     "name": "stdout",
     "output_type": "stream",
     "text": [
      "1/1 [==============================] - 0s 55ms/step\n"
     ]
    },
    {
     "name": "stderr",
     "output_type": "stream",
     "text": [
      "[I 2024-05-04 01:55:18,023] Trial 722 finished with value: 0.6514154206803566 and parameters: {'learning_rate': 0.04483794320658757, 'units1': 72, 'batch_size': 11, 'activation1': 'relu', 'optimizer': 'adam', 'rlrate': 0.36781862053749304}. Best is trial 453 with value: 0.27864771277354317.\n"
     ]
    },
    {
     "name": "stdout",
     "output_type": "stream",
     "text": [
      "1/1 [==============================] - 0s 58ms/step\n"
     ]
    },
    {
     "name": "stderr",
     "output_type": "stream",
     "text": [
      "[I 2024-05-04 01:55:19,112] Trial 723 finished with value: 0.35012820587369625 and parameters: {'learning_rate': 0.046541272662646925, 'units1': 74, 'batch_size': 11, 'activation1': 'relu', 'optimizer': 'adam', 'rlrate': 0.3852799768106909}. Best is trial 453 with value: 0.27864771277354317.\n"
     ]
    },
    {
     "name": "stdout",
     "output_type": "stream",
     "text": [
      "1/1 [==============================] - 0s 56ms/step\n"
     ]
    },
    {
     "name": "stderr",
     "output_type": "stream",
     "text": [
      "[I 2024-05-04 01:55:20,144] Trial 724 finished with value: 0.3261738903585766 and parameters: {'learning_rate': 0.0430744200015827, 'units1': 73, 'batch_size': 11, 'activation1': 'relu', 'optimizer': 'adam', 'rlrate': 0.37759039249634974}. Best is trial 453 with value: 0.27864771277354317.\n"
     ]
    },
    {
     "name": "stdout",
     "output_type": "stream",
     "text": [
      "1/1 [==============================] - 0s 56ms/step\n"
     ]
    },
    {
     "name": "stderr",
     "output_type": "stream",
     "text": [
      "[I 2024-05-04 01:55:21,162] Trial 725 finished with value: 1.2276101096060743 and parameters: {'learning_rate': 0.04292722519815634, 'units1': 68, 'batch_size': 11, 'activation1': 'tanh', 'optimizer': 'adam', 'rlrate': 0.39406992075799874}. Best is trial 453 with value: 0.27864771277354317.\n"
     ]
    },
    {
     "name": "stdout",
     "output_type": "stream",
     "text": [
      "1/1 [==============================] - 0s 55ms/step\n"
     ]
    },
    {
     "name": "stderr",
     "output_type": "stream",
     "text": [
      "[I 2024-05-04 01:55:22,888] Trial 726 finished with value: 0.606379999452644 and parameters: {'learning_rate': 0.0424393240166619, 'units1': 77, 'batch_size': 11, 'activation1': 'relu', 'optimizer': 'adam', 'rlrate': 0.36260815648622813}. Best is trial 453 with value: 0.27864771277354317.\n"
     ]
    },
    {
     "name": "stdout",
     "output_type": "stream",
     "text": [
      "1/1 [==============================] - 0s 55ms/step\n"
     ]
    },
    {
     "name": "stderr",
     "output_type": "stream",
     "text": [
      "[I 2024-05-04 01:55:23,898] Trial 727 finished with value: 0.6771060587306961 and parameters: {'learning_rate': 0.04564048032099699, 'units1': 72, 'batch_size': 11, 'activation1': 'relu', 'optimizer': 'adam', 'rlrate': 0.3890361901574653}. Best is trial 453 with value: 0.27864771277354317.\n"
     ]
    },
    {
     "name": "stdout",
     "output_type": "stream",
     "text": [
      "1/1 [==============================] - 0s 55ms/step\n"
     ]
    },
    {
     "name": "stderr",
     "output_type": "stream",
     "text": [
      "[I 2024-05-04 01:55:24,908] Trial 728 finished with value: 1.1696823600764321 and parameters: {'learning_rate': 0.04420462407734436, 'units1': 63, 'batch_size': 11, 'activation1': 'relu', 'optimizer': 'adam', 'rlrate': 0.35199723612544853}. Best is trial 453 with value: 0.27864771277354317.\n"
     ]
    },
    {
     "name": "stdout",
     "output_type": "stream",
     "text": [
      "1/1 [==============================] - 0s 56ms/step\n"
     ]
    },
    {
     "name": "stderr",
     "output_type": "stream",
     "text": [
      "[I 2024-05-04 01:55:25,946] Trial 729 finished with value: 0.39840256603775004 and parameters: {'learning_rate': 0.04616901060495803, 'units1': 73, 'batch_size': 12, 'activation1': 'relu', 'optimizer': 'adam', 'rlrate': 0.37928379815903723}. Best is trial 453 with value: 0.27864771277354317.\n"
     ]
    },
    {
     "name": "stdout",
     "output_type": "stream",
     "text": [
      "1/1 [==============================] - 0s 55ms/step\n"
     ]
    },
    {
     "name": "stderr",
     "output_type": "stream",
     "text": [
      "[I 2024-05-04 01:55:27,083] Trial 730 finished with value: 0.5417546408167513 and parameters: {'learning_rate': 0.04240781361173272, 'units1': 71, 'batch_size': 13, 'activation1': 'relu', 'optimizer': 'adam', 'rlrate': 0.37696946707399615}. Best is trial 453 with value: 0.27864771277354317.\n"
     ]
    },
    {
     "name": "stdout",
     "output_type": "stream",
     "text": [
      "1/1 [==============================] - 0s 55ms/step\n"
     ]
    },
    {
     "name": "stderr",
     "output_type": "stream",
     "text": [
      "[I 2024-05-04 01:55:28,103] Trial 731 finished with value: 1.132961603236041 and parameters: {'learning_rate': 0.04560221486493287, 'units1': 68, 'batch_size': 12, 'activation1': 'sigmoid', 'optimizer': 'adam', 'rlrate': 0.3886536445965414}. Best is trial 453 with value: 0.27864771277354317.\n"
     ]
    },
    {
     "name": "stdout",
     "output_type": "stream",
     "text": [
      "1/1 [==============================] - 0s 55ms/step\n"
     ]
    },
    {
     "name": "stderr",
     "output_type": "stream",
     "text": [
      "[I 2024-05-04 01:55:29,120] Trial 732 finished with value: 0.726985042859716 and parameters: {'learning_rate': 0.043415491308389405, 'units1': 77, 'batch_size': 12, 'activation1': 'relu', 'optimizer': 'adam', 'rlrate': 0.40667887154040117}. Best is trial 453 with value: 0.27864771277354317.\n"
     ]
    },
    {
     "name": "stdout",
     "output_type": "stream",
     "text": [
      "1/1 [==============================] - 0s 61ms/step\n"
     ]
    },
    {
     "name": "stderr",
     "output_type": "stream",
     "text": [
      "[I 2024-05-04 01:55:30,258] Trial 733 finished with value: 0.6529354107767353 and parameters: {'learning_rate': 0.047484276885964315, 'units1': 72, 'batch_size': 14, 'activation1': 'relu', 'optimizer': 'adam', 'rlrate': 0.3594986748294113}. Best is trial 453 with value: 0.27864771277354317.\n"
     ]
    },
    {
     "name": "stdout",
     "output_type": "stream",
     "text": [
      "1/1 [==============================] - 0s 54ms/step\n"
     ]
    },
    {
     "name": "stderr",
     "output_type": "stream",
     "text": [
      "[I 2024-05-04 01:55:31,266] Trial 734 finished with value: 0.6188012878818429 and parameters: {'learning_rate': 0.04670761422772708, 'units1': 75, 'batch_size': 11, 'activation1': 'relu', 'optimizer': 'adam', 'rlrate': 0.37615183700867477}. Best is trial 453 with value: 0.27864771277354317.\n"
     ]
    },
    {
     "name": "stdout",
     "output_type": "stream",
     "text": [
      "1/1 [==============================] - 0s 55ms/step\n"
     ]
    },
    {
     "name": "stderr",
     "output_type": "stream",
     "text": [
      "[I 2024-05-04 01:55:32,288] Trial 735 finished with value: 0.4559318377283962 and parameters: {'learning_rate': 0.04393519576033717, 'units1': 70, 'batch_size': 13, 'activation1': 'relu', 'optimizer': 'adam', 'rlrate': 0.34417361809793195}. Best is trial 453 with value: 0.27864771277354317.\n"
     ]
    },
    {
     "name": "stdout",
     "output_type": "stream",
     "text": [
      "1/1 [==============================] - 0s 56ms/step\n"
     ]
    },
    {
     "name": "stderr",
     "output_type": "stream",
     "text": [
      "[I 2024-05-04 01:55:33,373] Trial 736 finished with value: 0.7290113297184138 and parameters: {'learning_rate': 0.04222785303284517, 'units1': 66, 'batch_size': 12, 'activation1': 'relu', 'optimizer': 'adam', 'rlrate': 0.37536609005395244}. Best is trial 453 with value: 0.27864771277354317.\n"
     ]
    },
    {
     "name": "stdout",
     "output_type": "stream",
     "text": [
      "1/1 [==============================] - 0s 56ms/step\n"
     ]
    },
    {
     "name": "stderr",
     "output_type": "stream",
     "text": [
      "[I 2024-05-04 01:55:34,398] Trial 737 finished with value: 0.6039693816720374 and parameters: {'learning_rate': 0.046540639671711445, 'units1': 72, 'batch_size': 14, 'activation1': 'relu', 'optimizer': 'adam', 'rlrate': 0.4049186940162926}. Best is trial 453 with value: 0.27864771277354317.\n"
     ]
    },
    {
     "name": "stdout",
     "output_type": "stream",
     "text": [
      "1/1 [==============================] - 0s 54ms/step\n"
     ]
    },
    {
     "name": "stderr",
     "output_type": "stream",
     "text": [
      "[I 2024-05-04 01:55:36,096] Trial 738 finished with value: 0.7287659532954215 and parameters: {'learning_rate': 0.044984179933339, 'units1': 76, 'batch_size': 11, 'activation1': 'relu', 'optimizer': 'adam', 'rlrate': 0.33225463872801464}. Best is trial 453 with value: 0.27864771277354317.\n"
     ]
    },
    {
     "name": "stdout",
     "output_type": "stream",
     "text": [
      "1/1 [==============================] - 0s 54ms/step\n"
     ]
    },
    {
     "name": "stderr",
     "output_type": "stream",
     "text": [
      "[I 2024-05-04 01:55:37,111] Trial 739 finished with value: 0.27980272736882694 and parameters: {'learning_rate': 0.04817377817005616, 'units1': 73, 'batch_size': 11, 'activation1': 'relu', 'optimizer': 'adam', 'rlrate': 0.34472146996575104}. Best is trial 453 with value: 0.27864771277354317.\n"
     ]
    },
    {
     "name": "stdout",
     "output_type": "stream",
     "text": [
      "1/1 [==============================] - 0s 55ms/step\n"
     ]
    },
    {
     "name": "stderr",
     "output_type": "stream",
     "text": [
      "[I 2024-05-04 01:55:38,126] Trial 740 finished with value: 0.28144397448058506 and parameters: {'learning_rate': 0.04767484364133126, 'units1': 73, 'batch_size': 11, 'activation1': 'relu', 'optimizer': 'adam', 'rlrate': 0.34710485511425454}. Best is trial 453 with value: 0.27864771277354317.\n"
     ]
    },
    {
     "name": "stdout",
     "output_type": "stream",
     "text": [
      "1/1 [==============================] - 0s 60ms/step\n"
     ]
    },
    {
     "name": "stderr",
     "output_type": "stream",
     "text": [
      "[I 2024-05-04 01:55:39,215] Trial 741 finished with value: 1.8279639257818228 and parameters: {'learning_rate': 0.045999287550595985, 'units1': 69, 'batch_size': 45, 'activation1': 'relu', 'optimizer': 'adam', 'rlrate': 0.34441342044483475}. Best is trial 453 with value: 0.27864771277354317.\n"
     ]
    },
    {
     "name": "stdout",
     "output_type": "stream",
     "text": [
      "1/1 [==============================] - 0s 66ms/step\n"
     ]
    },
    {
     "name": "stderr",
     "output_type": "stream",
     "text": [
      "[I 2024-05-04 01:55:40,383] Trial 742 finished with value: 0.6924878993165121 and parameters: {'learning_rate': 0.0471783752214935, 'units1': 72, 'batch_size': 11, 'activation1': 'relu', 'optimizer': 'adam', 'rlrate': 0.3745247694605155}. Best is trial 453 with value: 0.27864771277354317.\n"
     ]
    },
    {
     "name": "stdout",
     "output_type": "stream",
     "text": [
      "1/1 [==============================] - 0s 117ms/step\n"
     ]
    },
    {
     "name": "stderr",
     "output_type": "stream",
     "text": [
      "[I 2024-05-04 01:55:41,589] Trial 743 finished with value: 0.6498970408102318 and parameters: {'learning_rate': 0.04391174226860653, 'units1': 74, 'batch_size': 10, 'activation1': 'relu', 'optimizer': 'adam', 'rlrate': 0.39490821045334706}. Best is trial 453 with value: 0.27864771277354317.\n"
     ]
    },
    {
     "name": "stdout",
     "output_type": "stream",
     "text": [
      "1/1 [==============================] - 0s 65ms/step\n"
     ]
    },
    {
     "name": "stderr",
     "output_type": "stream",
     "text": [
      "[I 2024-05-04 01:55:42,938] Trial 744 finished with value: 0.4836243463899078 and parameters: {'learning_rate': 0.04791711916376582, 'units1': 78, 'batch_size': 10, 'activation1': 'relu', 'optimizer': 'adam', 'rlrate': 0.3595196953663661}. Best is trial 453 with value: 0.27864771277354317.\n"
     ]
    },
    {
     "name": "stdout",
     "output_type": "stream",
     "text": [
      "1/1 [==============================] - 0s 59ms/step\n"
     ]
    },
    {
     "name": "stderr",
     "output_type": "stream",
     "text": [
      "[I 2024-05-04 01:55:44,212] Trial 745 finished with value: 5.18550573971093 and parameters: {'learning_rate': 0.047799094456541354, 'units1': 69, 'batch_size': 11, 'activation1': 'selu', 'optimizer': 'adam', 'rlrate': 0.3242383865240501}. Best is trial 453 with value: 0.27864771277354317.\n",
      "[W 2024-05-04 01:55:44,667] Trial 746 failed with parameters: {'learning_rate': 0.04827188644309165, 'units1': 73, 'batch_size': 10, 'activation1': 'relu', 'optimizer': 'adam', 'rlrate': 0.34466940172349675} because of the following error: KeyboardInterrupt().\n",
      "Traceback (most recent call last):\n",
      "  File \"c:\\Users\\Bora\\AppData\\Local\\Programs\\Python\\Python310\\lib\\site-packages\\optuna\\study\\_optimize.py\", line 200, in _run_trial\n",
      "    value_or_values = func(trial)\n",
      "  File \"C:\\Users\\Bora\\AppData\\Local\\Temp\\ipykernel_6956\\3226462067.py\", line 38, in objective\n",
      "    model.fit(X_train, y_train, epochs=1000, batch_size=batch_size,callbacks=[early_stopping],verbose=0,validation_data=(X_val,y_val))\n",
      "  File \"c:\\Users\\Bora\\AppData\\Local\\Programs\\Python\\Python310\\lib\\site-packages\\keras\\utils\\traceback_utils.py\", line 65, in error_handler\n",
      "    return fn(*args, **kwargs)\n",
      "  File \"c:\\Users\\Bora\\AppData\\Local\\Programs\\Python\\Python310\\lib\\site-packages\\keras\\engine\\training.py\", line 1564, in fit\n",
      "    tmp_logs = self.train_function(iterator)\n",
      "  File \"c:\\Users\\Bora\\AppData\\Local\\Programs\\Python\\Python310\\lib\\site-packages\\tensorflow\\python\\util\\traceback_utils.py\", line 150, in error_handler\n",
      "    return fn(*args, **kwargs)\n",
      "  File \"c:\\Users\\Bora\\AppData\\Local\\Programs\\Python\\Python310\\lib\\site-packages\\tensorflow\\python\\eager\\def_function.py\", line 915, in __call__\n",
      "    result = self._call(*args, **kwds)\n",
      "  File \"c:\\Users\\Bora\\AppData\\Local\\Programs\\Python\\Python310\\lib\\site-packages\\tensorflow\\python\\eager\\def_function.py\", line 963, in _call\n",
      "    self._initialize(args, kwds, add_initializers_to=initializers)\n",
      "  File \"c:\\Users\\Bora\\AppData\\Local\\Programs\\Python\\Python310\\lib\\site-packages\\tensorflow\\python\\eager\\def_function.py\", line 785, in _initialize\n",
      "    self._stateful_fn._get_concrete_function_internal_garbage_collected(  # pylint: disable=protected-access\n",
      "  File \"c:\\Users\\Bora\\AppData\\Local\\Programs\\Python\\Python310\\lib\\site-packages\\tensorflow\\python\\eager\\function.py\", line 2523, in _get_concrete_function_internal_garbage_collected\n",
      "    graph_function, _ = self._maybe_define_function(args, kwargs)\n",
      "  File \"c:\\Users\\Bora\\AppData\\Local\\Programs\\Python\\Python310\\lib\\site-packages\\tensorflow\\python\\eager\\function.py\", line 2760, in _maybe_define_function\n",
      "    graph_function = self._create_graph_function(args, kwargs)\n",
      "  File \"c:\\Users\\Bora\\AppData\\Local\\Programs\\Python\\Python310\\lib\\site-packages\\tensorflow\\python\\eager\\function.py\", line 2670, in _create_graph_function\n",
      "    func_graph_module.func_graph_from_py_func(\n",
      "  File \"c:\\Users\\Bora\\AppData\\Local\\Programs\\Python\\Python310\\lib\\site-packages\\tensorflow\\python\\framework\\func_graph.py\", line 1153, in func_graph_from_py_func\n",
      "    with func_graph.as_default(), deps_control_manager as deps_ctx:\n",
      "  File \"c:\\Users\\Bora\\AppData\\Local\\Programs\\Python\\Python310\\lib\\site-packages\\tensorflow\\python\\framework\\auto_control_deps.py\", line 433, in __exit__\n",
      "    (op_is_stateful(op) and\n",
      "  File \"c:\\Users\\Bora\\AppData\\Local\\Programs\\Python\\Python310\\lib\\site-packages\\tensorflow\\python\\framework\\auto_control_deps.py\", line 149, in op_is_stateful\n",
      "    (op.type in _ALLOWLIST_STATELESS_OPS))\n",
      "  File \"c:\\Users\\Bora\\AppData\\Local\\Programs\\Python\\Python310\\lib\\site-packages\\tensorflow\\python\\framework\\ops.py\", line 2583, in type\n",
      "    return pywrap_tf_session.TF_OperationOpType(self._c_op)\n",
      "KeyboardInterrupt\n",
      "[W 2024-05-04 01:55:44,669] Trial 746 failed with value None.\n"
     ]
    },
    {
     "ename": "KeyboardInterrupt",
     "evalue": "",
     "output_type": "error",
     "traceback": [
      "\u001b[1;31m---------------------------------------------------------------------------\u001b[0m",
      "\u001b[1;31mKeyboardInterrupt\u001b[0m                         Traceback (most recent call last)",
      "Cell \u001b[1;32mIn[228], line 2\u001b[0m\n\u001b[0;32m      1\u001b[0m study \u001b[38;5;241m=\u001b[39m optuna\u001b[38;5;241m.\u001b[39mcreate_study(direction\u001b[38;5;241m=\u001b[39m\u001b[38;5;124m'\u001b[39m\u001b[38;5;124mminimize\u001b[39m\u001b[38;5;124m'\u001b[39m)  \u001b[38;5;66;03m# or 'minimize' depending on your objective\u001b[39;00m\n\u001b[1;32m----> 2\u001b[0m \u001b[43mstudy\u001b[49m\u001b[38;5;241;43m.\u001b[39;49m\u001b[43moptimize\u001b[49m\u001b[43m(\u001b[49m\u001b[43mobjective\u001b[49m\u001b[43m,\u001b[49m\u001b[43m \u001b[49m\u001b[43mn_trials\u001b[49m\u001b[38;5;241;43m=\u001b[39;49m\u001b[38;5;241;43m2000\u001b[39;49m\u001b[43m)\u001b[49m  \u001b[38;5;66;03m# You can adjust the number of trials\u001b[39;00m\n\u001b[0;32m      4\u001b[0m \u001b[38;5;66;03m# Print the best hyperparameters\u001b[39;00m\n\u001b[0;32m      5\u001b[0m \u001b[38;5;28mprint\u001b[39m(\u001b[38;5;124m'\u001b[39m\u001b[38;5;124mBest hyperparameters:\u001b[39m\u001b[38;5;124m'\u001b[39m, study\u001b[38;5;241m.\u001b[39mbest_params)\n",
      "File \u001b[1;32mc:\\Users\\Bora\\AppData\\Local\\Programs\\Python\\Python310\\lib\\site-packages\\optuna\\study\\study.py:451\u001b[0m, in \u001b[0;36mStudy.optimize\u001b[1;34m(self, func, n_trials, timeout, n_jobs, catch, callbacks, gc_after_trial, show_progress_bar)\u001b[0m\n\u001b[0;32m    348\u001b[0m \u001b[38;5;28;01mdef\u001b[39;00m \u001b[38;5;21moptimize\u001b[39m(\n\u001b[0;32m    349\u001b[0m     \u001b[38;5;28mself\u001b[39m,\n\u001b[0;32m    350\u001b[0m     func: ObjectiveFuncType,\n\u001b[1;32m   (...)\u001b[0m\n\u001b[0;32m    357\u001b[0m     show_progress_bar: \u001b[38;5;28mbool\u001b[39m \u001b[38;5;241m=\u001b[39m \u001b[38;5;28;01mFalse\u001b[39;00m,\n\u001b[0;32m    358\u001b[0m ) \u001b[38;5;241m-\u001b[39m\u001b[38;5;241m>\u001b[39m \u001b[38;5;28;01mNone\u001b[39;00m:\n\u001b[0;32m    359\u001b[0m \u001b[38;5;250m    \u001b[39m\u001b[38;5;124;03m\"\"\"Optimize an objective function.\u001b[39;00m\n\u001b[0;32m    360\u001b[0m \n\u001b[0;32m    361\u001b[0m \u001b[38;5;124;03m    Optimization is done by choosing a suitable set of hyperparameter values from a given\u001b[39;00m\n\u001b[1;32m   (...)\u001b[0m\n\u001b[0;32m    449\u001b[0m \u001b[38;5;124;03m            If nested invocation of this method occurs.\u001b[39;00m\n\u001b[0;32m    450\u001b[0m \u001b[38;5;124;03m    \"\"\"\u001b[39;00m\n\u001b[1;32m--> 451\u001b[0m     \u001b[43m_optimize\u001b[49m\u001b[43m(\u001b[49m\n\u001b[0;32m    452\u001b[0m \u001b[43m        \u001b[49m\u001b[43mstudy\u001b[49m\u001b[38;5;241;43m=\u001b[39;49m\u001b[38;5;28;43mself\u001b[39;49m\u001b[43m,\u001b[49m\n\u001b[0;32m    453\u001b[0m \u001b[43m        \u001b[49m\u001b[43mfunc\u001b[49m\u001b[38;5;241;43m=\u001b[39;49m\u001b[43mfunc\u001b[49m\u001b[43m,\u001b[49m\n\u001b[0;32m    454\u001b[0m \u001b[43m        \u001b[49m\u001b[43mn_trials\u001b[49m\u001b[38;5;241;43m=\u001b[39;49m\u001b[43mn_trials\u001b[49m\u001b[43m,\u001b[49m\n\u001b[0;32m    455\u001b[0m \u001b[43m        \u001b[49m\u001b[43mtimeout\u001b[49m\u001b[38;5;241;43m=\u001b[39;49m\u001b[43mtimeout\u001b[49m\u001b[43m,\u001b[49m\n\u001b[0;32m    456\u001b[0m \u001b[43m        \u001b[49m\u001b[43mn_jobs\u001b[49m\u001b[38;5;241;43m=\u001b[39;49m\u001b[43mn_jobs\u001b[49m\u001b[43m,\u001b[49m\n\u001b[0;32m    457\u001b[0m \u001b[43m        \u001b[49m\u001b[43mcatch\u001b[49m\u001b[38;5;241;43m=\u001b[39;49m\u001b[38;5;28;43mtuple\u001b[39;49m\u001b[43m(\u001b[49m\u001b[43mcatch\u001b[49m\u001b[43m)\u001b[49m\u001b[43m \u001b[49m\u001b[38;5;28;43;01mif\u001b[39;49;00m\u001b[43m \u001b[49m\u001b[38;5;28;43misinstance\u001b[39;49m\u001b[43m(\u001b[49m\u001b[43mcatch\u001b[49m\u001b[43m,\u001b[49m\u001b[43m \u001b[49m\u001b[43mIterable\u001b[49m\u001b[43m)\u001b[49m\u001b[43m \u001b[49m\u001b[38;5;28;43;01melse\u001b[39;49;00m\u001b[43m \u001b[49m\u001b[43m(\u001b[49m\u001b[43mcatch\u001b[49m\u001b[43m,\u001b[49m\u001b[43m)\u001b[49m\u001b[43m,\u001b[49m\n\u001b[0;32m    458\u001b[0m \u001b[43m        \u001b[49m\u001b[43mcallbacks\u001b[49m\u001b[38;5;241;43m=\u001b[39;49m\u001b[43mcallbacks\u001b[49m\u001b[43m,\u001b[49m\n\u001b[0;32m    459\u001b[0m \u001b[43m        \u001b[49m\u001b[43mgc_after_trial\u001b[49m\u001b[38;5;241;43m=\u001b[39;49m\u001b[43mgc_after_trial\u001b[49m\u001b[43m,\u001b[49m\n\u001b[0;32m    460\u001b[0m \u001b[43m        \u001b[49m\u001b[43mshow_progress_bar\u001b[49m\u001b[38;5;241;43m=\u001b[39;49m\u001b[43mshow_progress_bar\u001b[49m\u001b[43m,\u001b[49m\n\u001b[0;32m    461\u001b[0m \u001b[43m    \u001b[49m\u001b[43m)\u001b[49m\n",
      "File \u001b[1;32mc:\\Users\\Bora\\AppData\\Local\\Programs\\Python\\Python310\\lib\\site-packages\\optuna\\study\\_optimize.py:66\u001b[0m, in \u001b[0;36m_optimize\u001b[1;34m(study, func, n_trials, timeout, n_jobs, catch, callbacks, gc_after_trial, show_progress_bar)\u001b[0m\n\u001b[0;32m     64\u001b[0m \u001b[38;5;28;01mtry\u001b[39;00m:\n\u001b[0;32m     65\u001b[0m     \u001b[38;5;28;01mif\u001b[39;00m n_jobs \u001b[38;5;241m==\u001b[39m \u001b[38;5;241m1\u001b[39m:\n\u001b[1;32m---> 66\u001b[0m         \u001b[43m_optimize_sequential\u001b[49m\u001b[43m(\u001b[49m\n\u001b[0;32m     67\u001b[0m \u001b[43m            \u001b[49m\u001b[43mstudy\u001b[49m\u001b[43m,\u001b[49m\n\u001b[0;32m     68\u001b[0m \u001b[43m            \u001b[49m\u001b[43mfunc\u001b[49m\u001b[43m,\u001b[49m\n\u001b[0;32m     69\u001b[0m \u001b[43m            \u001b[49m\u001b[43mn_trials\u001b[49m\u001b[43m,\u001b[49m\n\u001b[0;32m     70\u001b[0m \u001b[43m            \u001b[49m\u001b[43mtimeout\u001b[49m\u001b[43m,\u001b[49m\n\u001b[0;32m     71\u001b[0m \u001b[43m            \u001b[49m\u001b[43mcatch\u001b[49m\u001b[43m,\u001b[49m\n\u001b[0;32m     72\u001b[0m \u001b[43m            \u001b[49m\u001b[43mcallbacks\u001b[49m\u001b[43m,\u001b[49m\n\u001b[0;32m     73\u001b[0m \u001b[43m            \u001b[49m\u001b[43mgc_after_trial\u001b[49m\u001b[43m,\u001b[49m\n\u001b[0;32m     74\u001b[0m \u001b[43m            \u001b[49m\u001b[43mreseed_sampler_rng\u001b[49m\u001b[38;5;241;43m=\u001b[39;49m\u001b[38;5;28;43;01mFalse\u001b[39;49;00m\u001b[43m,\u001b[49m\n\u001b[0;32m     75\u001b[0m \u001b[43m            \u001b[49m\u001b[43mtime_start\u001b[49m\u001b[38;5;241;43m=\u001b[39;49m\u001b[38;5;28;43;01mNone\u001b[39;49;00m\u001b[43m,\u001b[49m\n\u001b[0;32m     76\u001b[0m \u001b[43m            \u001b[49m\u001b[43mprogress_bar\u001b[49m\u001b[38;5;241;43m=\u001b[39;49m\u001b[43mprogress_bar\u001b[49m\u001b[43m,\u001b[49m\n\u001b[0;32m     77\u001b[0m \u001b[43m        \u001b[49m\u001b[43m)\u001b[49m\n\u001b[0;32m     78\u001b[0m     \u001b[38;5;28;01melse\u001b[39;00m:\n\u001b[0;32m     79\u001b[0m         \u001b[38;5;28;01mif\u001b[39;00m n_jobs \u001b[38;5;241m==\u001b[39m \u001b[38;5;241m-\u001b[39m\u001b[38;5;241m1\u001b[39m:\n",
      "File \u001b[1;32mc:\\Users\\Bora\\AppData\\Local\\Programs\\Python\\Python310\\lib\\site-packages\\optuna\\study\\_optimize.py:163\u001b[0m, in \u001b[0;36m_optimize_sequential\u001b[1;34m(study, func, n_trials, timeout, catch, callbacks, gc_after_trial, reseed_sampler_rng, time_start, progress_bar)\u001b[0m\n\u001b[0;32m    160\u001b[0m         \u001b[38;5;28;01mbreak\u001b[39;00m\n\u001b[0;32m    162\u001b[0m \u001b[38;5;28;01mtry\u001b[39;00m:\n\u001b[1;32m--> 163\u001b[0m     frozen_trial \u001b[38;5;241m=\u001b[39m \u001b[43m_run_trial\u001b[49m\u001b[43m(\u001b[49m\u001b[43mstudy\u001b[49m\u001b[43m,\u001b[49m\u001b[43m \u001b[49m\u001b[43mfunc\u001b[49m\u001b[43m,\u001b[49m\u001b[43m \u001b[49m\u001b[43mcatch\u001b[49m\u001b[43m)\u001b[49m\n\u001b[0;32m    164\u001b[0m \u001b[38;5;28;01mfinally\u001b[39;00m:\n\u001b[0;32m    165\u001b[0m     \u001b[38;5;66;03m# The following line mitigates memory problems that can be occurred in some\u001b[39;00m\n\u001b[0;32m    166\u001b[0m     \u001b[38;5;66;03m# environments (e.g., services that use computing containers such as GitHub Actions).\u001b[39;00m\n\u001b[0;32m    167\u001b[0m     \u001b[38;5;66;03m# Please refer to the following PR for further details:\u001b[39;00m\n\u001b[0;32m    168\u001b[0m     \u001b[38;5;66;03m# https://github.com/optuna/optuna/pull/325.\u001b[39;00m\n\u001b[0;32m    169\u001b[0m     \u001b[38;5;28;01mif\u001b[39;00m gc_after_trial:\n",
      "File \u001b[1;32mc:\\Users\\Bora\\AppData\\Local\\Programs\\Python\\Python310\\lib\\site-packages\\optuna\\study\\_optimize.py:251\u001b[0m, in \u001b[0;36m_run_trial\u001b[1;34m(study, func, catch)\u001b[0m\n\u001b[0;32m    244\u001b[0m         \u001b[38;5;28;01massert\u001b[39;00m \u001b[38;5;28;01mFalse\u001b[39;00m, \u001b[38;5;124m\"\u001b[39m\u001b[38;5;124mShould not reach.\u001b[39m\u001b[38;5;124m\"\u001b[39m\n\u001b[0;32m    246\u001b[0m \u001b[38;5;28;01mif\u001b[39;00m (\n\u001b[0;32m    247\u001b[0m     frozen_trial\u001b[38;5;241m.\u001b[39mstate \u001b[38;5;241m==\u001b[39m TrialState\u001b[38;5;241m.\u001b[39mFAIL\n\u001b[0;32m    248\u001b[0m     \u001b[38;5;129;01mand\u001b[39;00m func_err \u001b[38;5;129;01mis\u001b[39;00m \u001b[38;5;129;01mnot\u001b[39;00m \u001b[38;5;28;01mNone\u001b[39;00m\n\u001b[0;32m    249\u001b[0m     \u001b[38;5;129;01mand\u001b[39;00m \u001b[38;5;129;01mnot\u001b[39;00m \u001b[38;5;28misinstance\u001b[39m(func_err, catch)\n\u001b[0;32m    250\u001b[0m ):\n\u001b[1;32m--> 251\u001b[0m     \u001b[38;5;28;01mraise\u001b[39;00m func_err\n\u001b[0;32m    252\u001b[0m \u001b[38;5;28;01mreturn\u001b[39;00m frozen_trial\n",
      "File \u001b[1;32mc:\\Users\\Bora\\AppData\\Local\\Programs\\Python\\Python310\\lib\\site-packages\\optuna\\study\\_optimize.py:200\u001b[0m, in \u001b[0;36m_run_trial\u001b[1;34m(study, func, catch)\u001b[0m\n\u001b[0;32m    198\u001b[0m \u001b[38;5;28;01mwith\u001b[39;00m get_heartbeat_thread(trial\u001b[38;5;241m.\u001b[39m_trial_id, study\u001b[38;5;241m.\u001b[39m_storage):\n\u001b[0;32m    199\u001b[0m     \u001b[38;5;28;01mtry\u001b[39;00m:\n\u001b[1;32m--> 200\u001b[0m         value_or_values \u001b[38;5;241m=\u001b[39m \u001b[43mfunc\u001b[49m\u001b[43m(\u001b[49m\u001b[43mtrial\u001b[49m\u001b[43m)\u001b[49m\n\u001b[0;32m    201\u001b[0m     \u001b[38;5;28;01mexcept\u001b[39;00m exceptions\u001b[38;5;241m.\u001b[39mTrialPruned \u001b[38;5;28;01mas\u001b[39;00m e:\n\u001b[0;32m    202\u001b[0m         \u001b[38;5;66;03m# TODO(mamu): Handle multi-objective cases.\u001b[39;00m\n\u001b[0;32m    203\u001b[0m         state \u001b[38;5;241m=\u001b[39m TrialState\u001b[38;5;241m.\u001b[39mPRUNED\n",
      "Cell \u001b[1;32mIn[227], line 38\u001b[0m, in \u001b[0;36mobjective\u001b[1;34m(trial)\u001b[0m\n\u001b[0;32m     35\u001b[0m model\u001b[38;5;241m.\u001b[39mcompile(optimizer\u001b[38;5;241m=\u001b[39moptimizer, loss\u001b[38;5;241m=\u001b[39m\u001b[38;5;124m'\u001b[39m\u001b[38;5;124mmse\u001b[39m\u001b[38;5;124m'\u001b[39m, metrics\u001b[38;5;241m=\u001b[39m[\u001b[38;5;124m'\u001b[39m\u001b[38;5;124mmean_squared_error\u001b[39m\u001b[38;5;124m'\u001b[39m])\n\u001b[0;32m     37\u001b[0m \u001b[38;5;66;03m# Train model\u001b[39;00m\n\u001b[1;32m---> 38\u001b[0m \u001b[43mmodel\u001b[49m\u001b[38;5;241;43m.\u001b[39;49m\u001b[43mfit\u001b[49m\u001b[43m(\u001b[49m\u001b[43mX_train\u001b[49m\u001b[43m,\u001b[49m\u001b[43m \u001b[49m\u001b[43my_train\u001b[49m\u001b[43m,\u001b[49m\u001b[43m \u001b[49m\u001b[43mepochs\u001b[49m\u001b[38;5;241;43m=\u001b[39;49m\u001b[38;5;241;43m1000\u001b[39;49m\u001b[43m,\u001b[49m\u001b[43m \u001b[49m\u001b[43mbatch_size\u001b[49m\u001b[38;5;241;43m=\u001b[39;49m\u001b[43mbatch_size\u001b[49m\u001b[43m,\u001b[49m\u001b[43mcallbacks\u001b[49m\u001b[38;5;241;43m=\u001b[39;49m\u001b[43m[\u001b[49m\u001b[43mearly_stopping\u001b[49m\u001b[43m]\u001b[49m\u001b[43m,\u001b[49m\u001b[43mverbose\u001b[49m\u001b[38;5;241;43m=\u001b[39;49m\u001b[38;5;241;43m0\u001b[39;49m\u001b[43m,\u001b[49m\u001b[43mvalidation_data\u001b[49m\u001b[38;5;241;43m=\u001b[39;49m\u001b[43m(\u001b[49m\u001b[43mX_val\u001b[49m\u001b[43m,\u001b[49m\u001b[43my_val\u001b[49m\u001b[43m)\u001b[49m\u001b[43m)\u001b[49m\n\u001b[0;32m     40\u001b[0m \u001b[38;5;66;03m# Evaluate model\u001b[39;00m\n\u001b[0;32m     41\u001b[0m y_pred \u001b[38;5;241m=\u001b[39m model\u001b[38;5;241m.\u001b[39mpredict(X_test)\n",
      "File \u001b[1;32mc:\\Users\\Bora\\AppData\\Local\\Programs\\Python\\Python310\\lib\\site-packages\\keras\\utils\\traceback_utils.py:65\u001b[0m, in \u001b[0;36mfilter_traceback.<locals>.error_handler\u001b[1;34m(*args, **kwargs)\u001b[0m\n\u001b[0;32m     63\u001b[0m filtered_tb \u001b[38;5;241m=\u001b[39m \u001b[38;5;28;01mNone\u001b[39;00m\n\u001b[0;32m     64\u001b[0m \u001b[38;5;28;01mtry\u001b[39;00m:\n\u001b[1;32m---> 65\u001b[0m     \u001b[38;5;28;01mreturn\u001b[39;00m fn(\u001b[38;5;241m*\u001b[39margs, \u001b[38;5;241m*\u001b[39m\u001b[38;5;241m*\u001b[39mkwargs)\n\u001b[0;32m     66\u001b[0m \u001b[38;5;28;01mexcept\u001b[39;00m \u001b[38;5;167;01mException\u001b[39;00m \u001b[38;5;28;01mas\u001b[39;00m e:\n\u001b[0;32m     67\u001b[0m     filtered_tb \u001b[38;5;241m=\u001b[39m _process_traceback_frames(e\u001b[38;5;241m.\u001b[39m__traceback__)\n",
      "File \u001b[1;32mc:\\Users\\Bora\\AppData\\Local\\Programs\\Python\\Python310\\lib\\site-packages\\keras\\engine\\training.py:1564\u001b[0m, in \u001b[0;36mModel.fit\u001b[1;34m(self, x, y, batch_size, epochs, verbose, callbacks, validation_split, validation_data, shuffle, class_weight, sample_weight, initial_epoch, steps_per_epoch, validation_steps, validation_batch_size, validation_freq, max_queue_size, workers, use_multiprocessing)\u001b[0m\n\u001b[0;32m   1556\u001b[0m \u001b[38;5;28;01mwith\u001b[39;00m tf\u001b[38;5;241m.\u001b[39mprofiler\u001b[38;5;241m.\u001b[39mexperimental\u001b[38;5;241m.\u001b[39mTrace(\n\u001b[0;32m   1557\u001b[0m     \u001b[38;5;124m\"\u001b[39m\u001b[38;5;124mtrain\u001b[39m\u001b[38;5;124m\"\u001b[39m,\n\u001b[0;32m   1558\u001b[0m     epoch_num\u001b[38;5;241m=\u001b[39mepoch,\n\u001b[1;32m   (...)\u001b[0m\n\u001b[0;32m   1561\u001b[0m     _r\u001b[38;5;241m=\u001b[39m\u001b[38;5;241m1\u001b[39m,\n\u001b[0;32m   1562\u001b[0m ):\n\u001b[0;32m   1563\u001b[0m     callbacks\u001b[38;5;241m.\u001b[39mon_train_batch_begin(step)\n\u001b[1;32m-> 1564\u001b[0m     tmp_logs \u001b[38;5;241m=\u001b[39m \u001b[38;5;28;43mself\u001b[39;49m\u001b[38;5;241;43m.\u001b[39;49m\u001b[43mtrain_function\u001b[49m\u001b[43m(\u001b[49m\u001b[43miterator\u001b[49m\u001b[43m)\u001b[49m\n\u001b[0;32m   1565\u001b[0m     \u001b[38;5;28;01mif\u001b[39;00m data_handler\u001b[38;5;241m.\u001b[39mshould_sync:\n\u001b[0;32m   1566\u001b[0m         context\u001b[38;5;241m.\u001b[39masync_wait()\n",
      "File \u001b[1;32mc:\\Users\\Bora\\AppData\\Local\\Programs\\Python\\Python310\\lib\\site-packages\\tensorflow\\python\\util\\traceback_utils.py:150\u001b[0m, in \u001b[0;36mfilter_traceback.<locals>.error_handler\u001b[1;34m(*args, **kwargs)\u001b[0m\n\u001b[0;32m    148\u001b[0m filtered_tb \u001b[38;5;241m=\u001b[39m \u001b[38;5;28;01mNone\u001b[39;00m\n\u001b[0;32m    149\u001b[0m \u001b[38;5;28;01mtry\u001b[39;00m:\n\u001b[1;32m--> 150\u001b[0m   \u001b[38;5;28;01mreturn\u001b[39;00m fn(\u001b[38;5;241m*\u001b[39margs, \u001b[38;5;241m*\u001b[39m\u001b[38;5;241m*\u001b[39mkwargs)\n\u001b[0;32m    151\u001b[0m \u001b[38;5;28;01mexcept\u001b[39;00m \u001b[38;5;167;01mException\u001b[39;00m \u001b[38;5;28;01mas\u001b[39;00m e:\n\u001b[0;32m    152\u001b[0m   filtered_tb \u001b[38;5;241m=\u001b[39m _process_traceback_frames(e\u001b[38;5;241m.\u001b[39m__traceback__)\n",
      "File \u001b[1;32mc:\\Users\\Bora\\AppData\\Local\\Programs\\Python\\Python310\\lib\\site-packages\\tensorflow\\python\\eager\\def_function.py:915\u001b[0m, in \u001b[0;36mFunction.__call__\u001b[1;34m(self, *args, **kwds)\u001b[0m\n\u001b[0;32m    912\u001b[0m compiler \u001b[38;5;241m=\u001b[39m \u001b[38;5;124m\"\u001b[39m\u001b[38;5;124mxla\u001b[39m\u001b[38;5;124m\"\u001b[39m \u001b[38;5;28;01mif\u001b[39;00m \u001b[38;5;28mself\u001b[39m\u001b[38;5;241m.\u001b[39m_jit_compile \u001b[38;5;28;01melse\u001b[39;00m \u001b[38;5;124m\"\u001b[39m\u001b[38;5;124mnonXla\u001b[39m\u001b[38;5;124m\"\u001b[39m\n\u001b[0;32m    914\u001b[0m \u001b[38;5;28;01mwith\u001b[39;00m OptionalXlaContext(\u001b[38;5;28mself\u001b[39m\u001b[38;5;241m.\u001b[39m_jit_compile):\n\u001b[1;32m--> 915\u001b[0m   result \u001b[38;5;241m=\u001b[39m \u001b[38;5;28mself\u001b[39m\u001b[38;5;241m.\u001b[39m_call(\u001b[38;5;241m*\u001b[39margs, \u001b[38;5;241m*\u001b[39m\u001b[38;5;241m*\u001b[39mkwds)\n\u001b[0;32m    917\u001b[0m new_tracing_count \u001b[38;5;241m=\u001b[39m \u001b[38;5;28mself\u001b[39m\u001b[38;5;241m.\u001b[39mexperimental_get_tracing_count()\n\u001b[0;32m    918\u001b[0m without_tracing \u001b[38;5;241m=\u001b[39m (tracing_count \u001b[38;5;241m==\u001b[39m new_tracing_count)\n",
      "File \u001b[1;32mc:\\Users\\Bora\\AppData\\Local\\Programs\\Python\\Python310\\lib\\site-packages\\tensorflow\\python\\eager\\def_function.py:963\u001b[0m, in \u001b[0;36mFunction._call\u001b[1;34m(self, *args, **kwds)\u001b[0m\n\u001b[0;32m    960\u001b[0m \u001b[38;5;28;01mtry\u001b[39;00m:\n\u001b[0;32m    961\u001b[0m   \u001b[38;5;66;03m# This is the first call of __call__, so we have to initialize.\u001b[39;00m\n\u001b[0;32m    962\u001b[0m   initializers \u001b[38;5;241m=\u001b[39m []\n\u001b[1;32m--> 963\u001b[0m   \u001b[38;5;28;43mself\u001b[39;49m\u001b[38;5;241;43m.\u001b[39;49m\u001b[43m_initialize\u001b[49m\u001b[43m(\u001b[49m\u001b[43margs\u001b[49m\u001b[43m,\u001b[49m\u001b[43m \u001b[49m\u001b[43mkwds\u001b[49m\u001b[43m,\u001b[49m\u001b[43m \u001b[49m\u001b[43madd_initializers_to\u001b[49m\u001b[38;5;241;43m=\u001b[39;49m\u001b[43minitializers\u001b[49m\u001b[43m)\u001b[49m\n\u001b[0;32m    964\u001b[0m \u001b[38;5;28;01mfinally\u001b[39;00m:\n\u001b[0;32m    965\u001b[0m   \u001b[38;5;66;03m# At this point we know that the initialization is complete (or less\u001b[39;00m\n\u001b[0;32m    966\u001b[0m   \u001b[38;5;66;03m# interestingly an exception was raised) so we no longer need a lock.\u001b[39;00m\n\u001b[0;32m    967\u001b[0m   \u001b[38;5;28mself\u001b[39m\u001b[38;5;241m.\u001b[39m_lock\u001b[38;5;241m.\u001b[39mrelease()\n",
      "File \u001b[1;32mc:\\Users\\Bora\\AppData\\Local\\Programs\\Python\\Python310\\lib\\site-packages\\tensorflow\\python\\eager\\def_function.py:785\u001b[0m, in \u001b[0;36mFunction._initialize\u001b[1;34m(self, args, kwds, add_initializers_to)\u001b[0m\n\u001b[0;32m    782\u001b[0m \u001b[38;5;28mself\u001b[39m\u001b[38;5;241m.\u001b[39m_lifted_initializer_graph \u001b[38;5;241m=\u001b[39m lifted_initializer_graph\n\u001b[0;32m    783\u001b[0m \u001b[38;5;28mself\u001b[39m\u001b[38;5;241m.\u001b[39m_graph_deleter \u001b[38;5;241m=\u001b[39m FunctionDeleter(\u001b[38;5;28mself\u001b[39m\u001b[38;5;241m.\u001b[39m_lifted_initializer_graph)\n\u001b[0;32m    784\u001b[0m \u001b[38;5;28mself\u001b[39m\u001b[38;5;241m.\u001b[39m_concrete_stateful_fn \u001b[38;5;241m=\u001b[39m (\n\u001b[1;32m--> 785\u001b[0m     \u001b[38;5;28mself\u001b[39m\u001b[38;5;241m.\u001b[39m_stateful_fn\u001b[38;5;241m.\u001b[39m_get_concrete_function_internal_garbage_collected(  \u001b[38;5;66;03m# pylint: disable=protected-access\u001b[39;00m\n\u001b[0;32m    786\u001b[0m         \u001b[38;5;241m*\u001b[39margs, \u001b[38;5;241m*\u001b[39m\u001b[38;5;241m*\u001b[39mkwds))\n\u001b[0;32m    788\u001b[0m \u001b[38;5;28;01mdef\u001b[39;00m \u001b[38;5;21minvalid_creator_scope\u001b[39m(\u001b[38;5;241m*\u001b[39munused_args, \u001b[38;5;241m*\u001b[39m\u001b[38;5;241m*\u001b[39munused_kwds):\n\u001b[0;32m    789\u001b[0m \u001b[38;5;250m  \u001b[39m\u001b[38;5;124;03m\"\"\"Disables variable creation.\"\"\"\u001b[39;00m\n",
      "File \u001b[1;32mc:\\Users\\Bora\\AppData\\Local\\Programs\\Python\\Python310\\lib\\site-packages\\tensorflow\\python\\eager\\function.py:2523\u001b[0m, in \u001b[0;36mFunction._get_concrete_function_internal_garbage_collected\u001b[1;34m(self, *args, **kwargs)\u001b[0m\n\u001b[0;32m   2521\u001b[0m   args, kwargs \u001b[38;5;241m=\u001b[39m \u001b[38;5;28;01mNone\u001b[39;00m, \u001b[38;5;28;01mNone\u001b[39;00m\n\u001b[0;32m   2522\u001b[0m \u001b[38;5;28;01mwith\u001b[39;00m \u001b[38;5;28mself\u001b[39m\u001b[38;5;241m.\u001b[39m_lock:\n\u001b[1;32m-> 2523\u001b[0m   graph_function, _ \u001b[38;5;241m=\u001b[39m \u001b[38;5;28;43mself\u001b[39;49m\u001b[38;5;241;43m.\u001b[39;49m\u001b[43m_maybe_define_function\u001b[49m\u001b[43m(\u001b[49m\u001b[43margs\u001b[49m\u001b[43m,\u001b[49m\u001b[43m \u001b[49m\u001b[43mkwargs\u001b[49m\u001b[43m)\u001b[49m\n\u001b[0;32m   2524\u001b[0m \u001b[38;5;28;01mreturn\u001b[39;00m graph_function\n",
      "File \u001b[1;32mc:\\Users\\Bora\\AppData\\Local\\Programs\\Python\\Python310\\lib\\site-packages\\tensorflow\\python\\eager\\function.py:2760\u001b[0m, in \u001b[0;36mFunction._maybe_define_function\u001b[1;34m(self, args, kwargs)\u001b[0m\n\u001b[0;32m   2758\u001b[0m   \u001b[38;5;66;03m# Only get placeholders for arguments, not captures\u001b[39;00m\n\u001b[0;32m   2759\u001b[0m   args, kwargs \u001b[38;5;241m=\u001b[39m placeholder_dict[\u001b[38;5;124m\"\u001b[39m\u001b[38;5;124margs\u001b[39m\u001b[38;5;124m\"\u001b[39m]\n\u001b[1;32m-> 2760\u001b[0m graph_function \u001b[38;5;241m=\u001b[39m \u001b[38;5;28;43mself\u001b[39;49m\u001b[38;5;241;43m.\u001b[39;49m\u001b[43m_create_graph_function\u001b[49m\u001b[43m(\u001b[49m\u001b[43margs\u001b[49m\u001b[43m,\u001b[49m\u001b[43m \u001b[49m\u001b[43mkwargs\u001b[49m\u001b[43m)\u001b[49m\n\u001b[0;32m   2762\u001b[0m graph_capture_container \u001b[38;5;241m=\u001b[39m graph_function\u001b[38;5;241m.\u001b[39mgraph\u001b[38;5;241m.\u001b[39m_capture_func_lib  \u001b[38;5;66;03m# pylint: disable=protected-access\u001b[39;00m\n\u001b[0;32m   2763\u001b[0m \u001b[38;5;66;03m# Maintain the list of all captures\u001b[39;00m\n",
      "File \u001b[1;32mc:\\Users\\Bora\\AppData\\Local\\Programs\\Python\\Python310\\lib\\site-packages\\tensorflow\\python\\eager\\function.py:2670\u001b[0m, in \u001b[0;36mFunction._create_graph_function\u001b[1;34m(self, args, kwargs)\u001b[0m\n\u001b[0;32m   2665\u001b[0m missing_arg_names \u001b[38;5;241m=\u001b[39m [\n\u001b[0;32m   2666\u001b[0m     \u001b[38;5;124m\"\u001b[39m\u001b[38;5;132;01m%s\u001b[39;00m\u001b[38;5;124m_\u001b[39m\u001b[38;5;132;01m%d\u001b[39;00m\u001b[38;5;124m\"\u001b[39m \u001b[38;5;241m%\u001b[39m (arg, i) \u001b[38;5;28;01mfor\u001b[39;00m i, arg \u001b[38;5;129;01min\u001b[39;00m \u001b[38;5;28menumerate\u001b[39m(missing_arg_names)\n\u001b[0;32m   2667\u001b[0m ]\n\u001b[0;32m   2668\u001b[0m arg_names \u001b[38;5;241m=\u001b[39m base_arg_names \u001b[38;5;241m+\u001b[39m missing_arg_names\n\u001b[0;32m   2669\u001b[0m graph_function \u001b[38;5;241m=\u001b[39m ConcreteFunction(\n\u001b[1;32m-> 2670\u001b[0m     \u001b[43mfunc_graph_module\u001b[49m\u001b[38;5;241;43m.\u001b[39;49m\u001b[43mfunc_graph_from_py_func\u001b[49m\u001b[43m(\u001b[49m\n\u001b[0;32m   2671\u001b[0m \u001b[43m        \u001b[49m\u001b[38;5;28;43mself\u001b[39;49m\u001b[38;5;241;43m.\u001b[39;49m\u001b[43m_name\u001b[49m\u001b[43m,\u001b[49m\n\u001b[0;32m   2672\u001b[0m \u001b[43m        \u001b[49m\u001b[38;5;28;43mself\u001b[39;49m\u001b[38;5;241;43m.\u001b[39;49m\u001b[43m_python_function\u001b[49m\u001b[43m,\u001b[49m\n\u001b[0;32m   2673\u001b[0m \u001b[43m        \u001b[49m\u001b[43margs\u001b[49m\u001b[43m,\u001b[49m\n\u001b[0;32m   2674\u001b[0m \u001b[43m        \u001b[49m\u001b[43mkwargs\u001b[49m\u001b[43m,\u001b[49m\n\u001b[0;32m   2675\u001b[0m \u001b[43m        \u001b[49m\u001b[38;5;28;43mself\u001b[39;49m\u001b[38;5;241;43m.\u001b[39;49m\u001b[43minput_signature\u001b[49m\u001b[43m,\u001b[49m\n\u001b[0;32m   2676\u001b[0m \u001b[43m        \u001b[49m\u001b[43mautograph\u001b[49m\u001b[38;5;241;43m=\u001b[39;49m\u001b[38;5;28;43mself\u001b[39;49m\u001b[38;5;241;43m.\u001b[39;49m\u001b[43m_autograph\u001b[49m\u001b[43m,\u001b[49m\n\u001b[0;32m   2677\u001b[0m \u001b[43m        \u001b[49m\u001b[43mautograph_options\u001b[49m\u001b[38;5;241;43m=\u001b[39;49m\u001b[38;5;28;43mself\u001b[39;49m\u001b[38;5;241;43m.\u001b[39;49m\u001b[43m_autograph_options\u001b[49m\u001b[43m,\u001b[49m\n\u001b[0;32m   2678\u001b[0m \u001b[43m        \u001b[49m\u001b[43marg_names\u001b[49m\u001b[38;5;241;43m=\u001b[39;49m\u001b[43marg_names\u001b[49m\u001b[43m,\u001b[49m\n\u001b[0;32m   2679\u001b[0m \u001b[43m        \u001b[49m\u001b[43mcapture_by_value\u001b[49m\u001b[38;5;241;43m=\u001b[39;49m\u001b[38;5;28;43mself\u001b[39;49m\u001b[38;5;241;43m.\u001b[39;49m\u001b[43m_capture_by_value\u001b[49m\u001b[43m)\u001b[49m,\n\u001b[0;32m   2680\u001b[0m     \u001b[38;5;28mself\u001b[39m\u001b[38;5;241m.\u001b[39m_function_attributes,\n\u001b[0;32m   2681\u001b[0m     spec\u001b[38;5;241m=\u001b[39m\u001b[38;5;28mself\u001b[39m\u001b[38;5;241m.\u001b[39mfunction_spec,\n\u001b[0;32m   2682\u001b[0m     \u001b[38;5;66;03m# Tell the ConcreteFunction to clean up its graph once it goes out of\u001b[39;00m\n\u001b[0;32m   2683\u001b[0m     \u001b[38;5;66;03m# scope. This is not the default behavior since it gets used in some\u001b[39;00m\n\u001b[0;32m   2684\u001b[0m     \u001b[38;5;66;03m# places (like Keras) where the FuncGraph lives longer than the\u001b[39;00m\n\u001b[0;32m   2685\u001b[0m     \u001b[38;5;66;03m# ConcreteFunction.\u001b[39;00m\n\u001b[0;32m   2686\u001b[0m     shared_func_graph\u001b[38;5;241m=\u001b[39m\u001b[38;5;28;01mFalse\u001b[39;00m)\n\u001b[0;32m   2687\u001b[0m \u001b[38;5;28;01mreturn\u001b[39;00m graph_function\n",
      "File \u001b[1;32mc:\\Users\\Bora\\AppData\\Local\\Programs\\Python\\Python310\\lib\\site-packages\\tensorflow\\python\\framework\\func_graph.py:1153\u001b[0m, in \u001b[0;36mfunc_graph_from_py_func\u001b[1;34m(name, python_func, args, kwargs, signature, func_graph, autograph, autograph_options, add_control_dependencies, arg_names, op_return_value, collections, capture_by_value, acd_record_initial_resource_uses)\u001b[0m\n\u001b[0;32m   1150\u001b[0m \u001b[38;5;28;01melse\u001b[39;00m:\n\u001b[0;32m   1151\u001b[0m   deps_control_manager \u001b[38;5;241m=\u001b[39m ops\u001b[38;5;241m.\u001b[39mNullContextmanager()\n\u001b[1;32m-> 1153\u001b[0m \u001b[38;5;28;01mwith\u001b[39;00m func_graph\u001b[38;5;241m.\u001b[39mas_default(), deps_control_manager \u001b[38;5;28;01mas\u001b[39;00m deps_ctx:\n\u001b[0;32m   1154\u001b[0m   current_scope \u001b[38;5;241m=\u001b[39m variable_scope\u001b[38;5;241m.\u001b[39mget_variable_scope()\n\u001b[0;32m   1155\u001b[0m   default_use_resource \u001b[38;5;241m=\u001b[39m current_scope\u001b[38;5;241m.\u001b[39muse_resource\n",
      "File \u001b[1;32mc:\\Users\\Bora\\AppData\\Local\\Programs\\Python\\Python310\\lib\\site-packages\\tensorflow\\python\\framework\\auto_control_deps.py:433\u001b[0m, in \u001b[0;36mAutomaticControlDependencies.__exit__\u001b[1;34m(self, unused_type, unused_value, unused_traceback)\u001b[0m\n\u001b[0;32m    426\u001b[0m   \u001b[38;5;28;01mcontinue\u001b[39;00m\n\u001b[0;32m    428\u001b[0m \u001b[38;5;66;03m# Ensure stateful ops run.\u001b[39;00m\n\u001b[0;32m    429\u001b[0m \u001b[38;5;66;03m# Read-only ops are added to control outputs if the read value is\u001b[39;00m\n\u001b[0;32m    430\u001b[0m \u001b[38;5;66;03m# consumed. This covers the case when the read value is returned from\u001b[39;00m\n\u001b[0;32m    431\u001b[0m \u001b[38;5;66;03m# the function since that goes through a tf.identity in mark_as_return.\u001b[39;00m\n\u001b[0;32m    432\u001b[0m \u001b[38;5;28;01mif\u001b[39;00m ((op_def_registry\u001b[38;5;241m.\u001b[39mget(op\u001b[38;5;241m.\u001b[39mtype) \u001b[38;5;129;01mis\u001b[39;00m \u001b[38;5;28;01mNone\u001b[39;00m) \u001b[38;5;129;01mor\u001b[39;00m\n\u001b[1;32m--> 433\u001b[0m     (\u001b[43mop_is_stateful\u001b[49m\u001b[43m(\u001b[49m\u001b[43mop\u001b[49m\u001b[43m)\u001b[49m \u001b[38;5;129;01mand\u001b[39;00m\n\u001b[0;32m    434\u001b[0m      (op\u001b[38;5;241m.\u001b[39mtype \u001b[38;5;129;01mnot\u001b[39;00m \u001b[38;5;129;01min\u001b[39;00m utils\u001b[38;5;241m.\u001b[39mRESOURCE_READ_OPS \u001b[38;5;129;01mor\u001b[39;00m\n\u001b[0;32m    435\u001b[0m       \u001b[38;5;28many\u001b[39m(output\u001b[38;5;241m.\u001b[39mconsumers() \u001b[38;5;28;01mfor\u001b[39;00m output \u001b[38;5;129;01min\u001b[39;00m op\u001b[38;5;241m.\u001b[39moutputs)))):\n\u001b[0;32m    436\u001b[0m   ops_which_must_run\u001b[38;5;241m.\u001b[39madd(op)\n\u001b[0;32m    438\u001b[0m \u001b[38;5;66;03m# Make a note of all opened manager_ids.\u001b[39;00m\n",
      "File \u001b[1;32mc:\\Users\\Bora\\AppData\\Local\\Programs\\Python\\Python310\\lib\\site-packages\\tensorflow\\python\\framework\\auto_control_deps.py:149\u001b[0m, in \u001b[0;36mop_is_stateful\u001b[1;34m(op)\u001b[0m\n\u001b[0;32m    143\u001b[0m \u001b[38;5;28;01mdef\u001b[39;00m \u001b[38;5;21mop_is_stateful\u001b[39m(op):\n\u001b[0;32m    144\u001b[0m   \u001b[38;5;66;03m# pylint: disable=protected-access\u001b[39;00m\n\u001b[0;32m    145\u001b[0m   ret \u001b[38;5;241m=\u001b[39m ((op\u001b[38;5;241m.\u001b[39m_is_stateful \u001b[38;5;129;01mand\u001b[39;00m\n\u001b[0;32m    146\u001b[0m           ((op\u001b[38;5;241m.\u001b[39mtype \u001b[38;5;129;01mnot\u001b[39;00m \u001b[38;5;129;01min\u001b[39;00m ASYNC_STATEFUL_OPS) \u001b[38;5;129;01mand\u001b[39;00m\n\u001b[0;32m    147\u001b[0m            (op\u001b[38;5;241m.\u001b[39mtype \u001b[38;5;129;01mnot\u001b[39;00m \u001b[38;5;129;01min\u001b[39;00m LEGACY_RANDOM_OPS) \u001b[38;5;129;01mand\u001b[39;00m\n\u001b[0;32m    148\u001b[0m            (op\u001b[38;5;241m.\u001b[39mtype \u001b[38;5;129;01mnot\u001b[39;00m \u001b[38;5;129;01min\u001b[39;00m SKIPPED_ORDER_INSENSITIVE_STATEFUL_OPS))) \u001b[38;5;129;01mor\u001b[39;00m\n\u001b[1;32m--> 149\u001b[0m          (\u001b[43mop\u001b[49m\u001b[38;5;241;43m.\u001b[39;49m\u001b[43mtype\u001b[49m \u001b[38;5;129;01min\u001b[39;00m _ALLOWLIST_STATELESS_OPS))\n\u001b[0;32m    150\u001b[0m   \u001b[38;5;28;01mreturn\u001b[39;00m ret\n",
      "File \u001b[1;32mc:\\Users\\Bora\\AppData\\Local\\Programs\\Python\\Python310\\lib\\site-packages\\tensorflow\\python\\framework\\ops.py:2583\u001b[0m, in \u001b[0;36mOperation.type\u001b[1;34m(self)\u001b[0m\n\u001b[0;32m   2580\u001b[0m \u001b[38;5;129m@property\u001b[39m\n\u001b[0;32m   2581\u001b[0m \u001b[38;5;28;01mdef\u001b[39;00m \u001b[38;5;21mtype\u001b[39m(\u001b[38;5;28mself\u001b[39m):\n\u001b[0;32m   2582\u001b[0m \u001b[38;5;250m  \u001b[39m\u001b[38;5;124;03m\"\"\"The type of the op (e.g. `\"MatMul\"`).\"\"\"\u001b[39;00m\n\u001b[1;32m-> 2583\u001b[0m   \u001b[38;5;28;01mreturn\u001b[39;00m \u001b[43mpywrap_tf_session\u001b[49m\u001b[38;5;241;43m.\u001b[39;49m\u001b[43mTF_OperationOpType\u001b[49m\u001b[43m(\u001b[49m\u001b[38;5;28;43mself\u001b[39;49m\u001b[38;5;241;43m.\u001b[39;49m\u001b[43m_c_op\u001b[49m\u001b[43m)\u001b[49m\n",
      "\u001b[1;31mKeyboardInterrupt\u001b[0m: "
     ]
    }
   ],
   "source": [
    "study = optuna.create_study(direction='minimize')  # or 'minimize' depending on your objective\n",
    "study.optimize(objective, n_trials=2000)  # You can adjust the number of trials\n",
    "\n",
    "# Print the best hyperparameters\n",
    "print('Best hyperparameters:', study.best_params)"
   ]
  },
  {
   "cell_type": "code",
   "execution_count": 229,
   "metadata": {},
   "outputs": [
    {
     "data": {
      "text/plain": [
       "{'learning_rate': 0.04083201137925403,\n",
       " 'units1': 73,\n",
       " 'batch_size': 7,\n",
       " 'activation1': 'relu',\n",
       " 'optimizer': 'adam',\n",
       " 'rlrate': 0.5037918130776907}"
      ]
     },
     "execution_count": 229,
     "metadata": {},
     "output_type": "execute_result"
    }
   ],
   "source": [
    "study.best_params"
   ]
  },
  {
   "cell_type": "code",
   "execution_count": 230,
   "metadata": {},
   "outputs": [
    {
     "name": "stdout",
     "output_type": "stream",
     "text": [
      "Epoch 1/100\n",
      "5/5 [==============================] - 1s 59ms/step - loss: 7.3429 - mean_squared_error: 1.5859 - val_loss: 3.9835 - val_mean_squared_error: 0.5226\n",
      "Epoch 2/100\n",
      "5/5 [==============================] - 0s 13ms/step - loss: 3.4392 - mean_squared_error: 0.7761 - val_loss: 1.6142 - val_mean_squared_error: 0.0308\n",
      "1/1 [==============================] - 0s 59ms/step\n"
     ]
    }
   ],
   "source": [
    "keras.utils.set_random_seed(42)\n",
    "early_stopping = EarlyStopping(monitor='val_loss', patience=0, restore_best_weights=True)\n",
    "model = Sequential()   \n",
    "model.add(Dense(units=73,activation='relu',input_dim=(X_train.shape[1]),kernel_regularizer=l2(0.5037918130776907)))\n",
    "model.add(Dense(units=1))\n",
    "optimizer = tf.keras.optimizers.Adam(learning_rate=0.04083201137925403)\n",
    "model.compile(optimizer=optimizer, loss='mse', metrics=['mean_squared_error'])\n",
    "history=model.fit(X_train, y_train, epochs=100, batch_size=7,callbacks=[early_stopping],verbose=1,validation_data=(X_val,y_val))\n",
    "y_pred = model.predict(X_test)"
   ]
  },
  {
   "cell_type": "code",
   "execution_count": 233,
   "metadata": {},
   "outputs": [
    {
     "name": "stdout",
     "output_type": "stream",
     "text": [
      "1/1 [==============================] - 0s 23ms/step\n"
     ]
    },
    {
     "data": {
      "text/html": [
       "<div>\n",
       "<style scoped>\n",
       "    .dataframe tbody tr th:only-of-type {\n",
       "        vertical-align: middle;\n",
       "    }\n",
       "\n",
       "    .dataframe tbody tr th {\n",
       "        vertical-align: top;\n",
       "    }\n",
       "\n",
       "    .dataframe thead th {\n",
       "        text-align: right;\n",
       "    }\n",
       "</style>\n",
       "<table border=\"1\" class=\"dataframe\">\n",
       "  <thead>\n",
       "    <tr style=\"text-align: right;\">\n",
       "      <th></th>\n",
       "      <th>TÜFE</th>\n",
       "    </tr>\n",
       "  </thead>\n",
       "  <tbody>\n",
       "    <tr>\n",
       "      <th>2022-03-31</th>\n",
       "      <td>0.37</td>\n",
       "    </tr>\n",
       "    <tr>\n",
       "      <th>2022-06-30</th>\n",
       "      <td>0.71</td>\n",
       "    </tr>\n",
       "    <tr>\n",
       "      <th>2022-09-30</th>\n",
       "      <td>0.63</td>\n",
       "    </tr>\n",
       "    <tr>\n",
       "      <th>2022-12-31</th>\n",
       "      <td>0.88</td>\n",
       "    </tr>\n",
       "    <tr>\n",
       "      <th>2023-03-31</th>\n",
       "      <td>0.65</td>\n",
       "    </tr>\n",
       "    <tr>\n",
       "      <th>2023-06-30</th>\n",
       "      <td>2.90</td>\n",
       "    </tr>\n",
       "    <tr>\n",
       "      <th>2023-09-30</th>\n",
       "      <td>1.00</td>\n",
       "    </tr>\n",
       "    <tr>\n",
       "      <th>2023-12-31</th>\n",
       "      <td>0.93</td>\n",
       "    </tr>\n",
       "    <tr>\n",
       "      <th>2024-03-31</th>\n",
       "      <td>1.95</td>\n",
       "    </tr>\n",
       "  </tbody>\n",
       "</table>\n",
       "</div>"
      ],
      "text/plain": [
       "            TÜFE\n",
       "2022-03-31  0.37\n",
       "2022-06-30  0.71\n",
       "2022-09-30  0.63\n",
       "2022-12-31  0.88\n",
       "2023-03-31  0.65\n",
       "2023-06-30  2.90\n",
       "2023-09-30  1.00\n",
       "2023-12-31  0.93\n",
       "2024-03-31  1.95"
      ]
     },
     "execution_count": 233,
     "metadata": {},
     "output_type": "execute_result"
    }
   ],
   "source": [
    "pred=scaler.inverse_transform(model.predict(np.array(scaled_data.iloc[-9:,:-1])))\n",
    "pred=pd.DataFrame(pred)\n",
    "pred.columns=[\"TÜFE\"]\n",
    "pred=pred.set_index(pd.date_range(start=\"2022-03-31\",periods=len(pred),freq=\"Q\"))\n",
    "pred"
   ]
  },
  {
   "cell_type": "code",
   "execution_count": 234,
   "metadata": {},
   "outputs": [
    {
     "data": {
      "text/html": [
       "<div>\n",
       "<style scoped>\n",
       "    .dataframe tbody tr th:only-of-type {\n",
       "        vertical-align: middle;\n",
       "    }\n",
       "\n",
       "    .dataframe tbody tr th {\n",
       "        vertical-align: top;\n",
       "    }\n",
       "\n",
       "    .dataframe thead th {\n",
       "        text-align: right;\n",
       "    }\n",
       "</style>\n",
       "<table border=\"1\" class=\"dataframe\">\n",
       "  <thead>\n",
       "    <tr style=\"text-align: right;\">\n",
       "      <th></th>\n",
       "      <th>Büyüme</th>\n",
       "      <th>Tahmin</th>\n",
       "    </tr>\n",
       "  </thead>\n",
       "  <tbody>\n",
       "    <tr>\n",
       "      <th>2022-03-31</th>\n",
       "      <td>0.21</td>\n",
       "      <td>0.37</td>\n",
       "    </tr>\n",
       "    <tr>\n",
       "      <th>2022-06-30</th>\n",
       "      <td>1.41</td>\n",
       "      <td>0.71</td>\n",
       "    </tr>\n",
       "    <tr>\n",
       "      <th>2022-09-30</th>\n",
       "      <td>0.54</td>\n",
       "      <td>0.63</td>\n",
       "    </tr>\n",
       "    <tr>\n",
       "      <th>2022-12-31</th>\n",
       "      <td>1.15</td>\n",
       "      <td>0.88</td>\n",
       "    </tr>\n",
       "    <tr>\n",
       "      <th>2023-03-31</th>\n",
       "      <td>-0.16</td>\n",
       "      <td>0.65</td>\n",
       "    </tr>\n",
       "    <tr>\n",
       "      <th>2023-06-30</th>\n",
       "      <td>3.61</td>\n",
       "      <td>2.90</td>\n",
       "    </tr>\n",
       "    <tr>\n",
       "      <th>2023-09-30</th>\n",
       "      <td>0.31</td>\n",
       "      <td>1.00</td>\n",
       "    </tr>\n",
       "    <tr>\n",
       "      <th>2023-12-31</th>\n",
       "      <td>0.95</td>\n",
       "      <td>0.93</td>\n",
       "    </tr>\n",
       "    <tr>\n",
       "      <th>2024-03-31</th>\n",
       "      <td>0.00</td>\n",
       "      <td>1.95</td>\n",
       "    </tr>\n",
       "  </tbody>\n",
       "</table>\n",
       "</div>"
      ],
      "text/plain": [
       "            Büyüme  Tahmin\n",
       "2022-03-31    0.21    0.37\n",
       "2022-06-30    1.41    0.71\n",
       "2022-09-30    0.54    0.63\n",
       "2022-12-31    1.15    0.88\n",
       "2023-03-31   -0.16    0.65\n",
       "2023-06-30    3.61    2.90\n",
       "2023-09-30    0.31    1.00\n",
       "2023-12-31    0.95    0.93\n",
       "2024-03-31    0.00    1.95"
      ]
     },
     "execution_count": 234,
     "metadata": {},
     "output_type": "execute_result"
    }
   ],
   "source": [
    "tahminler=pd.DataFrame()\n",
    "tahminler[\"Büyüme\"]=data[\"Büyüme\"].iloc[-9:]\n",
    "tahminler[\"Tahmin\"]=pred[\"TÜFE\"]\n",
    "tahminler"
   ]
  },
  {
   "cell_type": "markdown",
   "metadata": {},
   "source": [
    "## Yıllık büyüme tahmini:%6.98"
   ]
  },
  {
   "cell_type": "code",
   "execution_count": 251,
   "metadata": {},
   "outputs": [
    {
     "data": {
      "text/plain": [
       "<matplotlib.legend.Legend at 0x1be92e3a7a0>"
      ]
     },
     "execution_count": 251,
     "metadata": {},
     "output_type": "execute_result"
    },
    {
     "data": {
      "image/png": "[encoded data removed]",
      "text/plain": [
       "<Figure size 1200x800 with 1 Axes>"
      ]
     },
     "metadata": {},
     "output_type": "display_data"
    }
   ],
   "source": [
    "plt.figure(figsize=(12,8))\n",
    "plt.title(\"Türkiye GSYİH Çeyreklik Büyüme Tahmini\")\n",
    "plt.plot(tahminler[\"Büyüme\"][:-1],label=\"Büyüme(%)\")\n",
    "plt.plot(tahminler[\"Tahmin\"][:-1],label=\"Tahmin(%)\")\n",
    "plt.plot(tahminler[\"Tahmin\"].iloc[-2:],\"--\",label=\"Tahmin\",color=\"red\",alpha=0.5)\n",
    "plt.scatter(x=tahminler.index[-1],y=tahminler[\"Tahmin\"][-1],color=\"black\",s=50,zorder=3)\n",
    "plt.legend()"
   ]
  }
 ],
 "metadata": {
  "kernelspec": {
   "display_name": "Python 3",
   "language": "python",
   "name": "python3"
  },
  "language_info": {
   "codemirror_mode": {
    "name": "ipython",
    "version": 3
   },
   "file_extension": ".py",
   "mimetype": "text/x-python",
   "name": "python",
   "nbconvert_exporter": "python",
   "pygments_lexer": "ipython3",
   "version": "3.10.0rc2"
  }
 },
 "nbformat": 4,
 "nbformat_minor": 2
}
